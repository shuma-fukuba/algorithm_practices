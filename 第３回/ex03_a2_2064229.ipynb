{
 "cells": [
  {
   "cell_type": "code",
   "execution_count": 20,
   "metadata": {},
   "outputs": [],
   "source": [
    "scores = [76, 98, 80, 69, 49, 88, 71, 66, 82, 100]"
   ]
  },
  {
   "cell_type": "code",
   "execution_count": 21,
   "metadata": {},
   "outputs": [],
   "source": [
    "for i in range(len(scores)):\n",
    "    if scores[i] >= 90:\n",
    "        scores[i] = 'S'\n",
    "    elif scores[i] >= 80:\n",
    "        scores[i] = 'A'\n",
    "    elif scores[i] >= 70:\n",
    "        scores[i] = 'B'\n",
    "    elif scores[i] >= 60:\n",
    "        scores[i] = 'C'\n",
    "    else:\n",
    "        scores[i] = 'F'"
   ]
  },
  {
   "cell_type": "code",
   "execution_count": 22,
   "metadata": {},
   "outputs": [
    {
     "name": "stdout",
     "output_type": "stream",
     "text": [
      "['B', 'S', 'A', 'C', 'F', 'A', 'B', 'C', 'A', 'S']\n"
     ]
    }
   ],
   "source": [
    "print(scores)"
   ]
  },
  {
   "cell_type": "code",
   "execution_count": null,
   "metadata": {},
   "outputs": [],
   "source": []
  }
 ],
 "metadata": {
  "kernelspec": {
   "display_name": "Python 3",
   "language": "python",
   "name": "python3"
  },
  "language_info": {
   "codemirror_mode": {
    "name": "ipython",
    "version": 3
   },
   "file_extension": ".py",
   "mimetype": "text/x-python",
   "name": "python",
   "nbconvert_exporter": "python",
   "pygments_lexer": "ipython3",
   "version": "3.7.6"
  }
 },
 "nbformat": 4,
 "nbformat_minor": 4
}
