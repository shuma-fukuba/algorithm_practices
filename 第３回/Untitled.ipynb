{
 "cells": [
  {
   "cell_type": "code",
   "execution_count": 5,
   "metadata": {},
   "outputs": [],
   "source": [
    "def main():\n",
    "    global a \n",
    "    a += 1\n",
    "    b = 3\n",
    "    print(\"main: a == {:d}, b == {:d}\".format(a,b))\n",
    "    def sub():\n",
    "        a = 2\n",
    "        print(\"main: sub: a == {:d}, b == {:d}\".format(a,b))\n",
    "        print(\"main: sub: f(a) == {:d}\".format(f(a)))\n",
    "        \n",
    "    sub()\n",
    "    print(\"main: a == {:d}, b == {:d}\".format(a,b))\n",
    "    \n",
    "def f(b:int) ->int:\n",
    "    global a\n",
    "    print(\"f: a == {:d}, b == {:d}\".format(a,b))\n",
    "    b += a\n",
    "    a += 5\n",
    "    print(\"f: a == {:d}, b == {:d}\".format(a,b))\n",
    "    return b"
   ]
  },
  {
   "cell_type": "code",
   "execution_count": 6,
   "metadata": {},
   "outputs": [
    {
     "name": "stdout",
     "output_type": "stream",
     "text": [
      "main: a == 4, b == 3\n",
      "main: sub: a == 2, b == 3\n",
      "f: a == 4, b == 2\n",
      "f: a == 9, b == 6\n",
      "main: sub: f(a) == 6\n",
      "main: a == 9, b == 3\n"
     ]
    }
   ],
   "source": [
    "a = 3\n",
    "main()"
   ]
  },
  {
   "cell_type": "code",
   "execution_count": 7,
   "metadata": {},
   "outputs": [
    {
     "name": "stdout",
     "output_type": "stream",
     "text": [
      "main: a == 10, b == 3\n",
      "main: sub: a == 2, b == 3\n",
      "f: a == 10, b == 2\n",
      "f: a == 15, b == 12\n",
      "main: sub: f(a) == 12\n",
      "main: a == 15, b == 3\n"
     ]
    }
   ],
   "source": [
    "main()"
   ]
  },
  {
   "cell_type": "code",
   "execution_count": 2,
   "metadata": {},
   "outputs": [],
   "source": [
    "def test(*args):\n",
    "    for i in args:\n",
    "        print(i)"
   ]
  },
  {
   "cell_type": "code",
   "execution_count": 3,
   "metadata": {},
   "outputs": [
    {
     "name": "stdout",
     "output_type": "stream",
     "text": [
      "('apple', 'banana', 'orange')\n"
     ]
    }
   ],
   "source": [
    "tuple_list = ('apple', 'banana', 'orange')\n",
    "test(tuple_list)"
   ]
  },
  {
   "cell_type": "code",
   "execution_count": 12,
   "metadata": {},
   "outputs": [
    {
     "name": "stdout",
     "output_type": "stream",
     "text": [
      "(3, 6, 5, 7)\n"
     ]
    }
   ],
   "source": [
    "lists = (3,6,5,7)\n",
    "test(lists)"
   ]
  },
  {
   "cell_type": "code",
   "execution_count": 13,
   "metadata": {},
   "outputs": [],
   "source": [
    "def sum(*args):\n",
    "    sum = 0\n",
    "    for i in args:\n",
    "        print(type(i))"
   ]
  },
  {
   "cell_type": "code",
   "execution_count": 14,
   "metadata": {},
   "outputs": [
    {
     "name": "stdout",
     "output_type": "stream",
     "text": [
      "<class 'tuple'>\n"
     ]
    }
   ],
   "source": [
    "sum(lists)"
   ]
  },
  {
   "cell_type": "code",
   "execution_count": null,
   "metadata": {},
   "outputs": [],
   "source": []
  }
 ],
 "metadata": {
  "kernelspec": {
   "display_name": "Python 3",
   "language": "python",
   "name": "python3"
  },
  "language_info": {
   "codemirror_mode": {
    "name": "ipython",
    "version": 3
   },
   "file_extension": ".py",
   "mimetype": "text/x-python",
   "name": "python",
   "nbconvert_exporter": "python",
   "pygments_lexer": "ipython3",
   "version": "3.7.6"
  }
 },
 "nbformat": 4,
 "nbformat_minor": 4
}
