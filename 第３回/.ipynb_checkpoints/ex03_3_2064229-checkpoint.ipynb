{
 "cells": [
  {
   "cell_type": "code",
   "execution_count": null,
   "metadata": {},
   "outputs": [],
   "source": [
    "import math"
   ]
  },
  {
   "cell_type": "code",
   "execution_count": null,
   "metadata": {},
   "outputs": [],
   "source": [
    "def main():\n",
    "    x = ()\n",
    "    y = ()\n",
    "    xy = 0\n",
    "    x[0] = int(input(\"x1=: \"))\n",
    "    x[1] = int(input(\"x2=: \"))\n",
    "    x[2] = int(input(\"x3=: \"))\n",
    "    \n",
    "    y[0] = int(input('y1=: '))\n",
    "    y[1] = int(input('y2=: '))\n",
    "    y[2] = int(input('y3=: '))\n",
    "\n",
    "    for i in range(3):\n",
    "        xy += x[i] * y[i]\n",
    "    mgx = (x[0] ** 2 + x[1] ** 2 + x[2] ** 2) ** 0.5\n",
    "    mgy = (y[0] ** 2 + y[1] ** 2 + y[2] ** 2) ** 0.5\n",
    "    ag = math.acos(xy/(mgx*mgy))\n",
    "    print(trans(ag))"
   ]
  },
  {
   "cell_type": "code",
   "execution_count": null,
   "metadata": {},
   "outputs": [],
   "source": [
    "main()"
   ]
  },
  {
   "cell_type": "code",
   "execution_count": null,
   "metadata": {},
   "outputs": [],
   "source": []
  },
  {
   "cell_type": "markdown",
   "metadata": {},
   "source": []
  }
 ],
 "metadata": {
  "kernelspec": {
   "display_name": "Python 3",
   "language": "python",
   "name": "python3"
  },
  "language_info": {
   "codemirror_mode": {
    "name": "ipython",
    "version": 3
   },
   "file_extension": ".py",
   "mimetype": "text/x-python",
   "name": "python",
   "nbconvert_exporter": "python",
   "pygments_lexer": "ipython3",
   "version": "3.7.6"
  }
 },
 "nbformat": 4,
 "nbformat_minor": 4
}
