{
 "cells": [
  {
   "cell_type": "code",
   "execution_count": null,
   "metadata": {},
   "outputs": [],
   "source": [
    "def main():\n",
    "    global previous, previous_result\n",
    "    previous = 0\n",
    "    previous_result = 0\n",
    "    \n",
    "    def sqsum(x):\n",
    "        result = 0\n",
    "        if previous == x:\n",
    "            print('previous call')\n",
    "            return previous_result\n",
    "        else:\n",
    "            for i in range(x+1):\n",
    "                result += i ** 2\n",
    "            previous = x\n",
    "            previous_result = sqsum(x)\n",
    "            return result\n",
    "        \n",
    "    x = 1\n",
    "    while x >= 0:\n",
    "        x = int(input('n=: '))\n",
    "        print(sqsum(x))"
   ]
  },
  {
   "cell_type": "code",
   "execution_count": null,
   "metadata": {},
   "outputs": [],
   "source": [
    "main()"
   ]
  },
  {
   "cell_type": "markdown",
   "metadata": {},
   "source": []
  },
  {
   "cell_type": "code",
   "execution_count": null,
   "metadata": {},
   "outputs": [],
   "source": []
  }
 ],
 "metadata": {
  "kernelspec": {
   "display_name": "Python 3",
   "language": "python",
   "name": "python3"
  },
  "language_info": {
   "codemirror_mode": {
    "name": "ipython",
    "version": 3
   },
   "file_extension": ".py",
   "mimetype": "text/x-python",
   "name": "python",
   "nbconvert_exporter": "python",
   "pygments_lexer": "ipython3",
   "version": "3.7.6"
  }
 },
 "nbformat": 4,
 "nbformat_minor": 4
}
