{
 "cells": [
  {
   "cell_type": "code",
   "execution_count": 9,
   "metadata": {},
   "outputs": [],
   "source": [
    "import csv\r\n",
    "\r\n",
    "\r\n",
    "class Student:\r\n",
    "    def __init__(self, num:int, name:str, score:int):\r\n",
    "        self.num = '{:4d}'.format(int(num))\r\n",
    "        self.name = '{:16s}'.format(name)\r\n",
    "        self.score = '{:3d}'.format(int(score))\r\n",
    "\r\n",
    "\r\n",
    "data1 = 'data_8.csv'\r\n",
    "data2 = 'data_288.csv'\r\n",
    "data3 = 'data_2240.csv'\r\n",
    "\r\n",
    "\r\n",
    "def print_csv(data):\r\n",
    "    with open(data) as f:\r\n",
    "        for row in csv.reader(f):\r\n",
    "            num = row[0]\r\n",
    "            name = row[1]\r\n",
    "            score = row[2]\r\n",
    "            student = Student(num, name, score)\r\n",
    "            print('{:4d}'.format(int(student.num)), end=\" \")\r\n",
    "            print('{:16s}'.format(student.name), end=\" \")\r\n",
    "            print('{:3d}'.format(int(student.score)))\r\n",
    "        f.close()"
   ]
  },
  {
   "cell_type": "code",
   "execution_count": null,
   "metadata": {},
   "outputs": [],
   "source": []
  },
  {
   "cell_type": "code",
   "execution_count": null,
   "metadata": {},
   "outputs": [],
   "source": [
    "class LinkedList:\r\n",
    "    def __init__(self):\r\n",
    "        self.top = Student(0, None, None)\r\n",
    "\r\n",
    "\r\n",
    "    def insert(self, num:int, name, score:int):\r\n",
    "        front = self.top\r\n",
    "        rear = front.next\r\n",
    "        while rear and num < rear.num:\r\n",
    "            front = rear\r\n",
    "            rear = rear.next\r\n",
    "        cell = Student(num, name, score)\r\n",
    "        cell.next = rear\r\n",
    "        front.next = cell\r\n",
    "\r\n",
    "    def show(self):\r\n",
    "        p = self.top.next\r\n",
    "        while p:\r\n",
    "            print('{:4d}'.format(int(p.num)), end=\" \")\r\n",
    "            print('{:16s}'.format(p.name), end=\" \")\r\n",
    "            print('{:3d}'.format(int(p.score)))\r\n",
    "            p = p.next\r\n",
    "\r\n",
    "    def merge_list(self, a, b):\r\n",
    "        head = Student(0, None, 0)\r\n",
    "        p = head\r\n",
    "        while a and b:\r\n",
    "            if a.score <= b.score:\r\n",
    "                p.next = a\r\n",
    "                p = a\r\n",
    "                a = a.next\r\n",
    "            else:\r\n",
    "                p.next = b\r\n",
    "                p = b\r\n",
    "                b = b.next\r\n",
    "        if not a:\r\n",
    "            p.next = b\r\n",
    "        else:\r\n",
    "            p.next = a\r\n",
    "        return head.next\r\n",
    "\r\n",
    "    def merge_sort_sub(self, node):\r\n",
    "        if not node or not node.next:\r\n",
    "            return node\r\n",
    "        a = node\r\n",
    "        b = node.next\r\n",
    "        if b:\r\n",
    "            b = b.next\r\n",
    "        while b:\r\n",
    "            a = a.next\r\n",
    "            b = b.next\r\n",
    "            if b:\r\n",
    "                b = b.next\r\n",
    "        p = a.next\r\n",
    "        a.next = None\r\n",
    "        return self.merge_list(self.merge_sort_sub(node), self.merge_sort_sub(p))\r\n",
    "\r\n",
    "    def merge_sort(self):\r\n",
    "        self.top = self.merge_sort_sub(self.top)"
   ]
  },
  {
   "cell_type": "code",
   "execution_count": 12,
   "metadata": {},
   "outputs": [],
   "source": [
    "def merge(array, mid:int):\n",
    "    if mid > 1:\n",
    "        left = merge(array[:(mid/2)])\n",
    "        right = merge(array[(mid/2):])\n",
    "        array = []\n",
    "        while len(left) != 0 and len(right) != 0:\n",
    "            if left[0] < right[0]:\n",
    "                array.append(left.pop(0))\n",
    "            else:\n",
    "                array.append(right.pop(0))\n",
    "        if len(left) != 0:\n",
    "            array.extend(left)\n",
    "        elif len(right) != 0:\n",
    "            array.extend(right) \n",
    "    return array          "
   ]
  },
  {
   "cell_type": "code",
   "execution_count": 13,
   "metadata": {},
   "outputs": [
    {
     "ename": "TypeError",
     "evalue": "slice indices must be integers or None or have an __index__ method",
     "output_type": "error",
     "traceback": [
      "\u001b[1;31m---------------------------------------------------------------------------\u001b[0m",
      "\u001b[1;31mTypeError\u001b[0m                                 Traceback (most recent call last)",
      "\u001b[1;32m<ipython-input-13-443482a4feb7>\u001b[0m in \u001b[0;36m<module>\u001b[1;34m\u001b[0m\n\u001b[1;32m----> 1\u001b[1;33m \u001b[0mmerge\u001b[0m\u001b[1;33m(\u001b[0m\u001b[0mdata1\u001b[0m\u001b[1;33m,\u001b[0m \u001b[1;36m8\u001b[0m\u001b[1;33m)\u001b[0m\u001b[1;33m\u001b[0m\u001b[1;33m\u001b[0m\u001b[0m\n\u001b[0m",
      "\u001b[1;32m<ipython-input-12-0ea0982859e8>\u001b[0m in \u001b[0;36mmerge\u001b[1;34m(array, mid)\u001b[0m\n\u001b[0;32m      1\u001b[0m \u001b[1;32mdef\u001b[0m \u001b[0mmerge\u001b[0m\u001b[1;33m(\u001b[0m\u001b[0marray\u001b[0m\u001b[1;33m,\u001b[0m \u001b[0mmid\u001b[0m\u001b[1;33m:\u001b[0m\u001b[0mint\u001b[0m\u001b[1;33m)\u001b[0m\u001b[1;33m:\u001b[0m\u001b[1;33m\u001b[0m\u001b[1;33m\u001b[0m\u001b[0m\n\u001b[0;32m      2\u001b[0m     \u001b[1;32mif\u001b[0m \u001b[0mmid\u001b[0m \u001b[1;33m>\u001b[0m \u001b[1;36m1\u001b[0m\u001b[1;33m:\u001b[0m\u001b[1;33m\u001b[0m\u001b[1;33m\u001b[0m\u001b[0m\n\u001b[1;32m----> 3\u001b[1;33m         \u001b[0mleft\u001b[0m \u001b[1;33m=\u001b[0m \u001b[0mmerge\u001b[0m\u001b[1;33m(\u001b[0m\u001b[0marray\u001b[0m\u001b[1;33m[\u001b[0m\u001b[1;33m:\u001b[0m\u001b[1;33m(\u001b[0m\u001b[0mmid\u001b[0m\u001b[1;33m/\u001b[0m\u001b[1;36m2\u001b[0m\u001b[1;33m)\u001b[0m\u001b[1;33m]\u001b[0m\u001b[1;33m)\u001b[0m\u001b[1;33m\u001b[0m\u001b[1;33m\u001b[0m\u001b[0m\n\u001b[0m\u001b[0;32m      4\u001b[0m         \u001b[0mright\u001b[0m \u001b[1;33m=\u001b[0m \u001b[0mmerge\u001b[0m\u001b[1;33m(\u001b[0m\u001b[0marray\u001b[0m\u001b[1;33m[\u001b[0m\u001b[1;33m(\u001b[0m\u001b[0mmid\u001b[0m\u001b[1;33m/\u001b[0m\u001b[1;36m2\u001b[0m\u001b[1;33m)\u001b[0m\u001b[1;33m:\u001b[0m\u001b[1;33m]\u001b[0m\u001b[1;33m)\u001b[0m\u001b[1;33m\u001b[0m\u001b[1;33m\u001b[0m\u001b[0m\n\u001b[0;32m      5\u001b[0m         \u001b[0marray\u001b[0m \u001b[1;33m=\u001b[0m \u001b[1;33m[\u001b[0m\u001b[1;33m]\u001b[0m\u001b[1;33m\u001b[0m\u001b[1;33m\u001b[0m\u001b[0m\n",
      "\u001b[1;31mTypeError\u001b[0m: slice indices must be integers or None or have an __index__ method"
     ]
    }
   ],
   "source": [
    "merge(data1, 8)"
   ]
  },
  {
   "cell_type": "code",
   "execution_count": null,
   "metadata": {},
   "outputs": [],
   "source": []
  }
 ],
 "metadata": {
  "interpreter": {
   "hash": "1215578185007176f22ab61f9a6c70bda1b2e3219f7f90b26df9d7e5ba7b5384"
  },
  "kernelspec": {
   "display_name": "Python 3.9.2 64-bit ('my_django_environment': conda)",
   "name": "python3"
  },
  "language_info": {
   "name": "python",
   "version": ""
  },
  "orig_nbformat": 4
 },
 "nbformat": 4,
 "nbformat_minor": 2
}