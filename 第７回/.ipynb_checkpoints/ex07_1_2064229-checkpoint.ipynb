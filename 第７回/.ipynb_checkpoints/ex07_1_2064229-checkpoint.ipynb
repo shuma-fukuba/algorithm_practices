{
 "metadata": {
  "language_info": {
   "codemirror_mode": {
    "name": "ipython",
    "version": 3
   },
   "file_extension": ".py",
   "mimetype": "text/x-python",
   "name": "python",
   "nbconvert_exporter": "python",
   "pygments_lexer": "ipython3",
   "version": "3.7.6"
  },
  "orig_nbformat": 2,
  "kernelspec": {
   "name": "python376jvsc74a57bd04e9d0c9023791c00d461768debe42cb8d4f7ee10b618a3c4b57dfa37c6faa26d",
   "display_name": "Python 3.7.6 64-bit ('base': conda)"
  }
 },
 "nbformat": 4,
 "nbformat_minor": 2,
 "cells": [
  {
   "cell_type": "code",
   "execution_count": 29,
   "metadata": {},
   "outputs": [],
   "source": [
    "import csv"
   ]
  },
  {
   "cell_type": "code",
   "execution_count": 43,
   "metadata": {},
   "outputs": [],
   "source": [
    "class Student:\n",
    "    def __init__(self, num:int, name:str, score:int):\n",
    "        self.num = '{:4d}'.format(int(num))\n",
    "        self.name = '{:16s}'.format(name)\n",
    "        self.score = '{:3d}'.format(int(score))"
   ]
  },
  {
   "cell_type": "code",
   "execution_count": 44,
   "metadata": {},
   "outputs": [],
   "source": [
    "data1 = 'data_8.csv'\n",
    "data2 = 'data_288.csv'\n",
    "data3 = 'data_2240.csv'"
   ]
  },
  {
   "cell_type": "code",
   "execution_count": 45,
   "metadata": {},
   "outputs": [],
   "source": [
    "def print_csv(data):\n",
    "    scores = []\n",
    "    students = []\n",
    "    with open(data) as f:\n",
    "        for row in csv.reader(f):\n",
    "            student = Student(row[0], row[1], row[2])\n",
    "            num = student.num\n",
    "            name = student.name\n",
    "            score = student.score\n",
    "            students.append([num, name, score])\n",
    "            scores.append(int(row[2]))\n",
    "        f.close()\n",
    "\n",
    "    scores = Quicksort(scores)\n",
    "    for score in scores:\n",
    "        for student in students:\n",
    "            if score == int(student[2]):\n",
    "                print(student[0] + ',' + student[1] + ',' + student[2])"
   ]
  },
  {
   "cell_type": "code",
   "execution_count": 54,
   "metadata": {},
   "outputs": [],
   "source": [
    "def Quicksort(array):\n",
    "    n = len(array)\n",
    "\n",
    "    if n <= 1:\n",
    "        return array\n",
    "    \n",
    "    pivot = array[0]\n",
    "\n",
    "    left = []\n",
    "    right = []\n",
    "\n",
    "    for i in range(1, n):\n",
    "        if array[i] >= pivot:\n",
    "            left.append(array[i])\n",
    "        else:\n",
    "            right.append(array[i])\n",
    "\n",
    "    r = Quicksort(right)\n",
    "    l = Quicksort(left)\n",
    "\n",
    "    return l + [pivot] + r"
   ]
  },
  {
   "cell_type": "code",
   "execution_count": 55,
   "metadata": {},
   "outputs": [
    {
     "output_type": "stream",
     "name": "stdout",
     "text": [
      "1439,Hurley          , 95\n 743,Allan           , 86\n 767,Warbeck         , 76\n1823,Morton          , 64\n1919,Walter          , 54\n1063,Edison          , 41\n1511,Nicholls        , 41\n1063,Edison          , 41\n1511,Nicholls        , 41\n  87,Ryle            ,  0\n"
     ]
    }
   ],
   "source": [
    "print_csv(data1)"
   ]
  },
  {
   "cell_type": "code",
   "execution_count": null,
   "metadata": {},
   "outputs": [],
   "source": []
  }
 ]
}