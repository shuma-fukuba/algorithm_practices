{
 "cells": [
  {
   "cell_type": "code",
   "execution_count": 1,
   "metadata": {},
   "outputs": [],
   "source": [
    "def bubble_sort(array, start, end):\r\n",
    "    for i in range(start, end):\r\n",
    "        for j in range(0, end-i-1):\r\n",
    "            if array[j] > array[j+1]:\r\n",
    "                array[j], array[j+1] = array[j+1], array[j]\r\n",
    "    return array"
   ]
  },
  {
   "cell_type": "code",
   "execution_count": 2,
   "metadata": {},
   "outputs": [],
   "source": [
    "def main():\r\n",
    "    array = [1, 8, 43, 2, 5, 7, 2, 123]\r\n",
    "    start, end = (int (x) for x in input(\"開始位置と終了位置?（0, 0が入力されるまで繰り返し）: \").split())\r\n",
    "    while start != 0 or end != 0:\r\n",
    "        print(f'start: {start}')\r\n",
    "        print(f'end: {end}')\r\n",
    "        print(bubble_sort(array, start, end))\r\n",
    "        start, end = (int (x) for x in input(\"開始位置と終了位置?（0, 0が入力されるまで繰り返し）: \").split())"
   ]
  },
  {
   "cell_type": "code",
   "execution_count": 3,
   "metadata": {},
   "outputs": [
    {
     "name": "stdout",
     "output_type": "stream",
     "text": [
      "start: 1\n",
      "end: 2\n",
      "[1, 8, 43, 2, 5, 7, 2, 123]\n",
      "start: 3\n",
      "end: 4\n",
      "[1, 8, 43, 2, 5, 7, 2, 123]\n",
      "start: 6\n",
      "end: 8\n",
      "[1, 8, 43, 2, 5, 7, 2, 123]\n"
     ]
    }
   ],
   "source": [
    "main()"
   ]
  },
  {
   "cell_type": "code",
   "execution_count": null,
   "metadata": {},
   "outputs": [],
   "source": []
  }
 ],
 "metadata": {
  "interpreter": {
   "hash": "4e9d0c9023791c00d461768debe42cb8d4f7ee10b618a3c4b57dfa37c6faa26d"
  },
  "kernelspec": {
   "display_name": "Python 3.7.6 64-bit ('base': conda)",
   "name": "python3"
  },
  "language_info": {
   "codemirror_mode": {
    "name": "ipython",
    "version": 3
   },
   "file_extension": ".py",
   "mimetype": "text/x-python",
   "name": "python",
   "nbconvert_exporter": "python",
   "pygments_lexer": "ipython3",
   "version": "3.7.6"
  },
  "orig_nbformat": 4
 },
 "nbformat": 4,
 "nbformat_minor": 2
}