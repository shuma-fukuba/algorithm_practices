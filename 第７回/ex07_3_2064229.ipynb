{
 "metadata": {
  "language_info": {
   "codemirror_mode": {
    "name": "ipython",
    "version": 3
   },
   "file_extension": ".py",
   "mimetype": "text/x-python",
   "name": "python",
   "nbconvert_exporter": "python",
   "pygments_lexer": "ipython3",
   "version": "3.7.6"
  },
  "orig_nbformat": 2,
  "kernelspec": {
   "name": "python376jvsc74a57bd04e9d0c9023791c00d461768debe42cb8d4f7ee10b618a3c4b57dfa37c6faa26d",
   "display_name": "Python 3.7.6 64-bit ('base': conda)"
  }
 },
 "nbformat": 4,
 "nbformat_minor": 2,
 "cells": [
  {
   "cell_type": "code",
   "execution_count": 7,
   "metadata": {},
   "outputs": [],
   "source": [
    "import csv\n",
    "class Student:\n",
    "    def __init__(self, num:int, name:str, score:int):\n",
    "        self.num = '{:4d}'.format(int(num))\n",
    "        self.name = '{:16s}'.format(name)\n",
    "        self.score = '{:3d}'.format(int(score))\n",
    "\n",
    "\n",
    "data1 = 'data_8.csv'\n",
    "data2 = 'data_288.csv'\n",
    "data3 = 'data_2240.csv'"
   ]
  },
  {
   "cell_type": "code",
   "execution_count": 36,
   "metadata": {},
   "outputs": [],
   "source": [
    "def Quicksort_down(array):\n",
    "    n = len(array)\n",
    "\n",
    "    if n <= 1:\n",
    "        return array\n",
    "\n",
    "    pivot = array[0]\n",
    "\n",
    "    left = []\n",
    "    right = []\n",
    "\n",
    "    for i in range(1, n):\n",
    "        if array[i] >= pivot:\n",
    "            left.append(array[i])\n",
    "        else:\n",
    "            right.append(array[i])\n",
    "\n",
    "    r = Quicksort_down(right)\n",
    "    l = Quicksort_down(left)\n",
    "\n",
    "    return l + [pivot] + r"
   ]
  },
  {
   "cell_type": "code",
   "execution_count": 37,
   "metadata": {},
   "outputs": [],
   "source": [
    "def Quicksort_up(array):\n",
    "    n = len(array)\n",
    "\n",
    "    if n <= 1:\n",
    "        return array\n",
    "\n",
    "    pivot = array[0]\n",
    "\n",
    "    left = []\n",
    "    right = []\n",
    "\n",
    "    for i in range(1, n):\n",
    "        if array[i] <= pivot:\n",
    "            left.append(array[i])\n",
    "        else:\n",
    "            right.append(array[i])\n",
    "\n",
    "    r = Quicksort_up(right)\n",
    "    l = Quicksort_up(left)\n",
    "\n",
    "    return l + [pivot] + r"
   ]
  },
  {
   "cell_type": "code",
   "execution_count": 38,
   "metadata": {},
   "outputs": [],
   "source": [
    "def main(data, output):\n",
    "    scores = []\n",
    "    students = []\n",
    "    changed_list = []\n",
    "    with open(data) as f:\n",
    "        for row in csv.reader(f):\n",
    "            student = Student(row[0], row[1], row[2])\n",
    "            num = student.num\n",
    "            name = student.name\n",
    "            score = student.score\n",
    "            students.append([num, name, score])\n",
    "            scores.append(int(row[2]))\n",
    "        f.close()\n",
    "\n",
    "    scores = list(set(scores))\n",
    "    scores = Quicksort_down(scores)\n",
    "\n",
    "    for score in scores:\n",
    "        score_eqs = []\n",
    "        nums = []\n",
    "        for student in students:\n",
    "            if score == int(student[2]) and student not in score_eqs:\n",
    "                score_eqs.append(student)\n",
    "        for eq in score_eqs:\n",
    "            nums.append(int(eq[0]))\n",
    "\n",
    "        nums = Quicksort_up(nums)\n",
    "        for num in nums:\n",
    "            for eq in score_eqs:\n",
    "                if int(eq[0]) == num and eq not in changed_list:\n",
    "                    changed_list.append(eq)\n",
    "\n",
    "\n",
    "    with open(output, 'w') as f:\n",
    "        for row in changed_list:\n",
    "            ins_str = row[0] + ',' + row[1] + ',' + row[2] + '\\n'\n",
    "            f.write(ins_str)\n",
    "        f.close()"
   ]
  },
  {
   "cell_type": "code",
   "execution_count": 39,
   "metadata": {},
   "outputs": [],
   "source": [
    "main(data1, \"output4.txt\")"
   ]
  },
  {
   "cell_type": "code",
   "execution_count": 40,
   "metadata": {},
   "outputs": [],
   "source": [
    "main(data2, 'output5.txt')"
   ]
  },
  {
   "cell_type": "code",
   "execution_count": 41,
   "metadata": {},
   "outputs": [],
   "source": [
    "main(data3, 'output6.txt')"
   ]
  },
  {
   "cell_type": "code",
   "execution_count": null,
   "metadata": {},
   "outputs": [],
   "source": []
  }
 ]
}