{
 "metadata": {
  "language_info": {
   "codemirror_mode": {
    "name": "ipython",
    "version": 3
   },
   "file_extension": ".py",
   "mimetype": "text/x-python",
   "name": "python",
   "nbconvert_exporter": "python",
   "pygments_lexer": "ipython3",
   "version": "3.9.4"
  },
  "orig_nbformat": 2,
  "kernelspec": {
   "name": "python394jvsc74a57bd064ed7cfb9af79c466e7be75b687ffc96f6c81dc5b727a14d79aa95827ff644e0",
   "display_name": "Python 3.9.4 64-bit ('VENV': venv)"
  }
 },
 "nbformat": 4,
 "nbformat_minor": 2,
 "cells": [
  {
   "cell_type": "code",
   "execution_count": 37,
   "metadata": {},
   "outputs": [],
   "source": [
    "#あくまで今回は構造体として考える\n",
    "class Student:\n",
    "    #コンストラクタ\n",
    "    def __init__(self,num:int,name:str,score:int):\n",
    "        self.num = int(num)\n",
    "        self.name = name\n",
    "        self.score = int(score)\n",
    "    #Getter\n",
    "    def printData(self)->None:\n",
    "        print(f\"{str(self.getId()):>4},{self.getName():<16},{str(self.getScore()):>3}\")\n",
    "    def getData(self)->tuple:\n",
    "        return self.num,self.name,self.score\n",
    "    def getScore(self)->int:\n",
    "        return self.score\n",
    "    def getName(self)->str:\n",
    "        return self.name\n",
    "    def getId(self)->int:\n",
    "        return self.num\n",
    "def printStudents(Students:list)->None:\n",
    "    for Student in Students:\n",
    "        Student.printData()\n"
   ]
  },
  {
   "cell_type": "code",
   "execution_count": 42,
   "metadata": {},
   "outputs": [],
   "source": [
    "import csv\n",
    "def main():\n",
    "    with open(input(\"File name >> \"),\"r\") as fp:\n",
    "        Students = [Student(Row[0],Row[1],Row[2]) for Row in csv.reader(fp)]\n",
    "        Comp,Swap=0,0\n",
    "    def MergeSort(arr:list,N:int)->list:\n",
    "        if N <= 1:\n",
    "            return arr\n",
    "        else:\n",
    "            #真ん中で分ける\n",
    "            midpos = N // 2\n",
    "            L,R = arr[:midpos],arr[midpos:]\n",
    "            return Merge(MergeSort(L,len(L)), MergeSort(R,len(R)))\n",
    "    def Merge(L:list, R:list)->list:\n",
    "        nL,nR = len(L),len(R)\n",
    "        i,j,Sorted = 0,0,[]\n",
    "        nonlocal Comp\n",
    "        nonlocal Swap\n",
    "        #分けられたリストをつなげてい\n",
    "        while i < nL and j < nR:\n",
    "            Comp+=2\n",
    "            if R[j].getScore() < L[i].getScore():\n",
    "                Sorted.append(L[i]); i += 1\n",
    "            else:\n",
    "                Sorted.append(R[j]); j += 1\n",
    "        while i < nL:\n",
    "            Swap+=1\n",
    "            Sorted.append(L[i]); i += 1\n",
    "        while j < nR:\n",
    "            Swap+=1\n",
    "            Sorted.append(R[j]); j += 1\n",
    "        return Sorted    \n",
    "    SortedScore = MergeSort(Students,len(Students))\n",
    "    print(f\"比較回数 << {Comp},入れ替え回数 << {Swap}\")\n",
    "    with open(FileName := input(\"Output File Name <<\"), \"w\") as fp:\n",
    "        for student in SortedScore:\n",
    "            csv.writer(fp).writerow(student.getData())\n",
    "        print(f\"OutputFileName<<{FileName}\")"
   ]
  },
  {
   "cell_type": "code",
   "execution_count": 43,
   "metadata": {},
   "outputs": [
    {
     "output_type": "stream",
     "name": "stdout",
     "text": [
      "比較回数 << 32,入れ替え回数 << 8\n",
      "OutputFileName<<Merge_8.csv\n"
     ]
    }
   ],
   "source": [
    "main()"
   ]
  },
  {
   "cell_type": "code",
   "execution_count": 44,
   "metadata": {},
   "outputs": [
    {
     "output_type": "stream",
     "name": "stdout",
     "text": [
      "比較回数 << 4008,入れ替え回数 << 364\n",
      "OutputFileName<<Merge_288.csv\n"
     ]
    }
   ],
   "source": [
    "main()"
   ]
  },
  {
   "cell_type": "code",
   "execution_count": 45,
   "metadata": {},
   "outputs": [
    {
     "output_type": "stream",
     "name": "stdout",
     "text": [
      "比較回数 << 44238,入れ替え回数 << 2905\n",
      "OutputFileName<<Merge_2240.csv\n"
     ]
    }
   ],
   "source": [
    "main()"
   ]
  },
  {
   "cell_type": "code",
   "execution_count": null,
   "metadata": {},
   "outputs": [],
   "source": []
  }
 ]
}