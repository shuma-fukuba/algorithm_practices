{
 "cells": [
  {
   "cell_type": "code",
   "execution_count": 3,
   "metadata": {},
   "outputs": [],
   "source": [
    "#基本課題 3. 数字パズル問題\n",
    "#「小町算」を解くプログラムの作成\n",
    "\"小町算\"\n",
    "def komati():\n",
    "    for i in range(0, pow(3, 9)):\n",
    "        #10進数をn進数に変換する処理\n",
    "        Buf = [0]*9\n",
    "        for j in reversed(range(0,9)):\n",
    "            i,Buf[j] = divmod(i,3)\n",
    "        #3進数表記の文字列取得\n",
    "        #和列\n",
    "        operator = []\n",
    "        #初項に対してあらかじめ処理をしておく\n",
    "        if Buf[0] == 1:\n",
    "            operator.append(-9)\n",
    "        else:\n",
    "            operator.append(9)\n",
    "        #計算過程\n",
    "        for j in range(1, 9):\n",
    "            num = 10 - (j + 1)\n",
    "            if Buf[j] == 0:\n",
    "                #前の項を取り出す\n",
    "                op = operator.pop()\n",
    "                if op > 0:\n",
    "                    #前の項が正の数の場合\n",
    "                    #10倍して余らせた桁に足させる\n",
    "                    operator.append(10 * op + num)\n",
    "                else:\n",
    "                    #前の項が負の数の場合\n",
    "                    #同様の処理\n",
    "                    operator.append(10 * op - num)\n",
    "            if Buf[j] == 1:\n",
    "                operator.append(-num)\n",
    "            if Buf[j] == 2:\n",
    "                operator.append(num)\n",
    "        #結果表示\n",
    "        if sum(operator) == 100 and Buf[0] !=2:\n",
    "            char = {0:\"\",1:\"-\",2:\"+\"}\n",
    "            for i in range(0,9):\n",
    "                    print(char[Buf[i]]+str(9-i),end=\"\")\n",
    "            print(\"=100\")\n",
    "\n",
    "def main():\n",
    "    komati()"
   ]
  },
  {
   "cell_type": "code",
   "execution_count": 4,
   "metadata": {},
   "outputs": [
    {
     "name": "stdout",
     "output_type": "stream",
     "text": [
      "98-76+54+3+21=100\n",
      "98-7-6-5-4+3+21=100\n",
      "98-7-6+5+4+3+2+1=100\n",
      "98-7+6-5+4+3+2-1=100\n",
      "98-7+6+5-4+3-2+1=100\n",
      "98-7+6+5+4-3-2-1=100\n",
      "98+7-6-5+4+3-2+1=100\n",
      "98+7-6+5-4-3+2+1=100\n",
      "98+7-6+5-4+3-2-1=100\n",
      "98+7+6-5-4-3+2-1=100\n",
      "9-8+76-5+4+3+21=100\n",
      "9-8+76+54-32+1=100\n",
      "9-8+7+65-4+32-1=100\n",
      "9+8+76+5-4+3+2+1=100\n",
      "9+8+76+5+4-3+2-1=100\n",
      "-9-8+76-5+43+2+1=100\n",
      "-9+8+76+5-4+3+21=100\n",
      "-9+8+7+65-4+32+1=100\n"
     ]
    }
   ],
   "source": [
    "main()"
   ]
  }
 ],
 "metadata": {
  "interpreter": {
   "hash": "64ed7cfb9af79c466e7be75b687ffc96f6c81dc5b727a14d79aa95827ff644e0"
  },
  "kernelspec": {
   "display_name": "Python 3.9.4 64-bit ('VENV': venv)",
   "name": "python3"
  },
  "language_info": {
   "codemirror_mode": {
    "name": "ipython",
    "version": 3
   },
   "file_extension": ".py",
   "mimetype": "text/x-python",
   "name": "python",
   "nbconvert_exporter": "python",
   "pygments_lexer": "ipython3",
   "version": "3.9.4"
  },
  "orig_nbformat": 4
 },
 "nbformat": 4,
 "nbformat_minor": 2
}