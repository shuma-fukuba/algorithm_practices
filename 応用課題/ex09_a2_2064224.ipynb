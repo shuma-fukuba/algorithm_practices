{
 "cells": [
  {
   "cell_type": "code",
   "execution_count": 18,
   "metadata": {},
   "outputs": [],
   "source": [
    "#応用課題 2. ナンバープレースを解く\n",
    "#「数独(c)二コリ」(ナンバープレース) を解くプログラムを作りなさい\n",
    "#盤面は 9x9 の正方形でよい\n",
    "\n",
    "#盤面を二次元リストで表わす\n",
    "Grid = [[0, 6, 0, 0, 0, 0, 0, 5, 0],\n",
    "        [7, 0, 0, 0, 3, 0, 6, 0, 2],\n",
    "        [0, 0, 0, 6, 0, 0, 0, 8, 7],\n",
    "        [0, 0, 7, 3, 9, 0, 0, 0, 1],\n",
    "        [0, 1, 0, 0, 4, 2, 9, 0, 0],\n",
    "        [0, 0, 9, 0, 0, 0, 5, 0, 0],\n",
    "        [6, 0, 0, 0, 0, 0, 0, 0, 5],\n",
    "        [3, 7, 0, 0, 0, 8, 0, 0, 0],\n",
    "        [0, 8, 5, 0, 6, 0, 0, 3, 0]]\n",
    "\n",
    "def GridPrinter(Grid):\n",
    "    for Row in Grid:\n",
    "        print(Row)\n",
    "\n",
    "def GetNextCell(Grid):\n",
    "    for y in range(9):\n",
    "        for x in range(9):\n",
    "            if Grid[y][x] == 0:\n",
    "                # 0 の座標を返す\n",
    "                return y, x\n",
    "    # すべてのマスに数字が入っている状態\n",
    "    return -1, -1\n",
    "\n",
    "\n",
    "def IsValid(Grid, y, x, Value):\n",
    "    # 行のチェック\n",
    "    IsRow = Value not in Grid[y]\n",
    "    # 列のチェック\n",
    "    IsColumn = Value not in [i[x] for i in Grid]\n",
    "    # ブロックを取り出す\n",
    "    Block_x, Block_y = (x//3) * 3, (y//3) * 3\n",
    "    Block_grid = [i[Block_x:Block_x + 3] for i in Grid[Block_y:Block_y + 3]]\n",
    "    # ブロックのチェック\n",
    "    IsBlock = Value not in sum(Block_grid, [])\n",
    "    # 有効チェック\n",
    "    return all([IsRow, IsColumn, IsBlock])\n",
    "\n",
    "\n",
    "def SolveSudoku(Grid, y=0, x=0):\n",
    "    y, x = GetNextCell(Grid)\n",
    "    # 終了判定\n",
    "    if y == -1 or x == -1:\n",
    "        return True\n",
    "    # 入力\n",
    "    for Value in range(1, 10):\n",
    "        if IsValid(Grid, y, x, Value):\n",
    "            Grid[y][x] = Value\n",
    "            # 次へ\n",
    "            if SolveSudoku(Grid, y, x):\n",
    "                return True\n",
    "            Grid[y][x] = 0\n",
    "    return False\n",
    "\n",
    "\n",
    "print(f\"この数独は解けますか?? << {SolveSudoku(Grid)}\")\n",
    "GridPrinter(Grid)"
   ]
  }
 ],
 "metadata": {
  "interpreter": {
   "hash": "64ed7cfb9af79c466e7be75b687ffc96f6c81dc5b727a14d79aa95827ff644e0"
  },
  "kernelspec": {
   "display_name": "Python 3.9.4 64-bit ('VENV': venv)",
   "name": "python3"
  },
  "language_info": {
   "codemirror_mode": {
    "name": "ipython",
    "version": 3
   },
   "file_extension": ".py",
   "mimetype": "text/x-python",
   "name": "python",
   "nbconvert_exporter": "python",
   "pygments_lexer": "ipython3",
   "version": "3.9.4"
  },
  "orig_nbformat": 4
 },
 "nbformat": 4,
 "nbformat_minor": 2
}