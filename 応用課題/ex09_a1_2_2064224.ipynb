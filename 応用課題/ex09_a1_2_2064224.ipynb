{
 "cells": [
  {
   "cell_type": "code",
   "execution_count": 20,
   "metadata": {},
   "outputs": [],
   "source": [
    "\"\"\"\n",
    "応用課題 1-2. 「 小町分数 」を解く\n",
    "以下の結果になるような「 分数の 」小町算を解くプログラムを作成しなさい。\n",
    "\n",
    "□□□□□ ÷ □□□□ = 13\n",
    "\"\"\"\n",
    "import itertools\n",
    "def KomatiDiv():\n",
    "    Num = [str(n) for n in range(1,10)]\n",
    "    for v in itertools.permutations(Num):\n",
    "        Div,Dived = v[0:5],v[5:10]\n",
    "        Div,Dived = int(\"\".join(Div)),int(\"\".join(Dived))\n",
    "        Quo,Res = divmod(Div,Dived)\n",
    "        if Quo == 13 and Res == 0:\n",
    "            print(f\"{Div}/{Dived} = 13\")\n",
    "\n",
    "def main():\n",
    "    KomatiDiv()"
   ]
  },
  {
   "cell_type": "code",
   "execution_count": 21,
   "metadata": {},
   "outputs": [
    {
     "name": "stdout",
     "output_type": "stream",
     "text": [
      "67392/5184 = 13\n",
      "81549/6273 = 13\n",
      "94653/7281 = 13\n"
     ]
    }
   ],
   "source": [
    "main()"
   ]
  }
 ],
 "metadata": {
  "interpreter": {
   "hash": "64ed7cfb9af79c466e7be75b687ffc96f6c81dc5b727a14d79aa95827ff644e0"
  },
  "kernelspec": {
   "display_name": "Python 3.9.4 64-bit ('VENV': venv)",
   "name": "python3"
  },
  "language_info": {
   "codemirror_mode": {
    "name": "ipython",
    "version": 3
   },
   "file_extension": ".py",
   "mimetype": "text/x-python",
   "name": "python",
   "nbconvert_exporter": "python",
   "pygments_lexer": "ipython3",
   "version": "3.9.4"
  },
  "orig_nbformat": 4
 },
 "nbformat": 4,
 "nbformat_minor": 2
}