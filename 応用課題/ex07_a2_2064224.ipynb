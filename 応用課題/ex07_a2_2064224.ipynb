{
 "cells": [
  {
   "cell_type": "code",
   "execution_count": 21,
   "metadata": {},
   "outputs": [],
   "source": [
    "#ソート範囲を指定した条件付きバブルソート(線形探索)\n",
    "def BubbleSort(arr:list,begin:int,end:int)->list:\n",
    "    for i in range(begin,end):\n",
    "        for j in range(0,end-i-1):\n",
    "            if arr[j]>arr[j+1]:\n",
    "                arr[j],arr[j+1] = arr[j+1],arr[j]\n",
    "    return arr"
   ]
  },
  {
   "cell_type": "code",
   "execution_count": 22,
   "metadata": {},
   "outputs": [
    {
     "name": "stdout",
     "output_type": "stream",
     "text": [
      "[2, 4, 4, 5, 6, 6, 8, 96, 1, 2]\n"
     ]
    }
   ],
   "source": [
    "arr = [8,6,4,2,5,4,6,96,1,2]\r\n",
    "begin,end = (int (x) for x in input(\"開始位置と終了位置を入力してください >> \").split())\r\n",
    "print(BubbleSort(arr,begin,end))"
   ]
  }
 ],
 "metadata": {
  "interpreter": {
   "hash": "1215578185007176f22ab61f9a6c70bda1b2e3219f7f90b26df9d7e5ba7b5384"
  },
  "kernelspec": {
   "display_name": "Python 3.9.2 64-bit ('my_django_environment': conda)",
   "name": "python3"
  },
  "language_info": {
   "name": "python",
   "version": ""
  },
  "orig_nbformat": 2
 },
 "nbformat": 4,
 "nbformat_minor": 2
}