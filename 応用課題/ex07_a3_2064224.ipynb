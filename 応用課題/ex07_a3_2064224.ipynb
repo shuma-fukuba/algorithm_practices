{
 "metadata": {
  "language_info": {
   "codemirror_mode": {
    "name": "ipython",
    "version": 3
   },
   "file_extension": ".py",
   "mimetype": "text/x-python",
   "name": "python",
   "nbconvert_exporter": "python",
   "pygments_lexer": "ipython3",
   "version": "3.9.4"
  },
  "orig_nbformat": 2,
  "kernelspec": {
   "name": "python394jvsc74a57bd064ed7cfb9af79c466e7be75b687ffc96f6c81dc5b727a14d79aa95827ff644e0",
   "display_name": "Python 3.9.4 64-bit ('VENV': venv)"
  }
 },
 "nbformat": 4,
 "nbformat_minor": 2,
 "cells": [
  {
   "cell_type": "code",
   "execution_count": 93,
   "metadata": {},
   "outputs": [],
   "source": [
    "import random\n",
    "arr3dgt= random.sample(range(10000),k=999)\n",
    "arr4dgt= random.sample(range(100000),k=9999)\n",
    "arr5dgt= random.sample(range(1000000),k=99999)"
   ]
  },
  {
   "cell_type": "code",
   "execution_count": 58,
   "metadata": {},
   "outputs": [],
   "source": [
    "def Quickmain(Input:list):\n",
    "    Comp,Swap=0,0\n",
    "    def Quick(arr:list,N)->list:\n",
    "        nonlocal Comp\n",
    "        nonlocal Swap\n",
    "        if N <= 1:\n",
    "        #サイズが0以下の場合、リストをそのまま返す\n",
    "            return arr\n",
    "        else:\n",
    "        #ピボットデータだけ抜き取る    \n",
    "            pivot,Left,Right= arr[0],[],[]\n",
    "        #以下、整列過程\n",
    "            for Elem in arr[1:]:\n",
    "            #ピボットより大きい場合、左にSwap\n",
    "                Comp+=2\n",
    "                if  Elem> pivot:\n",
    "                    Swap+=1\n",
    "                    Right.append(Elem)\n",
    "            #ピボットより小さい場合、右にSwap\n",
    "                elif Elem < pivot:\n",
    "                    Swap+=1\n",
    "                    Left.append(Elem)\n",
    "        #リストを連結して,リストとして返す\n",
    "            Left = Quick(Left,len(Left))\n",
    "            Right = Quick(Right,len(Right))\n",
    "            return Left+[pivot]+Right\n",
    "    %timeit -r 1 -n 1 Quick(Input,len(Input))\n",
    "    print(f\"比較回数 << {Comp},入れ替え回数 << {Swap}\")\n",
    "\n"
   ]
  },
  {
   "cell_type": "code",
   "execution_count": 94,
   "metadata": {},
   "outputs": [],
   "source": [
    "def SelectMain(Input:list):\n",
    "    def Select(arr:list,N:int)->list:\n",
    "        Comp,Swap = 0,0\n",
    "        for i in range(0,N-1):\n",
    "        #左端を最小値としておく\n",
    "            min = i\n",
    "        #左端以降の部分リストの最大値を見つける\n",
    "            for j in range(i+1,N):\n",
    "        #左端より小さい値が見つかった時\n",
    "                Comp+=1\n",
    "                if  arr[min] > arr[j]:\n",
    "        #その値の添え字を最小値の添え字とする\n",
    "                    min = j\n",
    "            #元データを入れ替える  \n",
    "            Swap+=1\n",
    "            arr[min],arr[i] = arr[i],arr[min]\n",
    "        print(f\"比較回数 << {Comp},入れ替え回数 << {Swap}\")\n",
    "        return arr\n",
    "    %timeit -r 1 -n 1 Select(Input,len(Input))\n",
    "    \n",
    "        "
   ]
  },
  {
   "cell_type": "code",
   "execution_count": 91,
   "metadata": {},
   "outputs": [],
   "source": [
    "def BubbleMain(Input:list):\n",
    "    def Bubble(arr:list,N:int)->list:\n",
    "        nonlocal Comp\n",
    "        nonlocal Swap\n",
    "        for i in range(N):\n",
    "            for j in range(0,N-i-1):\n",
    "                Comp+=1\n",
    "                if arr[j]>arr[j+1]:\n",
    "                    Swap+=1\n",
    "                    arr[j],arr[j+1] = arr[j+1],arr[j]\n",
    "        return arr\n",
    "    Comp,Swap=0,0\n",
    "    %timeit -r 1 -n 1 Bubble(Input,len(Input))\n",
    "    print(f\"比較回数 << {Comp},入れ替え回数 << {Swap}\")\n",
    "    "
   ]
  },
  {
   "cell_type": "code",
   "execution_count": 64,
   "metadata": {},
   "outputs": [],
   "source": [
    "def MergeMain(Input:list):\n",
    "    Comp,Swap = 0,0\n",
    "    def MergeSort(arr:list,N:int)->list:\n",
    "        if N <= 1:\n",
    "            return arr\n",
    "        else:\n",
    "            midpos = N // 2\n",
    "            L,R = arr[:midpos],arr[midpos:]\n",
    "        def Merge(L:list, R:list)->list:\n",
    "            nonlocal Comp\n",
    "            nonlocal Swap\n",
    "            nL,nR = len(L),len(R)\n",
    "            i,j,Sorted = 0,0,[]\n",
    "            while i < nL and j < nR:\n",
    "                if R[j] < L[i]:\n",
    "                    Comp+=1\n",
    "                    Sorted.append(R[j]); j += 1\n",
    "                else:\n",
    "                    Sorted.append(L[i]); i += 1\n",
    "            while i < nL:\n",
    "                Swap+=1\n",
    "                Sorted.append(L[i]); i += 1\n",
    "            while j < nR:\n",
    "                Swap+=1\n",
    "                Sorted.append(R[j]); j += 1\n",
    "            return Sorted\n",
    "        return Merge(MergeSort(L,len(L)), MergeSort(R,len(R)))\n",
    "    %timeit -r 1 -n 1 MergeSort(Input,len(Input))\n",
    "    print(f\"比較回数 << {Comp},入れ替え回数 << {Swap}\")\n"
   ]
  },
  {
   "cell_type": "code",
   "execution_count": 95,
   "metadata": {
    "tags": []
   },
   "outputs": [
    {
     "output_type": "stream",
     "name": "stdout",
     "text": [
      "比較回数 << 498501,入れ替え回数 << 998\n",
      "78.5 ms ± 0 ns per loop (mean ± std. dev. of 1 run, 1 loop each)\n",
      "比較回数 << 49985001,入れ替え回数 << 9998\n",
      "6.41 s ± 0 ns per loop (mean ± std. dev. of 1 run, 1 loop each)\n",
      "比較回数 << 4999850001,入れ替え回数 << 99998\n",
      "16min 15s ± 0 ns per loop (mean ± std. dev. of 1 run, 1 loop each)\n"
     ]
    }
   ],
   "source": [
    "SelectMain(arr3dgt)\n",
    "SelectMain(arr4dgt)\n",
    "SelectMain(arr5dgt)\n",
    "\n",
    "\n"
   ]
  },
  {
   "cell_type": "code",
   "execution_count": 53,
   "metadata": {},
   "outputs": [
    {
     "output_type": "stream",
     "name": "stdout",
     "text": [
      "2.73 ms ± 0 ns per loop (mean ± std. dev. of 1 run, 1 loop each)\n",
      "比較回数 << 21138,入れ替え回数 << 10569\n",
      "53.6 ms ± 0 ns per loop (mean ± std. dev. of 1 run, 1 loop each)\n",
      "比較回数 << 296086,入れ替え回数 << 148043\n",
      "551 ms ± 0 ns per loop (mean ± std. dev. of 1 run, 1 loop each)\n",
      "比較回数 << 3898316,入れ替え回数 << 1949158\n"
     ]
    }
   ],
   "source": [
    "Quickmain(arr3dgt)\n",
    "Quickmain(arr4dgt)\n",
    "Quickmain(arr5dgt)"
   ]
  },
  {
   "cell_type": "code",
   "execution_count": 92,
   "metadata": {},
   "outputs": [
    {
     "output_type": "stream",
     "name": "stdout",
     "text": [
      "123 ms ± 0 ns per loop (mean ± std. dev. of 1 run, 1 loop each)\n",
      "比較回数 << 498501,入れ替え回数 << 257285\n",
      "13 s ± 0 ns per loop (mean ± std. dev. of 1 run, 1 loop each)\n",
      "比較回数 << 49985001,入れ替え回数 << 24851211\n",
      "27min 14s ± 0 ns per loop (mean ± std. dev. of 1 run, 1 loop each)\n",
      "比較回数 << 4999850001,入れ替え回数 << 2497684007\n"
     ]
    }
   ],
   "source": [
    "BubbleMain(arr3dgt)\n",
    "BubbleMain(arr4dgt)\n",
    "BubbleMain(arr5dgt)"
   ]
  },
  {
   "cell_type": "code",
   "execution_count": 65,
   "metadata": {},
   "outputs": [
    {
     "output_type": "stream",
     "name": "stdout",
     "text": [
      "3.98 ms ± 0 ns per loop (mean ± std. dev. of 1 run, 1 loop each)\n",
      "比較回数 << 4333,入れ替え回数 << 1266\n",
      "49.5 ms ± 0 ns per loop (mean ± std. dev. of 1 run, 1 loop each)\n",
      "比較回数 << 61227,入れ替え回数 << 13204\n",
      "593 ms ± 0 ns per loop (mean ± std. dev. of 1 run, 1 loop each)\n",
      "比較回数 << 776385,入れ替え回数 << 132573\n"
     ]
    }
   ],
   "source": [
    "MergeMain(arr3dgt)\n",
    "MergeMain(arr4dgt)\n",
    "MergeMain(arr5dgt)"
   ]
  },
  {
   "cell_type": "code",
   "execution_count": null,
   "metadata": {},
   "outputs": [],
   "source": []
  }
 ]
}