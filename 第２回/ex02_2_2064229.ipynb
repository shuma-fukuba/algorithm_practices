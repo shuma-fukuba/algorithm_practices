{
 "cells": [
  {
   "cell_type": "code",
   "execution_count": 1,
   "metadata": {},
   "outputs": [],
   "source": [
    "def twentyfour(n):\n",
    "    results = []\n",
    "\n",
    "    for i in range(1, n):\n",
    "        for j in range(1, n):\n",
    "            if i * j > 24:\n",
    "                continue\n",
    "            if i * j == 24:\n",
    "                results.append([i, j])\n",
    "\n",
    "    for i, j in results:\n",
    "        print(i, j)"
   ]
  },
  {
   "cell_type": "code",
   "execution_count": 2,
   "metadata": {},
   "outputs": [
    {
     "name": "stdout",
     "output_type": "stream",
     "text": [
      "2 12\n",
      "3 8\n",
      "4 6\n",
      "6 4\n",
      "8 3\n",
      "12 2\n"
     ]
    }
   ],
   "source": [
    "twentyfour(18)"
   ]
  },
  {
   "cell_type": "code",
   "execution_count": 3,
   "metadata": {},
   "outputs": [
    {
     "name": "stdout",
     "output_type": "stream",
     "text": [
      "1 24\n",
      "2 12\n",
      "3 8\n",
      "4 6\n",
      "6 4\n",
      "8 3\n",
      "12 2\n",
      "24 1\n"
     ]
    }
   ],
   "source": [
    "twentyfour(100)"
   ]
  },
  {
   "cell_type": "code",
   "execution_count": 5,
   "metadata": {},
   "outputs": [
    {
     "name": "stdout",
     "output_type": "stream",
     "text": [
      "1 24\n",
      "2 12\n",
      "3 8\n",
      "4 6\n",
      "6 4\n",
      "8 3\n",
      "12 2\n",
      "24 1\n"
     ]
    }
   ],
   "source": [
    "twentyfour(6000)"
   ]
  },
  {
   "cell_type": "code",
   "execution_count": null,
   "metadata": {},
   "outputs": [],
   "source": []
  }
 ],
 "metadata": {
  "kernelspec": {
   "display_name": "Python 3",
   "language": "python",
   "name": "python3"
  },
  "language_info": {
   "codemirror_mode": {
    "name": "ipython",
    "version": 3
   },
   "file_extension": ".py",
   "mimetype": "text/x-python",
   "name": "python",
   "nbconvert_exporter": "python",
   "pygments_lexer": "ipython3",
   "version": "3.7.6"
  }
 },
 "nbformat": 4,
 "nbformat_minor": 4
}
