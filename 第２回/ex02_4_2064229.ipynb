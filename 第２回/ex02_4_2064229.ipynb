{
 "metadata": {
  "language_info": {
   "codemirror_mode": {
    "name": "ipython",
    "version": 3
   },
   "file_extension": ".py",
   "mimetype": "text/x-python",
   "name": "python",
   "nbconvert_exporter": "python",
   "pygments_lexer": "ipython3",
   "version": 3
  },
  "orig_nbformat": 2
 },
 "nbformat": 4,
 "nbformat_minor": 2,
 "cells": [
  {
   "cell_type": "code",
   "execution_count": null,
   "metadata": {},
   "outputs": [],
   "source": [
    "def BMI(height, weight, gender):\n",
    "    if gender == 1:\n",
    "        n_BMI = 22\n",
    "    elif gender == 2:\n",
    "        n_BMI = 21\n",
    "    else:\n",
    "        n_BMI = 21.5\n",
    "\n",
    "    BMI =  weight / ((height / 100) ** 2)\n",
    "    n_weight = (height / 100) ** 2 * n_BMI\n",
    "    obesity = (weight/n_weight -1) * 100\n",
    "\n",
    "    print('BMI:', BMI)\n",
    "    print('標準体重:', n_weight)\n",
    "    print('肥満度:', obesity)\n",
    "\n",
    "    if obesity >= 10:\n",
    "        print('太り過ぎ')\n",
    "    elif obesity <= -10:\n",
    "        print('痩せすぎ')\n",
    "    else:\n",
    "        print('標準')"
   ]
  },
  {
   "cell_type": "code",
   "execution_count": null,
   "metadata": {},
   "outputs": [],
   "source": [
    "BMI(175, 67, 1)"
   ]
  },
  {
   "cell_type": "code",
   "execution_count": null,
   "metadata": {},
   "outputs": [],
   "source": [
    "BMI(170, 80, 2)"
   ]
  },
  {
   "cell_type": "code",
   "execution_count": null,
   "metadata": {},
   "outputs": [],
   "source": [
    "BMI(155, 55, 1)"
   ]
  },
  {
   "cell_type": "code",
   "execution_count": null,
   "metadata": {},
   "outputs": [],
   "source": [
    "BMI(199, 77, 3)"
   ]
  },
  {
   "cell_type": "code",
   "execution_count": null,
   "metadata": {},
   "outputs": [],
   "source": [
    "BMI(144, 38, 2)"
   ]
  },
  {
   "cell_type": "code",
   "execution_count": null,
   "metadata": {},
   "outputs": [],
   "source": [
    "BMI(177, 70, 1)"
   ]
  },
  {
   "cell_type": "code",
   "execution_count": null,
   "metadata": {},
   "outputs": [],
   "source": []
  }
 ]
}