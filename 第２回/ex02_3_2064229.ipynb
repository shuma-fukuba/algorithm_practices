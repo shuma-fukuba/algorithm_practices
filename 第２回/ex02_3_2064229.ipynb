{
 "metadata": {
  "language_info": {
   "codemirror_mode": {
    "name": "ipython",
    "version": 3
   },
   "file_extension": ".py",
   "mimetype": "text/x-python",
   "name": "python",
   "nbconvert_exporter": "python",
   "pygments_lexer": "ipython3",
   "version": 3
  },
  "orig_nbformat": 2
 },
 "nbformat": 4,
 "nbformat_minor": 2,
 "cells": [
  {
   "cell_type": "code",
   "execution_count": null,
   "metadata": {},
   "outputs": [],
   "source": [
    "def exp(x):\n",
    "    genkou = 1\n",
    "    exp = 1\n",
    "    for n in range(10):\n",
    "        genkou *= x/n\n",
    "        exp += genkou\n",
    "    return round(exp, 8)\n",
    "\n",
    "\n",
    "if x < 0:\n",
    "    x = -x\n",
    "    print('1/exp(|x|)=', exp(x))\n",
    "else:\n",
    "    print('exp(x)=', exp(x))"
   ]
  },
  {
   "cell_type": "code",
   "execution_count": null,
   "metadata": {},
   "outputs": [],
   "source": [
    "exp(1)"
   ]
  },
  {
   "cell_type": "code",
   "execution_count": null,
   "metadata": {},
   "outputs": [],
   "source": []
  }
 ]
}