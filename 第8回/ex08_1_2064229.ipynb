{
 "metadata": {
  "language_info": {
   "codemirror_mode": {
    "name": "ipython",
    "version": 3
   },
   "file_extension": ".py",
   "mimetype": "text/x-python",
   "name": "python",
   "nbconvert_exporter": "python",
   "pygments_lexer": "ipython3",
   "version": "3.9.2"
  },
  "orig_nbformat": 2,
  "kernelspec": {
   "name": "python392jvsc74a57bd01215578185007176f22ab61f9a6c70bda1b2e3219f7f90b26df9d7e5ba7b5384",
   "display_name": "Python 3.9.2 64-bit ('my_django_environment': conda)"
  }
 },
 "nbformat": 4,
 "nbformat_minor": 2,
 "cells": [
  {
   "cell_type": "code",
   "execution_count": 13,
   "metadata": {},
   "outputs": [],
   "source": [
    "def Recursion(n, k):\n",
    "    if k == 0 or k == n:\n",
    "        return 1\n",
    "    elif 0 < k and k < n:\n",
    "        return Recursion(n-1, k-1) + Recursion(n-1, k)\n",
    "    else:\n",
    "        return '0<k<nではありません'"
   ]
  },
  {
   "cell_type": "code",
   "execution_count": 16,
   "metadata": {},
   "outputs": [
    {
     "output_type": "stream",
     "name": "stdout",
     "text": [
      "28\n"
     ]
    }
   ],
   "source": [
    "print(Recursion(8, 6))"
   ]
  },
  {
   "cell_type": "code",
   "execution_count": 18,
   "metadata": {},
   "outputs": [
    {
     "output_type": "stream",
     "name": "stdout",
     "text": [
      "0<k<nではありません\n"
     ]
    }
   ],
   "source": [
    "Recursion(0, 1)"
   ]
  },
  {
   "cell_type": "code",
   "execution_count": 25,
   "metadata": {},
   "outputs": [],
   "source": [
    "def main():\n",
    "    print('n, kを入力してください')\n",
    "    n = int(input('n= '))\n",
    "    k = int(input('k= '))\n",
    "    print('n= ', n)\n",
    "    print('k= ', k)\n",
    "    print(Recursion(n ,k))"
   ]
  },
  {
   "cell_type": "code",
   "execution_count": 26,
   "metadata": {},
   "outputs": [
    {
     "output_type": "stream",
     "name": "stdout",
     "text": [
      "n, kを入力してください\n",
      "n=  8\n",
      "k=  6\n",
      "28\n"
     ]
    }
   ],
   "source": [
    "main()"
   ]
  },
  {
   "cell_type": "code",
   "execution_count": 27,
   "metadata": {},
   "outputs": [
    {
     "output_type": "stream",
     "name": "stdout",
     "text": [
      "n, kを入力してください\n",
      "n=  0\n",
      "k=  1\n",
      "0<k<nではありません\n",
      "None\n"
     ]
    }
   ],
   "source": [
    "main()"
   ]
  },
  {
   "cell_type": "code",
   "execution_count": 28,
   "metadata": {},
   "outputs": [
    {
     "output_type": "stream",
     "name": "stdout",
     "text": [
      "n, kを入力してください\n",
      "n=  8\n",
      "k=  8\n",
      "1\n"
     ]
    }
   ],
   "source": [
    "main()"
   ]
  },
  {
   "cell_type": "code",
   "execution_count": 29,
   "metadata": {},
   "outputs": [
    {
     "output_type": "stream",
     "name": "stdout",
     "text": [
      "n, kを入力してください\n",
      "n=  8\n",
      "k=  -1\n",
      "0<k<nではありません\n",
      "None\n"
     ]
    }
   ],
   "source": [
    "main()"
   ]
  },
  {
   "cell_type": "code",
   "execution_count": null,
   "metadata": {},
   "outputs": [],
   "source": []
  }
 ]
}