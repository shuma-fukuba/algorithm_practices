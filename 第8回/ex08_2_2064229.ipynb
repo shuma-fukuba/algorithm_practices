{
 "metadata": {
  "language_info": {
   "codemirror_mode": {
    "name": "ipython",
    "version": 3
   },
   "file_extension": ".py",
   "mimetype": "text/x-python",
   "name": "python",
   "nbconvert_exporter": "python",
   "pygments_lexer": "ipython3",
   "version": "3.9.2"
  },
  "orig_nbformat": 2,
  "kernelspec": {
   "name": "python392jvsc74a57bd01215578185007176f22ab61f9a6c70bda1b2e3219f7f90b26df9d7e5ba7b5384",
   "display_name": "Python 3.9.2 64-bit ('my_django_environment': conda)"
  }
 },
 "nbformat": 4,
 "nbformat_minor": 2,
 "cells": [
  {
   "cell_type": "code",
   "execution_count": 7,
   "metadata": {},
   "outputs": [],
   "source": [
    "def f(n):\n",
    "    if n <= 1:\n",
    "        return 1\n",
    "    else: \n",
    "        return n * g(n-1)\n",
    "\n",
    "def g(n):\n",
    "    if n == 0:\n",
    "        return 0\n",
    "    else:\n",
    "        return n + f(n-1)"
   ]
  },
  {
   "cell_type": "code",
   "execution_count": 8,
   "metadata": {},
   "outputs": [],
   "source": [
    "def main():\n",
    "    nums = [0, 1, 4, -10]\n",
    "    for num in nums:\n",
    "        print('n = ', num)\n",
    "        print('f(n) = ', f(num))\n",
    "        print('g(n) = ', g(num))\n",
    "        print('\\n')"
   ]
  },
  {
   "cell_type": "code",
   "execution_count": 9,
   "metadata": {},
   "outputs": [
    {
     "output_type": "stream",
     "name": "stdout",
     "text": [
      "n =  0\nf(n) =  1\ng(n) =  0\n\n\nn =  1\nf(n) =  1\ng(n) =  2\n\n\nn =  4\nf(n) =  28\ng(n) =  13\n\n\nn =  -10\nf(n) =  1\ng(n) =  -9\n\n\n"
     ]
    }
   ],
   "source": [
    "main()"
   ]
  },
  {
   "cell_type": "code",
   "execution_count": null,
   "metadata": {},
   "outputs": [],
   "source": []
  }
 ]
}