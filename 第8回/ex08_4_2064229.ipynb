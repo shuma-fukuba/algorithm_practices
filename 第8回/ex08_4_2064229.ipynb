{
 "metadata": {
  "language_info": {
   "codemirror_mode": {
    "name": "ipython",
    "version": 3
   },
   "file_extension": ".py",
   "mimetype": "text/x-python",
   "name": "python",
   "nbconvert_exporter": "python",
   "pygments_lexer": "ipython3",
   "version": "3.7.6"
  },
  "orig_nbformat": 2,
  "kernelspec": {
   "name": "python376jvsc74a57bd04e9d0c9023791c00d461768debe42cb8d4f7ee10b618a3c4b57dfa37c6faa26d",
   "display_name": "Python 3.7.6 64-bit ('base': conda)"
  }
 },
 "nbformat": 4,
 "nbformat_minor": 2,
 "cells": [
  {
   "cell_type": "code",
   "execution_count": 60,
   "metadata": {},
   "outputs": [],
   "source": [
    "count = 0"
   ]
  },
  {
   "cell_type": "code",
   "execution_count": 61,
   "metadata": {},
   "outputs": [],
   "source": [
    "def fibonacci1(n):\n",
    "    global count\n",
    "    count += 1\n",
    "    if n == 0:\n",
    "        return 0\n",
    "    elif n == 1:\n",
    "        return 1\n",
    "    else:\n",
    "        return fibonacci1(n-1) + fibonacci1(n-2)\n",
    "\n",
    "def fibonacci2(n, a=1, b=0):\n",
    "    global count\n",
    "    count += 1\n",
    "    if n == 0:\n",
    "        return b\n",
    "    elif n == 1:\n",
    "        return a\n",
    "    else:\n",
    "        return fibonacci2(n-1, a+b, a)\n",
    "\n",
    "def fibonacci3(n):\n",
    "    global count\n",
    "    a, b = 0, 1\n",
    "    while n > 0:\n",
    "        a, b = b, a+b\n",
    "        n -= 1\n",
    "        count += 1\n",
    "    return a    "
   ]
  },
  {
   "cell_type": "code",
   "execution_count": 62,
   "metadata": {},
   "outputs": [],
   "source": [
    "def main():\n",
    "    global count\n",
    "    n = int(input('n = '))\n",
    "    print('n=', n)\n",
    "    if n <= 0:\n",
    "        print('nは正数ではありません')\n",
    "    else:\n",
    "        print('再帰', fibonacci1(n), '呼び出し回数:', count)\n",
    "        count = 0\n",
    "        print('末尾再帰', fibonacci2(n, a=1, b=0), '呼び出し回数:', count)\n",
    "        count = 0\n",
    "        print('ループ', fibonacci3(n), '繰り返し回数:', count)\n"
   ]
  },
  {
   "cell_type": "code",
   "execution_count": 64,
   "metadata": {},
   "outputs": [
    {
     "output_type": "stream",
     "name": "stdout",
     "text": [
      "n= 5\n再帰 5 呼び出し回数: 20\n末尾再帰 5 呼び出し回数: 5\nループ 5 繰り返し回数: 5\n"
     ]
    }
   ],
   "source": [
    "main()"
   ]
  },
  {
   "cell_type": "code",
   "execution_count": 65,
   "metadata": {},
   "outputs": [
    {
     "output_type": "stream",
     "name": "stdout",
     "text": [
      "n= 15\n再帰 610 呼び出し回数: 1978\n末尾再帰 610 呼び出し回数: 15\nループ 610 繰り返し回数: 15\n"
     ]
    }
   ],
   "source": [
    "main()"
   ]
  },
  {
   "cell_type": "code",
   "execution_count": 66,
   "metadata": {},
   "outputs": [
    {
     "output_type": "stream",
     "name": "stdout",
     "text": [
      "n= 30\n",
      "再帰 832040 呼び出し回数: 2692552\n",
      "末尾再帰 832040 呼び出し回数: 30\n",
      "ループ 832040 繰り返し回数: 30\n"
     ]
    }
   ],
   "source": [
    "main()"
   ]
  },
  {
   "cell_type": "code",
   "execution_count": 68,
   "metadata": {},
   "outputs": [
    {
     "output_type": "stream",
     "name": "stdout",
     "text": [
      "n= -5\nnは正数ではありません\n"
     ]
    }
   ],
   "source": [
    "main()"
   ]
  },
  {
   "cell_type": "code",
   "execution_count": null,
   "metadata": {},
   "outputs": [],
   "source": []
  }
 ]
}