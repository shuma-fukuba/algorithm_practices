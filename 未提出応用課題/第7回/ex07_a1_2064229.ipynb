{
 "cells": [
  {
   "cell_type": "code",
   "execution_count": 1,
   "metadata": {},
   "outputs": [],
   "source": [
    "import csv"
   ]
  },
  {
   "cell_type": "code",
   "execution_count": 2,
   "metadata": {},
   "outputs": [],
   "source": [
    "class Student:\r\n",
    "    def __init__(self, num, name, score):\r\n",
    "        self.num = int(num)\r\n",
    "        self.name = name\r\n",
    "        self.score = score\r\n",
    "    \r\n",
    "    def show(self):\r\n",
    "        print(f\"{str(self.getId()):>4},{self.getName():<16},{str(self.getScore()):>3}\")\r\n",
    "\r\n",
    "    def data(self)->list:\r\n",
    "        return self.num, self.name, self.score\r\n",
    "    \r\n",
    "    def first(self):\r\n",
    "        return self.num\r\n",
    "    \r\n",
    "    def second(self):\r\n",
    "        return self.name\r\n",
    "    \r\n",
    "    def third(self):\r\n",
    "        return self.score\r\n"
   ]
  },
  {
   "cell_type": "code",
   "execution_count": 7,
   "metadata": {},
   "outputs": [],
   "source": [
    "def main():\r\n",
    "    filename = input(\"File name?: \")\r\n",
    "    with open(filename,\"r\") as f:\r\n",
    "        Students = [Student(Row[0],Row[1],Row[2]) for Row in csv.reader(f)]\r\n",
    "        Comp,Swap=0,0\r\n",
    "\r\n",
    "\r\n",
    "    def merge_sort(array:list, n:int):\r\n",
    "        if n <= 1:\r\n",
    "            return array\r\n",
    "        else:\r\n",
    "            midpos = n // 2\r\n",
    "            left,right = array[:midpos],array[midpos:]\r\n",
    "            return merge(merge_sort(left,len(left)), merge_sort(right,len(right)))\r\n",
    "\r\n",
    "\r\n",
    "    def merge(left:list, right:list):\r\n",
    "        nL,nR = len(left),len(right)\r\n",
    "        i,j,Sorted = 0,0,[]\r\n",
    "        nonlocal Comp\r\n",
    "        nonlocal Swap\r\n",
    "        while i < nL and j < nR:\r\n",
    "            Comp += 2 \r\n",
    "            if right[j].third() < left[i].third():\r\n",
    "                Sorted.append(left[i]); i += 1\r\n",
    "            else:\r\n",
    "                Sorted.append(right[j]); j += 1\r\n",
    "        while i < nL:\r\n",
    "            Swap+=1\r\n",
    "            Sorted.append(left[i]); i += 1\r\n",
    "        while j < nR:\r\n",
    "            Swap+=1\r\n",
    "            Sorted.append(right[j]); j += 1\r\n",
    "        return Sorted    \r\n",
    "    sorted_score = merge_sort(Students, len(Students))\r\n",
    "    print(f\"比較回数: {Comp},入れ替え回数: {Swap}\")\r\n",
    "    output = input('Output file name?: ')\r\n",
    "    with open(output, \"w\") as f:\r\n",
    "        for student in sorted_score:\r\n",
    "            csv.writer(f).writerow(student.data())\r\n",
    "        print(f\"OutputFileName: {output}\")"
   ]
  },
  {
   "cell_type": "code",
   "execution_count": 8,
   "metadata": {},
   "outputs": [
    {
     "name": "stdout",
     "output_type": "stream",
     "text": [
      "比較回数: 32,入れ替え回数: 8\n",
      "OutputFileName: output1.txt\n"
     ]
    }
   ],
   "source": [
    "main()"
   ]
  },
  {
   "cell_type": "code",
   "execution_count": 9,
   "metadata": {},
   "outputs": [
    {
     "name": "stdout",
     "output_type": "stream",
     "text": [
      "比較回数: 4004,入れ替え回数: 366\n",
      "OutputFileName: output2.txt\n"
     ]
    }
   ],
   "source": [
    "main()"
   ]
  },
  {
   "cell_type": "code",
   "execution_count": 10,
   "metadata": {},
   "outputs": [
    {
     "name": "stdout",
     "output_type": "stream",
     "text": [
      "比較回数: 44314,入れ替え回数: 2867\n",
      "OutputFileName: output3.txt\n"
     ]
    }
   ],
   "source": [
    "main()"
   ]
  },
  {
   "cell_type": "code",
   "execution_count": null,
   "metadata": {},
   "outputs": [],
   "source": []
  }
 ],
 "metadata": {
  "interpreter": {
   "hash": "4e9d0c9023791c00d461768debe42cb8d4f7ee10b618a3c4b57dfa37c6faa26d"
  },
  "kernelspec": {
   "display_name": "Python 3.7.6 64-bit ('base': conda)",
   "name": "python3"
  },
  "language_info": {
   "codemirror_mode": {
    "name": "ipython",
    "version": 3
   },
   "file_extension": ".py",
   "mimetype": "text/x-python",
   "name": "python",
   "nbconvert_exporter": "python",
   "pygments_lexer": "ipython3",
   "version": "3.7.6"
  },
  "orig_nbformat": 4
 },
 "nbformat": 4,
 "nbformat_minor": 2
}