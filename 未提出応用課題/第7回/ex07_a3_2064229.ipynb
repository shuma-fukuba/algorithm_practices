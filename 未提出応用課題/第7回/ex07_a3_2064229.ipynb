{
 "cells": [
  {
   "cell_type": "code",
   "execution_count": 1,
   "metadata": {},
   "outputs": [],
   "source": [
    "import random\r\n",
    "\r\n",
    "dgt3 = random.sample(range(10000), k=999)\r\n",
    "dgt4 = random.sample(range(100000), k=9999)\r\n",
    "dgt5 = random.sample(range(1000000), k=99999)\r\n",
    "\r\n",
    "inputs = [dgt3, dgt4, dgt5]"
   ]
  },
  {
   "cell_type": "code",
   "execution_count": 2,
   "metadata": {},
   "outputs": [],
   "source": [
    "def quick(Input):\r\n",
    "    comp, swap = 0, 0\r\n",
    "    def quick_sub(array, n):\r\n",
    "        nonlocal comp\r\n",
    "        nonlocal swap\r\n",
    "\r\n",
    "        if n < 1:\r\n",
    "            return array\r\n",
    "        else:\r\n",
    "            piv, left, right = array[0], [], []\r\n",
    "            for elem in array[1:]:\r\n",
    "                comp += 2\r\n",
    "                if elem > piv:\r\n",
    "                    swap += 1\r\n",
    "                    right.append(elem)\r\n",
    "                \r\n",
    "                elif elem < piv:\r\n",
    "                    swap += 1\r\n",
    "                    left.append(elem)\r\n",
    "                \r\n",
    "            left = quick_sub(left, len(left))\r\n",
    "            right = quick_sub(right, len(right))\r\n",
    "            return left + [piv] + right\r\n",
    "    %timeit -r 1 -n 1 quick_sub(Input, len(Input))\r\n",
    "    print(f\"比較回数: {comp}, 入れ替え回数: {swap}\")"
   ]
  },
  {
   "cell_type": "code",
   "execution_count": 3,
   "metadata": {},
   "outputs": [],
   "source": [
    "def bubble(Input):\r\n",
    "    comp = 0\r\n",
    "    swap = 0\r\n",
    "    def bubble_sub(array, n):\r\n",
    "        nonlocal comp\r\n",
    "        nonlocal swap\r\n",
    "        for i in range(n):\r\n",
    "            for j in range(0, n-i-1):\r\n",
    "                comp += 1\r\n",
    "                if array[j] > array[j+1]:\r\n",
    "                    swap += 1\r\n",
    "                    array[j], array[j+1] = array[j+1], array[j]\r\n",
    "        return array\r\n",
    "    %timeit -r 1 -n 1 bubble_sub(Input, len(Input))\r\n",
    "    print(f\"比較回数: {comp}, 入れ替え回数: {swap}\")"
   ]
  },
  {
   "cell_type": "code",
   "execution_count": 4,
   "metadata": {},
   "outputs": [],
   "source": [
    "def select(input):\r\n",
    "    def select_sub(array, n):\r\n",
    "        comp = 0\r\n",
    "        swap = 0\r\n",
    "        for i in range(0, n-1):\r\n",
    "            min = i\r\n",
    "            for j in range(i+1,n):\r\n",
    "                comp += 1\r\n",
    "                if  array[min] > array[j]:\r\n",
    "                    min = j\r\n",
    "            swap += 1\r\n",
    "            array[min],array[i] = array[i],array[min]\r\n",
    "        print(f\"比較回数: {comp},入れ替え回数: {swap}\")\r\n",
    "        return array\r\n",
    "    %timeit -r 1 -n 1 select_sub(input,len(input))"
   ]
  },
  {
   "cell_type": "code",
   "execution_count": 10,
   "metadata": {},
   "outputs": [],
   "source": [
    "def merge(Input):\r\n",
    "    comp = 0\r\n",
    "    swap = 0\r\n",
    "    def merge_sub(array, n):\r\n",
    "        if n <= 1:\r\n",
    "            return array\r\n",
    "        else:\r\n",
    "            center = n // 2\r\n",
    "            left, right = array[:center], array[center:]\r\n",
    "        def merge_sort(left, right):\r\n",
    "            nonlocal comp\r\n",
    "            nonlocal swap\r\n",
    "            left_l = len(left)\r\n",
    "            right_l = len(right)\r\n",
    "            i, j, Sorted = 0, 0, []\r\n",
    "            while i < left_l and j < right_l:\r\n",
    "                if right[j] < left[i]:\r\n",
    "                    comp += 1\r\n",
    "                    Sorted.append(right[j])\r\n",
    "                    j += 1\r\n",
    "                else:\r\n",
    "                    Sorted.append(left[i])\r\n",
    "                    i += 1\r\n",
    "            while i < left_l:\r\n",
    "                swap += 1\r\n",
    "                Sorted.append(left[i])\r\n",
    "                i += 1\r\n",
    "            while j < right_l:\r\n",
    "                swap += 1\r\n",
    "                Sorted.append(right[j])\r\n",
    "                j += 1\r\n",
    "            return Sorted\r\n",
    "        return merge_sort(merge_sub(left, len(left)), merge_sub(right, len(right)))\r\n",
    "    %timeit -r 1 -n 1 merge_sub(Input, len(Input))\r\n",
    "    print(f\"比較回数: {comp},入れ替え回数: {swap}\")"
   ]
  },
  {
   "cell_type": "code",
   "execution_count": 6,
   "metadata": {},
   "outputs": [
    {
     "name": "stdout",
     "output_type": "stream",
     "text": [
      "8.21 ms ± 0 ns per loop (mean ± std. dev. of 1 run, 1 loop each)\n",
      "比較回数: 20480, 入れ替え回数: 10240\n",
      "99.1 ms ± 0 ns per loop (mean ± std. dev. of 1 run, 1 loop each)\n",
      "比較回数: 295024, 入れ替え回数: 147512\n",
      "854 ms ± 0 ns per loop (mean ± std. dev. of 1 run, 1 loop each)\n",
      "比較回数: 3866266, 入れ替え回数: 1933133\n"
     ]
    }
   ],
   "source": [
    "for x in inputs:\r\n",
    "    quick(x)"
   ]
  },
  {
   "cell_type": "code",
   "execution_count": 8,
   "metadata": {},
   "outputs": [
    {
     "name": "stdout",
     "output_type": "stream",
     "text": [
      "266 ms ± 0 ns per loop (mean ± std. dev. of 1 run, 1 loop each)\n",
      "比較回数: 498501, 入れ替え回数: 245779\n",
      "19 s ± 0 ns per loop (mean ± std. dev. of 1 run, 1 loop each)\n",
      "比較回数: 49985001, 入れ替え回数: 24945302\n",
      "2h 53min 46s ± 0 ns per loop (mean ± std. dev. of 1 run, 1 loop each)\n",
      "比較回数: 4999850001, 入れ替え回数: 2503243445\n"
     ]
    }
   ],
   "source": [
    "for x in inputs:\r\n",
    "    bubble(x)"
   ]
  },
  {
   "cell_type": "code",
   "execution_count": 11,
   "metadata": {},
   "outputs": [
    {
     "name": "stdout",
     "output_type": "stream",
     "text": [
      "11.5 ms ± 0 ns per loop (mean ± std. dev. of 1 run, 1 loop each)\n",
      "比較回数: 4386,入れ替え回数: 1317\n",
      "152 ms ± 0 ns per loop (mean ± std. dev. of 1 run, 1 loop each)\n",
      "比較回数: 61348,入れ替え回数: 13162\n",
      "851 ms ± 0 ns per loop (mean ± std. dev. of 1 run, 1 loop each)\n",
      "比較回数: 776221,入れ替え回数: 132794\n"
     ]
    }
   ],
   "source": [
    "for x in inputs:\r\n",
    "    merge(x)"
   ]
  },
  {
   "cell_type": "code",
   "execution_count": 12,
   "metadata": {},
   "outputs": [
    {
     "name": "stdout",
     "output_type": "stream",
     "text": [
      "比較回数: 498501,入れ替え回数: 998\n",
      "107 ms ± 0 ns per loop (mean ± std. dev. of 1 run, 1 loop each)\n",
      "比較回数: 49985001,入れ替え回数: 9998\n",
      "7.71 s ± 0 ns per loop (mean ± std. dev. of 1 run, 1 loop each)\n",
      "比較回数: 4999850001,入れ替え回数: 99998\n",
      "49min 11s ± 0 ns per loop (mean ± std. dev. of 1 run, 1 loop each)\n"
     ]
    }
   ],
   "source": [
    "for x in inputs:\r\n",
    "    select(x)"
   ]
  },
  {
   "cell_type": "code",
   "execution_count": null,
   "metadata": {},
   "outputs": [],
   "source": []
  }
 ],
 "metadata": {
  "interpreter": {
   "hash": "4e9d0c9023791c00d461768debe42cb8d4f7ee10b618a3c4b57dfa37c6faa26d"
  },
  "kernelspec": {
   "display_name": "Python 3.7.6 64-bit ('base': conda)",
   "name": "python3"
  },
  "language_info": {
   "codemirror_mode": {
    "name": "ipython",
    "version": 3
   },
   "file_extension": ".py",
   "mimetype": "text/x-python",
   "name": "python",
   "nbconvert_exporter": "python",
   "pygments_lexer": "ipython3",
   "version": "3.7.6"
  },
  "orig_nbformat": 4
 },
 "nbformat": 4,
 "nbformat_minor": 2
}