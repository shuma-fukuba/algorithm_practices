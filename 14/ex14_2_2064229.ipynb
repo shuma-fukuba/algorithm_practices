{
    "cells": [
        {
            "cell_type": "code",
            "execution_count": 47,
            "source": [
                "class Node:\r\n",
                "    def __init__(self, num, name, pro, left=None, right=None):\r\n",
                "        self.num = int(num)\r\n",
                "        self.name = name\r\n",
                "        self.pro = pro\r\n",
                "        self.left = left\r\n",
                "        self.right = right\r\n",
                "\r\n",
                "class Tree:\r\n",
                "    def __init__(self, lists):\r\n",
                "        self.root = Node(0, None, None)\r\n",
                "        for node in lists:\r\n",
                "            self.insert(int(node[0]), node[1], node[2])\r\n",
                "\r\n",
                "    def show(self, node, h:int):\r\n",
                "        if node is not None:\r\n",
                "            self.show(node.right, h=h+1)\r\n",
                "            print(\"\\t\"*h, end=\"\")\r\n",
                "            print(\"{:d}\".format(node.num), end=\" \")\r\n",
                "            print(node.name, end=\" \")\r\n",
                "            print(node.pro)\r\n",
                "            self.show(node.left, h=h+1)\r\n",
                "\r\n",
                "    def insert(self, num, name, pro):\r\n",
                "        n = self.root\r\n",
                "        if n == None:\r\n",
                "            self.root = Node(num, name, pro)\r\n",
                "            return\r\n",
                "        else:\r\n",
                "            while True:\r\n",
                "                entry = n.num\r\n",
                "                if num < entry:\r\n",
                "                    if n.left is None:\r\n",
                "                        n.left = Node(num, name, pro)\r\n",
                "                        return\r\n",
                "                    n = n.left\r\n",
                "                elif num > entry:\r\n",
                "                    if n.right is None:\r\n",
                "                        n.right = Node(num, name, pro)\r\n",
                "                        return\r\n",
                "                    n = n.right\r\n",
                "                else:\r\n",
                "                    n.num = num\r\n",
                "                    return\r\n",
                "\r\n",
                "    def search(self, num):\r\n",
                "        searcher = self._search_bool(num)\r\n",
                "        if searcher is None:\r\n",
                "            print('Search target is not found')\r\n",
                "        elif searcher is not None:\r\n",
                "            print(str(searcher.num) + ' ' + searcher.name + ' ' + searcher.pro)\r\n",
                "        elif searcher is None:\r\n",
                "            print(str(num) + ' is not found')\r\n",
                "    \r\n",
                "    def _search_bool(self, num):\r\n",
                "        n = self.root\r\n",
                "        if n is None:\r\n",
                "            return None\r\n",
                "        else:\r\n",
                "            lst = []\r\n",
                "            lst.append(n)\r\n",
                "            while len(lst) > 0:\r\n",
                "                node = lst.pop()\r\n",
                "                if node.num == num:\r\n",
                "                    return node\r\n",
                "                if node.right is not None:\r\n",
                "                    lst.append(node.right)\r\n",
                "                if node.left is not None:\r\n",
                "                    lst.append(node.left)\r\n",
                "            return None"
            ],
            "outputs": [],
            "metadata": {}
        },
        {
            "cell_type": "code",
            "execution_count": 48,
            "source": [
                "def file_datas():\r\n",
                "    datas = []\r\n",
                "    with open('Zac_japan.txt', encoding='utf-8', mode='r') as f:\r\n",
                "            rows = f.readlines()\r\n",
                "            for row in rows:\r\n",
                "                ret = row.split(' ')\r\n",
                "                datas.append(ret)\r\n",
                "    return datas"
            ],
            "outputs": [],
            "metadata": {}
        },
        {
            "cell_type": "code",
            "execution_count": 49,
            "source": [
                "def main():\r\n",
                "    command = 0\r\n",
                "    tree = Tree(file_datas())\r\n",
                "    while True:\r\n",
                "        print('------------------------------------------')\r\n",
                "        command = int(input('Menu?(1:探索, 2:表示, 9:終了):'))\r\n",
                "        if command == 1:\r\n",
                "            num = int(input(\"検索したい登録番号?: \"))\r\n",
                "            tree.search(num)\r\n",
                "        elif command == 2:\r\n",
                "            tree.show(tree.root, 0)\r\n",
                "        elif command == 9:\r\n",
                "            print('終了')\r\n",
                "            break\r\n",
                "        else:\r\n",
                "            continue"
            ],
            "outputs": [],
            "metadata": {}
        },
        {
            "cell_type": "code",
            "execution_count": 50,
            "source": [
                "main()"
            ],
            "outputs": [
                {
                    "output_type": "error",
                    "ename": "NameError",
                    "evalue": "name 'itn' is not defined",
                    "traceback": [
                        "\u001b[1;31m---------------------------------------------------------------------------\u001b[0m",
                        "\u001b[1;31mNameError\u001b[0m                                 Traceback (most recent call last)",
                        "\u001b[1;32m<ipython-input-50-263240bbee7e>\u001b[0m in \u001b[0;36m<module>\u001b[1;34m\u001b[0m\n\u001b[1;32m----> 1\u001b[1;33m \u001b[0mmain\u001b[0m\u001b[1;33m(\u001b[0m\u001b[1;33m)\u001b[0m\u001b[1;33m\u001b[0m\u001b[1;33m\u001b[0m\u001b[0m\n\u001b[0m",
                        "\u001b[1;32m<ipython-input-49-752198f88b9c>\u001b[0m in \u001b[0;36mmain\u001b[1;34m()\u001b[0m\n\u001b[0;32m      1\u001b[0m \u001b[1;32mdef\u001b[0m \u001b[0mmain\u001b[0m\u001b[1;33m(\u001b[0m\u001b[1;33m)\u001b[0m\u001b[1;33m:\u001b[0m\u001b[1;33m\u001b[0m\u001b[1;33m\u001b[0m\u001b[0m\n\u001b[0;32m      2\u001b[0m     \u001b[0mcommand\u001b[0m \u001b[1;33m=\u001b[0m \u001b[1;36m0\u001b[0m\u001b[1;33m\u001b[0m\u001b[1;33m\u001b[0m\u001b[0m\n\u001b[1;32m----> 3\u001b[1;33m     \u001b[0mtree\u001b[0m \u001b[1;33m=\u001b[0m \u001b[0mTree\u001b[0m\u001b[1;33m(\u001b[0m\u001b[0mfile_datas\u001b[0m\u001b[1;33m(\u001b[0m\u001b[1;33m)\u001b[0m\u001b[1;33m)\u001b[0m\u001b[1;33m\u001b[0m\u001b[1;33m\u001b[0m\u001b[0m\n\u001b[0m\u001b[0;32m      4\u001b[0m     \u001b[1;32mwhile\u001b[0m \u001b[1;32mTrue\u001b[0m\u001b[1;33m:\u001b[0m\u001b[1;33m\u001b[0m\u001b[1;33m\u001b[0m\u001b[0m\n\u001b[0;32m      5\u001b[0m         \u001b[0mprint\u001b[0m\u001b[1;33m(\u001b[0m\u001b[1;34m'------------------------------------------'\u001b[0m\u001b[1;33m)\u001b[0m\u001b[1;33m\u001b[0m\u001b[1;33m\u001b[0m\u001b[0m\n",
                        "\u001b[1;32m<ipython-input-47-290e81a7a6d8>\u001b[0m in \u001b[0;36m__init__\u001b[1;34m(self, lists)\u001b[0m\n\u001b[0;32m     11\u001b[0m         \u001b[0mself\u001b[0m\u001b[1;33m.\u001b[0m\u001b[0mroot\u001b[0m \u001b[1;33m=\u001b[0m \u001b[0mNode\u001b[0m\u001b[1;33m(\u001b[0m\u001b[1;36m0\u001b[0m\u001b[1;33m,\u001b[0m \u001b[1;32mNone\u001b[0m\u001b[1;33m,\u001b[0m \u001b[1;32mNone\u001b[0m\u001b[1;33m)\u001b[0m\u001b[1;33m\u001b[0m\u001b[1;33m\u001b[0m\u001b[0m\n\u001b[0;32m     12\u001b[0m         \u001b[1;32mfor\u001b[0m \u001b[0mnode\u001b[0m \u001b[1;32min\u001b[0m \u001b[0mlists\u001b[0m\u001b[1;33m:\u001b[0m\u001b[1;33m\u001b[0m\u001b[1;33m\u001b[0m\u001b[0m\n\u001b[1;32m---> 13\u001b[1;33m             \u001b[0mself\u001b[0m\u001b[1;33m.\u001b[0m\u001b[0minsert\u001b[0m\u001b[1;33m(\u001b[0m\u001b[0mitn\u001b[0m\u001b[1;33m(\u001b[0m\u001b[0mnode\u001b[0m\u001b[1;33m[\u001b[0m\u001b[1;36m0\u001b[0m\u001b[1;33m]\u001b[0m\u001b[1;33m)\u001b[0m\u001b[1;33m,\u001b[0m \u001b[0mnode\u001b[0m\u001b[1;33m[\u001b[0m\u001b[1;36m1\u001b[0m\u001b[1;33m]\u001b[0m\u001b[1;33m,\u001b[0m \u001b[0mnode\u001b[0m\u001b[1;33m[\u001b[0m\u001b[1;36m2\u001b[0m\u001b[1;33m]\u001b[0m\u001b[1;33m)\u001b[0m\u001b[1;33m\u001b[0m\u001b[1;33m\u001b[0m\u001b[0m\n\u001b[0m\u001b[0;32m     14\u001b[0m \u001b[1;33m\u001b[0m\u001b[0m\n\u001b[0;32m     15\u001b[0m     \u001b[1;32mdef\u001b[0m \u001b[0mshow\u001b[0m\u001b[1;33m(\u001b[0m\u001b[0mself\u001b[0m\u001b[1;33m,\u001b[0m \u001b[0mnode\u001b[0m\u001b[1;33m,\u001b[0m \u001b[0mh\u001b[0m\u001b[1;33m:\u001b[0m\u001b[0mint\u001b[0m\u001b[1;33m)\u001b[0m\u001b[1;33m:\u001b[0m\u001b[1;33m\u001b[0m\u001b[1;33m\u001b[0m\u001b[0m\n",
                        "\u001b[1;31mNameError\u001b[0m: name 'itn' is not defined"
                    ]
                }
            ],
            "metadata": {}
        },
        {
            "cell_type": "code",
            "execution_count": null,
            "source": [],
            "outputs": [],
            "metadata": {}
        }
    ],
    "metadata": {
        "orig_nbformat": 4,
        "language_info": {
            "name": "python",
            "version": "3.7.6",
            "mimetype": "text/x-python",
            "codemirror_mode": {
                "name": "ipython",
                "version": 3
            },
            "pygments_lexer": "ipython3",
            "nbconvert_exporter": "python",
            "file_extension": ".py"
        },
        "kernelspec": {
            "name": "python3",
            "display_name": "Python 3.7.6 64-bit ('base': conda)"
        },
        "interpreter": {
            "hash": "4e9d0c9023791c00d461768debe42cb8d4f7ee10b618a3c4b57dfa37c6faa26d"
        }
    },
    "nbformat": 4,
    "nbformat_minor": 2
}