{
    "cells": [
        {
            "cell_type": "code",
            "execution_count": 7,
            "source": [
                "class Node:\r\n",
                "    def __init__(self, num, name, pro, left=None, right=None):\r\n",
                "        self.num = int(num)\r\n",
                "        self.name = name\r\n",
                "        self.pro = pro\r\n",
                "        self.left = left\r\n",
                "        self.right = right\r\n",
                "\r\n",
                "\r\n",
                "class Tree:\r\n",
                "    def __init__(self):\r\n",
                "        self.root = Node(0, None, None)\r\n",
                "\r\n",
                "    def show(self, node, h:int):\r\n",
                "        if node is not None:\r\n",
                "            self.show(node.right, h=h+1)\r\n",
                "            print(\"\\t\"*h, end=\"\")\r\n",
                "            print(\"{:d}\".format(node.num), end=\" \")\r\n",
                "            print(node.name, end=\" \")\r\n",
                "            print(node.pro)\r\n",
                "            self.show(node.left, h=h+1)\r\n",
                "\r\n",
                "    def insert(self, num, name, pro):\r\n",
                "        n = self.root\r\n",
                "        if n == None:\r\n",
                "            self.root = Node(num, name, pro)\r\n",
                "            return\r\n",
                "        else:\r\n",
                "            while True:\r\n",
                "                entry = n.num\r\n",
                "                if num < entry:\r\n",
                "                    if n.left is None:\r\n",
                "                        n.left = Node(num, name, pro)\r\n",
                "                        return\r\n",
                "                    n = n.left\r\n",
                "                elif num > entry:\r\n",
                "                    if n.right is None:\r\n",
                "                        n.right = Node(num, name, pro)\r\n",
                "                        return\r\n",
                "                    n = n.right\r\n",
                "                else:\r\n",
                "                    n.num = num\r\n",
                "                    return"
            ],
            "outputs": [],
            "metadata": {}
        },
        {
            "cell_type": "code",
            "execution_count": 8,
            "source": [
                "def file_datas():\r\n",
                "    datas = []\r\n",
                "    with open('Zac_japan.txt', encoding='utf-8', mode='r') as f:\r\n",
                "            rows = f.readlines()\r\n",
                "            for row in rows:\r\n",
                "                ret = row.split(' ')\r\n",
                "                datas.append(ret)\r\n",
                "    return datas"
            ],
            "outputs": [],
            "metadata": {}
        },
        {
            "cell_type": "code",
            "execution_count": 11,
            "source": [
                "def main():\r\n",
                "    tree = Tree()\r\n",
                "    for row in file_datas():\r\n",
                "        tree.insert(int(row[0]), row[1], row[2])\r\n",
                "    tree.show(tree.root, 0)"
            ],
            "outputs": [],
            "metadata": {}
        },
        {
            "cell_type": "code",
            "execution_count": 10,
            "source": [
                "main()"
            ],
            "outputs": [
                {
                    "output_type": "error",
                    "ename": "TypeError",
                    "evalue": "show() missing 2 required positional arguments: 'node' and 'h'",
                    "traceback": [
                        "\u001b[1;31m---------------------------------------------------------------------------\u001b[0m",
                        "\u001b[1;31mTypeError\u001b[0m                                 Traceback (most recent call last)",
                        "\u001b[1;32m<ipython-input-10-263240bbee7e>\u001b[0m in \u001b[0;36m<module>\u001b[1;34m\u001b[0m\n\u001b[1;32m----> 1\u001b[1;33m \u001b[0mmain\u001b[0m\u001b[1;33m(\u001b[0m\u001b[1;33m)\u001b[0m\u001b[1;33m\u001b[0m\u001b[1;33m\u001b[0m\u001b[0m\n\u001b[0m",
                        "\u001b[1;32m<ipython-input-9-82319488c220>\u001b[0m in \u001b[0;36mmain\u001b[1;34m()\u001b[0m\n\u001b[0;32m      3\u001b[0m     \u001b[1;32mfor\u001b[0m \u001b[0mrow\u001b[0m \u001b[1;32min\u001b[0m \u001b[0mfile_datas\u001b[0m\u001b[1;33m(\u001b[0m\u001b[1;33m)\u001b[0m\u001b[1;33m:\u001b[0m\u001b[1;33m\u001b[0m\u001b[1;33m\u001b[0m\u001b[0m\n\u001b[0;32m      4\u001b[0m         \u001b[0mtree\u001b[0m\u001b[1;33m.\u001b[0m\u001b[0minsert\u001b[0m\u001b[1;33m(\u001b[0m\u001b[0mint\u001b[0m\u001b[1;33m(\u001b[0m\u001b[0mrow\u001b[0m\u001b[1;33m[\u001b[0m\u001b[1;36m0\u001b[0m\u001b[1;33m]\u001b[0m\u001b[1;33m)\u001b[0m\u001b[1;33m,\u001b[0m \u001b[0mrow\u001b[0m\u001b[1;33m[\u001b[0m\u001b[1;36m1\u001b[0m\u001b[1;33m]\u001b[0m\u001b[1;33m,\u001b[0m \u001b[0mrow\u001b[0m\u001b[1;33m[\u001b[0m\u001b[1;36m2\u001b[0m\u001b[1;33m]\u001b[0m\u001b[1;33m)\u001b[0m\u001b[1;33m\u001b[0m\u001b[1;33m\u001b[0m\u001b[0m\n\u001b[1;32m----> 5\u001b[1;33m     \u001b[0mtree\u001b[0m\u001b[1;33m.\u001b[0m\u001b[0mshow\u001b[0m\u001b[1;33m(\u001b[0m\u001b[1;33m)\u001b[0m\u001b[1;33m\u001b[0m\u001b[1;33m\u001b[0m\u001b[0m\n\u001b[0m",
                        "\u001b[1;31mTypeError\u001b[0m: show() missing 2 required positional arguments: 'node' and 'h'"
                    ]
                }
            ],
            "metadata": {}
        },
        {
            "cell_type": "code",
            "execution_count": null,
            "source": [],
            "outputs": [],
            "metadata": {}
        }
    ],
    "metadata": {
        "orig_nbformat": 4,
        "language_info": {
            "name": "python",
            "version": "3.7.6",
            "mimetype": "text/x-python",
            "codemirror_mode": {
                "name": "ipython",
                "version": 3
            },
            "pygments_lexer": "ipython3",
            "nbconvert_exporter": "python",
            "file_extension": ".py"
        },
        "kernelspec": {
            "name": "python3",
            "display_name": "Python 3.7.6 64-bit ('base': conda)"
        },
        "interpreter": {
            "hash": "4e9d0c9023791c00d461768debe42cb8d4f7ee10b618a3c4b57dfa37c6faa26d"
        }
    },
    "nbformat": 4,
    "nbformat_minor": 2
}