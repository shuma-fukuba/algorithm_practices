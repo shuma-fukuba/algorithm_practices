{
 "metadata": {
  "language_info": {
   "codemirror_mode": {
    "name": "ipython",
    "version": 3
   },
   "file_extension": ".py",
   "mimetype": "text/x-python",
   "name": "python",
   "nbconvert_exporter": "python",
   "pygments_lexer": "ipython3",
   "version": "3.9.2"
  },
  "orig_nbformat": 4,
  "kernelspec": {
   "name": "python3",
   "display_name": "Python 3.9.2 64-bit ('my_django_environment': conda)"
  },
  "interpreter": {
   "hash": "1215578185007176f22ab61f9a6c70bda1b2e3219f7f90b26df9d7e5ba7b5384"
  }
 },
 "nbformat": 4,
 "nbformat_minor": 2,
 "cells": [
  {
   "cell_type": "code",
   "execution_count": 5,
   "metadata": {},
   "outputs": [],
   "source": [
    "import math"
   ]
  },
  {
   "cell_type": "code",
   "execution_count": 10,
   "metadata": {},
   "outputs": [],
   "source": [
    "route_list = [[0, 1, 1, 0, 0], [1, 0, 1, 1, 1], [1, 1, 0, 1, 0], [0, 1, 1, 0, 1], [0, 1, 0, 1, 0]]\n",
    "node_num = len(route_list)\n",
    "\n",
    "unsearched_nodes = list(range(node_num))\n",
    "distance = [math.inf] * node_num\n",
    "previous_nodes = [-1] * node_num\n",
    "distance[0] = 0"
   ]
  },
  {
   "cell_type": "code",
   "execution_count": 11,
   "metadata": {},
   "outputs": [],
   "source": [
    "def get_target_min_index(min_index, distance, unsearched_nodes):\n",
    "    start = 0\n",
    "    while True:\n",
    "        index = distance.index(min_index, start)\n",
    "        found = index in unsearched_nodes\n",
    "        if found:\n",
    "            return index\n",
    "        else:\n",
    "            start = index + 1"
   ]
  },
  {
   "cell_type": "code",
   "execution_count": 14,
   "metadata": {},
   "outputs": [
    {
     "output_type": "stream",
     "name": "stdout",
     "text": [
      "-----経路-----\n5 - 2 - 1\n"
     ]
    }
   ],
   "source": [
    "while(len(unsearched_nodes) != 0):\n",
    "    posible_min_distance = math.inf\n",
    "    for node_index in unsearched_nodes:\n",
    "        if posible_min_distance > distance[node_index]: \n",
    "            posible_min_distance = distance[node_index]\n",
    "    target_min_index = get_target_min_index(posible_min_distance, distance, unsearched_nodes)\n",
    "    unsearched_nodes.remove(target_min_index)\n",
    "    target_edge = route_list[target_min_index] \n",
    "    for index, route_dis in enumerate(target_edge):\n",
    "        if route_dis != 0:\n",
    "            if distance[index] > (distance[ target_min_index] + route_dis):\n",
    "                distance[index] = distance[ target_min_index] + route_dis\n",
    "                previous_nodes[index] =  target_min_index\n",
    "\n",
    "print(\"-----経路-----\")\n",
    "previous_node = node_num - 1\n",
    "while previous_node != -1:\n",
    "    if previous_node !=0:\n",
    "        print(str(previous_node + 1) + \" - \", end='')\n",
    "    else:\n",
    "        print(str(previous_node + 1))\n",
    "    previous_node = previous_nodes[previous_node]"
   ]
  },
  {
   "cell_type": "code",
   "execution_count": 28,
   "metadata": {},
   "outputs": [],
   "source": [
    "a, b, c, d, e = range(5)\n",
    "\n",
    "G = [[b, c], [a, c, d, e], [a, b, d], [b, c, d], [b, d]]\n",
    "\n",
    "def set_univisited(G):\n",
    "    vstates = []\n",
    "    for vertex in range(len(G)):\n",
    "        vstates.append(None)\n",
    "    return vstates\n",
    "\n",
    "states = set_univisited(G)\n",
    "def DFS(G, start):\n",
    "    states[start] = True\n",
    "    print(start)\n",
    "    for u in G[start]:\n",
    "        if not states[u]:\n",
    "            DFS(G, u)"
   ]
  },
  {
   "cell_type": "code",
   "execution_count": 29,
   "metadata": {},
   "outputs": [
    {
     "output_type": "stream",
     "name": "stdout",
     "text": [
      "0\n1\n2\n3\n4\n"
     ]
    }
   ],
   "source": [
    "DFS(G, 0)"
   ]
  },
  {
   "cell_type": "code",
   "execution_count": 39,
   "metadata": {},
   "outputs": [],
   "source": [
    "G = [\n",
    "  [1,2,-1],\n",
    "  [0,2,3,4,-1],\n",
    "  [0,1,3,-1],\n",
    "  [1,2,4,-1],\n",
    "  [1,3,-1]\n",
    "]\n",
    "\n",
    "def sol(G:list, i:int):\n",
    "    nums = []\n",
    "    if i+1 == 4:\n",
    "        nums.append(i+1)\n",
    "        print(nums)\n",
    "    else:\n",
    "        if i not in nums:\n",
    "            nums.append(i)\n",
    "            sol(G, i+1)\n"
   ]
  },
  {
   "cell_type": "code",
   "execution_count": 40,
   "metadata": {},
   "outputs": [
    {
     "output_type": "stream",
     "name": "stdout",
     "text": [
      "[4]\n"
     ]
    }
   ],
   "source": [
    "sol(G, 0)"
   ]
  },
  {
   "cell_type": "code",
   "execution_count": null,
   "metadata": {},
   "outputs": [],
   "source": [
    "}"
   ]
  }
 ]
}