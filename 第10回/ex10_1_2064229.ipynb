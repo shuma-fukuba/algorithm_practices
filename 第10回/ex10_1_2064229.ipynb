{
 "metadata": {
  "language_info": {
   "codemirror_mode": {
    "name": "ipython",
    "version": 3
   },
   "file_extension": ".py",
   "mimetype": "text/x-python",
   "name": "python",
   "nbconvert_exporter": "python",
   "pygments_lexer": "ipython3",
   "version": "3.9.2"
  },
  "orig_nbformat": 4,
  "kernelspec": {
   "name": "python3",
   "display_name": "Python 3.9.2 64-bit ('my_django_environment': conda)"
  },
  "interpreter": {
   "hash": "1215578185007176f22ab61f9a6c70bda1b2e3219f7f90b26df9d7e5ba7b5384"
  }
 },
 "nbformat": 4,
 "nbformat_minor": 2,
 "cells": [
  {
   "cell_type": "code",
   "execution_count": 15,
   "metadata": {},
   "outputs": [],
   "source": [
    "def calcuration(a, b):\n",
    "    if a / b == 3:\n",
    "        print(a, b)\n",
    "\n",
    "def nodup():\n",
    "    nums = list(range(1, 10))\n",
    "    for i in nums:\n",
    "        for j in nums:\n",
    "            if i != j:\n",
    "                for k in nums:\n",
    "                    if i != k and j != k:\n",
    "                        for l in nums:\n",
    "                            if i != l and j != l and k != l:\n",
    "                                a = int(str(i)+str(j))\n",
    "                                b = int(str(k)+str(l))\n",
    "                                calcuration(a, b)\n",
    "                            else:\n",
    "                                continue\n",
    "                    else:\n",
    "                        continue\n",
    "            else:\n",
    "                continue"
   ]
  },
  {
   "cell_type": "code",
   "execution_count": 16,
   "metadata": {},
   "outputs": [
    {
     "output_type": "stream",
     "name": "stdout",
     "text": [
      "36 12\n48 16\n54 18\n57 19\n63 21\n69 23\n78 26\n81 27\n87 29\n96 32\n"
     ]
    }
   ],
   "source": [
    "nodup()"
   ]
  },
  {
   "cell_type": "code",
   "execution_count": null,
   "metadata": {},
   "outputs": [],
   "source": []
  }
 ]
}