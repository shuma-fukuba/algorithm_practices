{
 "metadata": {
  "language_info": {
   "codemirror_mode": {
    "name": "ipython",
    "version": 3
   },
   "file_extension": ".py",
   "mimetype": "text/x-python",
   "name": "python",
   "nbconvert_exporter": "python",
   "pygments_lexer": "ipython3",
   "version": "3.9.2"
  },
  "orig_nbformat": 4,
  "kernelspec": {
   "name": "python3",
   "display_name": "Python 3.9.2 64-bit ('my_django_environment': conda)"
  },
  "interpreter": {
   "hash": "1215578185007176f22ab61f9a6c70bda1b2e3219f7f90b26df9d7e5ba7b5384"
  }
 },
 "nbformat": 4,
 "nbformat_minor": 2,
 "cells": [
  {
   "cell_type": "code",
   "execution_count": 18,
   "metadata": {},
   "outputs": [],
   "source": [
    "route_list = [[0, 1, 1, 0, 0], [1, 0, 1, 1, 1], [1, 1, 0, 1, 0], [0, 1, 1, 0, 1], [0, 1, 0, 1, 0]] # 経路\n",
    "\n",
    "nums = []\n",
    "def calc(i=0):\n",
    "    global nums\n",
    "    maze = [0, 1, 2, 3, 4]\n",
    "    if maze[i] == 4:\n",
    "        nums.append(maze[i])\n",
    "        print(nums)\n",
    "    else:\n",
    "        nums.append(maze[i])\n",
    "        if i < len(maze):\n",
    "            solution(i+1)\n",
    "\n",
    "\n",
    "def solution(route:list, i=0):\n",
    "    global nums\n",
    "    mazes = [0, 1, 2, 3, 4]\n",
    "    for r, maze in zip(route, mazes):\n",
    "        if r == 1:\n",
    "            if maze == 4:\n",
    "                nums.append(maze)\n",
    "                print(nums)\n",
    "            else:\n",
    "                nums.append(maze)\n",
    "                solution(route_list[maze])"
   ]
  },
  {
   "cell_type": "code",
   "execution_count": null,
   "metadata": {},
   "outputs": [],
   "source": [
    "solution(route_list[0])"
   ]
  },
  {
   "cell_type": "code",
   "execution_count": null,
   "metadata": {},
   "outputs": [],
   "source": [
    "solution(route_list[0])"
   ]
  },
  {
   "cell_type": "code",
   "execution_count": null,
   "metadata": {},
   "outputs": [],
   "source": []
  }
 ]
}