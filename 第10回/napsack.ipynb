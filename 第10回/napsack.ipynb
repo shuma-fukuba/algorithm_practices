{
 "metadata": {
  "language_info": {
   "codemirror_mode": {
    "name": "ipython",
    "version": 3
   },
   "file_extension": ".py",
   "mimetype": "text/x-python",
   "name": "python",
   "nbconvert_exporter": "python",
   "pygments_lexer": "ipython3",
   "version": "3.9.2"
  },
  "orig_nbformat": 4,
  "kernelspec": {
   "name": "python3",
   "display_name": "Python 3.9.2 64-bit ('my_django_environment': conda)"
  },
  "interpreter": {
   "hash": "1215578185007176f22ab61f9a6c70bda1b2e3219f7f90b26df9d7e5ba7b5384"
  }
 },
 "nbformat": 4,
 "nbformat_minor": 2,
 "cells": [
  {
   "cell_type": "code",
   "execution_count": 1,
   "metadata": {},
   "outputs": [],
   "source": [
    "class Item:\n",
    "    def __init__(self, name, value, weight):\n",
    "        self.name = name\n",
    "        self.value = value\n",
    "        self.weight = weight"
   ]
  },
  {
   "cell_type": "code",
   "execution_count": 2,
   "metadata": {},
   "outputs": [],
   "source": [
    "items = [\n",
    "            Item(\"本\",10,500), Item(\"傘\",90,500), Item(\"下着\",90,300), Item(\"ジャケット\",30,1000),\n",
    "            Item(\"薬\",100,20), Item(\"MDプレーヤ\",20,400), Item(\"地図\",70,200), Item(\"宿チケット\",100,10),\n",
    "            Item(\"航空券\",100,10), Item(\"洗面用具\",50,300)\n",
    "        ]"
   ]
  },
  {
   "cell_type": "code",
   "execution_count": 3,
   "metadata": {},
   "outputs": [],
   "source": [
    "N = len(items)\n",
    "sel = [False]*N\n",
    "optsel = [False]*N\n",
    "limw = 500\n",
    "maxv = 0"
   ]
  },
  {
   "cell_type": "code",
   "execution_count": 4,
   "metadata": {},
   "outputs": [],
   "source": [
    "import copy\n",
    "\n",
    "def try_item(i, tw, av):\n",
    "    global sel, optsel, maxv\n",
    "\n",
    "    if tw + items[i].weight <= limw:\n",
    "        sel[i] = True\n",
    "        if i < N-1:\n",
    "            try_item(i+1, tw+items[i].weight, av)\n",
    "        elif av > maxv:\n",
    "            maxv = av\n",
    "            optsel = copy.copy(sel)\n",
    "        \n",
    "        sel[i] = False\n",
    "\n",
    "    av1  = av-items[i].value\n",
    "    if av1 > maxv:\n",
    "        if i < N-1:\n",
    "            try_item(i+1, tw, av1)\n",
    "        else:\n",
    "            maxv = av1\n",
    "            optsel = copy.copy(sel)"
   ]
  },
  {
   "cell_type": "code",
   "execution_count": 5,
   "metadata": {},
   "outputs": [
    {
     "output_type": "stream",
     "name": "stdout",
     "text": [
      "重量制限  500gの場合: 総価値 390: 下着 薬 宿チケット 航空券\n重量制限 1000gの場合: 総価値 510: 下着 薬 地図 宿チケット 航空券 洗面用具\n重量制限 1500gの場合: 総価値 600: 傘 下着 薬 地図 宿チケット 航空券 洗面用具\n重量制限 2000gの場合: 総価値 620: 傘 下着 薬 MDプレーヤ 地図 宿チケット 航空券 洗面用具\n重量制限 2500gの場合: 総価値 630: 本 傘 下着 薬 MDプレーヤ 地図 宿チケット 航空券 洗面用具\n重量制限 3000gの場合: 総価値 650: 傘 下着 ジャケット 薬 MDプレーヤ 地図 宿チケット 航空券 洗面用具\n"
     ]
    }
   ],
   "source": [
    "totv = sum([it.value for it in items])\n",
    "for limw in range(500, 3001, 500):\n",
    "    maxv = 0\n",
    "    sel = [False]*N\n",
    "    optsel = [False]*N\n",
    "\n",
    "    try_item(0, 0, totv)\n",
    "    print(\"重量制限 {:4d}gの場合: 総価値 {:3d}: \".format(limw, maxv), end=\"\")\n",
    "    sel_names = [] # optselで選択した品物の名前のリスト\n",
    "    for it,s in zip(items,optsel):\n",
    "        if s:\n",
    "            sel_names.append(it.name)\n",
    "    print(\" \".join(sel_names))    # \" \"を挟んで結合して表示"
   ]
  },
  {
   "cell_type": "code",
   "execution_count": null,
   "metadata": {},
   "outputs": [],
   "source": []
  }
 ]
}