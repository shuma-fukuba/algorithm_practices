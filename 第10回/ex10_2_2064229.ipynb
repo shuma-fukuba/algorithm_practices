{
 "metadata": {
  "language_info": {
   "codemirror_mode": {
    "name": "ipython",
    "version": 3
   },
   "file_extension": ".py",
   "mimetype": "text/x-python",
   "name": "python",
   "nbconvert_exporter": "python",
   "pygments_lexer": "ipython3",
   "version": "3.9.2"
  },
  "orig_nbformat": 4,
  "kernelspec": {
   "name": "python3",
   "display_name": "Python 3.9.2 64-bit ('my_django_environment': conda)"
  },
  "interpreter": {
   "hash": "1215578185007176f22ab61f9a6c70bda1b2e3219f7f90b26df9d7e5ba7b5384"
  }
 },
 "nbformat": 4,
 "nbformat_minor": 2,
 "cells": [
  {
   "cell_type": "code",
   "execution_count": 13,
   "metadata": {},
   "outputs": [],
   "source": [
    "class Item:\n",
    "    def __init__(self, name:str, weight:int):\n",
    "        self.name = name\n",
    "        self.weight = weight"
   ]
  },
  {
   "cell_type": "code",
   "execution_count": 18,
   "metadata": {},
   "outputs": [],
   "source": [
    "items = [Item(\"A\", 7),\n",
    "        Item(\"B\", 4),\n",
    "        Item(\"C\", 5),\n",
    "        Item(\"D\", 6),\n",
    "        Item(\"E\", 3)]\n",
    "# 最大積載量\n",
    "limw = 15\n",
    "N = len(items)\n",
    "sel = [False]*N"
   ]
  },
  {
   "cell_type": "code",
   "execution_count": 32,
   "metadata": {},
   "outputs": [],
   "source": [
    "def try_item(i, tw):\n",
    "    global sel\n",
    "    if tw + items[i].weight <= limw:\n",
    "        sel[i] = True\n",
    "        if i < N-1:\n",
    "            try_item(i+1, tw+items[i].weight)"
   ]
  },
  {
   "cell_type": "code",
   "execution_count": 33,
   "metadata": {},
   "outputs": [
    {
     "output_type": "stream",
     "name": "stdout",
     "text": [
      "最大積載量15tの荷物の組み合わせは\nA+B\n"
     ]
    }
   ],
   "source": [
    "try_item(0, 0)\n",
    "sel_names = []\n",
    "print('最大積載量15tの荷物の組み合わせは')\n",
    "for it, s in zip(items, sel):\n",
    "    if s:\n",
    "        sel_names.append(it.name)\n",
    "print(\"+\".join(sel_names))"
   ]
  },
  {
   "cell_type": "code",
   "execution_count": null,
   "metadata": {},
   "outputs": [],
   "source": []
  }
 ]
}