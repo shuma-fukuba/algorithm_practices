{
 "metadata": {
  "language_info": {
   "codemirror_mode": {
    "name": "ipython",
    "version": 3
   },
   "file_extension": ".py",
   "mimetype": "text/x-python",
   "name": "python",
   "nbconvert_exporter": "python",
   "pygments_lexer": "ipython3",
   "version": "3.9.2"
  },
  "orig_nbformat": 4,
  "kernelspec": {
   "name": "python3",
   "display_name": "Python 3.9.2 64-bit ('my_django_environment': conda)"
  },
  "interpreter": {
   "hash": "1215578185007176f22ab61f9a6c70bda1b2e3219f7f90b26df9d7e5ba7b5384"
  }
 },
 "nbformat": 4,
 "nbformat_minor": 2,
 "cells": [
  {
   "cell_type": "code",
   "execution_count": 1,
   "metadata": {},
   "outputs": [],
   "source": [
    "class List:\n",
    "    def __init__(self, num:int, name:str, prf:str, next=None):\n",
    "        self.num = num\n",
    "        self.name = name\n",
    "        self.prf = prf\n",
    "        self.next = next\n",
    "\n",
    "    def first(self):\n",
    "        return self.num\n",
    "\n",
    "    def rest(self):\n",
    "        return self.next\n",
    "\n",
    "    def set_first(self, num):\n",
    "        self.num = num\n",
    "    \n",
    "    def set_rest(self, x):\n",
    "        self.next = x\n",
    "\n",
    "class LinkedList:\n",
    "    def __init__(self):\n",
    "        self.top = List(None, None, None)\n",
    "\n",
    "    def index(self):\n",
    "        num = 1\n",
    "        while num != 0:\n",
    "            num = int(input('登録番号？(0で終了)：'))\n",
    "            n = 0\n",
    "            cp = self.top\n",
    "            while cp:\n",
    "                if cp.first() == num:\n",
    "                    print(str(cp.first()).rjust(2), end=\" \")\n",
    "                    print(cp.name, end=\" \")\n",
    "                    print(cp.prf)\n",
    "                    break\n",
    "                n += 1\n",
    "                cp = cp.rest()\n",
    "            if cp == None:\n",
    "                print('該当者なし')\n",
    "\n",
    "\n",
    "    def insert(self, num, name, prf):\n",
    "        front = self.top\n",
    "        rear = front.next\n",
    "        while rear and num < rear.num:\n",
    "            front = rear\n",
    "            rear = rear.next\n",
    "        cell = List(num, name, prf)\n",
    "        cell.next = rear\n",
    "        front.next = cell\n",
    "\n",
    "    def delete(self, num, name, prf):\n",
    "        front = self.top\n",
    "        rear = front.next\n",
    "        while rear:\n",
    "            if rear.num == num:\n",
    "                break\n",
    "            front = rear\n",
    "            rear = rear.next\n",
    "        if not rear:\n",
    "            print(\"[*]Data not found\")\n",
    "            return\n",
    "        front.next = rear.next\n",
    "        rear = None\n",
    "\n",
    "    def show(self):\n",
    "        p = self.top.next\n",
    "        while p:\n",
    "            print(str(p.num).rjust(2), end=\" \")\n",
    "            print(p.name, end=\" \")\n",
    "            print(p.prf)\n",
    "            p = p.next"
   ]
  },
  {
   "cell_type": "code",
   "execution_count": 2,
   "metadata": {},
   "outputs": [],
   "source": [
    "l = LinkedList()\n",
    "file = 'Zac_Japan.txt'\n",
    "with open(file, mode=\"r\", encoding='UTF-8') as f:\n",
    "    rows = f.readlines()\n",
    "    for row in rows:\n",
    "        ret = row.split(' ')\n",
    "        l.insert(int(ret[0]), ret[1], ret[2])"
   ]
  },
  {
   "cell_type": "code",
   "execution_count": 3,
   "metadata": {},
   "outputs": [
    {
     "output_type": "stream",
     "name": "stdout",
     "text": [
      "22 吉田麻也 DF_1988/08/24_189cm_81kg_サウサンプトン\n\n17 長谷部誠 MF_1984/01/18_180cm_72kg_ニュルンベルク\n\n15 今野泰幸 DF_1983/01/25_178cm_73kg_ガンバ大阪\n\n13 大久保嘉人 FW_1982/06/09_170cm_73kg_川崎Ｆ\n\n10 香川真司 FW_1989/03/17_172cm_63kg_マンチェスターＵ\n\n 9 岡崎慎司 FW_1986/04/16_174cm_76kg_マインツ\n\n 7 遠藤保仁 MF_1980/01/28_178cm_75kg_ガンバ大阪\n\n 5 長友佑都 DF_1986/09/12_170cm_68kg_インテル\n\n 4 本田圭佑 MF_1986/06/13_182cm_74kg_ＡＣミラン\n\n 2 内田篤人 DF_1988/03/27_176cm_67kg_シャルケ\n\n 1 川島永嗣 GK_1983/03/20_185cm_82kg_スタンダール\n\n"
     ]
    }
   ],
   "source": [
    "l.show()"
   ]
  },
  {
   "cell_type": "code",
   "execution_count": 4,
   "metadata": {},
   "outputs": [
    {
     "output_type": "stream",
     "name": "stdout",
     "text": [
      "15 今野泰幸 DF_1983/01/25_178cm_73kg_ガンバ大阪\n",
      "\n",
      "該当者なし\n",
      " 2 内田篤人 DF_1988/03/27_176cm_67kg_シャルケ\n",
      "\n",
      " 1 川島永嗣 GK_1983/03/20_185cm_82kg_スタンダール\n",
      "\n",
      "該当者なし\n",
      " 5 長友佑都 DF_1986/09/12_170cm_68kg_インテル\n",
      "\n",
      "該当者なし\n"
     ]
    }
   ],
   "source": [
    "l.index()"
   ]
  },
  {
   "cell_type": "code",
   "execution_count": null,
   "metadata": {},
   "outputs": [],
   "source": []
  }
 ]
}