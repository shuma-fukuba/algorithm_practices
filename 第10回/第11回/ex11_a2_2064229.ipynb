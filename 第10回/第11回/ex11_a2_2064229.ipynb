{
 "cells": [
  {
   "cell_type": "code",
   "execution_count": null,
   "metadata": {},
   "outputs": [],
   "source": [
    "class Node:\r\n",
    "    def __init__(self, word):\r\n",
    "        self.word = word\r\n",
    "        self.next = None\r\n",
    "\r\n",
    "    def first(self):\r\n",
    "        return self.word\r\n",
    "    def rest(self):\r\n",
    "        return self.next\r\n",
    "    def set_first(self, word):\r\n",
    "        self.word = word\r\n",
    "    def set_rest(self, x):\r\n",
    "        self.next = x"
   ]
  },
  {
   "cell_type": "markdown",
   "metadata": {},
   "source": []
  },
  {
   "cell_type": "code",
   "execution_count": null,
   "metadata": {},
   "outputs": [
    {
     "ename": "SyntaxError",
     "evalue": "cannot assign to function call (<ipython-input-6-8e55ad706a75>, line 18)",
     "output_type": "error",
     "traceback": [
      "\u001b[1;36m  File \u001b[1;32m\"<ipython-input-6-8e55ad706a75>\"\u001b[1;36m, line \u001b[1;32m18\u001b[0m\n\u001b[1;33m    cell.rest() = rear\u001b[0m\n\u001b[1;37m    ^\u001b[0m\n\u001b[1;31mSyntaxError\u001b[0m\u001b[1;31m:\u001b[0m cannot assign to function call\n"
     ]
    }
   ],
   "source": [
    "class LinkedList:\r\n",
    "    def __init__(self):\r\n",
    "        self.top = Node(None)\r\n",
    "    \r\n",
    "    def show(self):\r\n",
    "        p = self.top.next\r\n",
    "        while p:\r\n",
    "            print(p.first())\r\n",
    "            p = p.rest()\r\n",
    "    \r\n",
    "    def insert(self, name):\r\n",
    "        front = self.top\r\n",
    "        rear = front.rest()\r\n",
    "        while rear:\r\n",
    "            front = rear\r\n",
    "            rear = rear.next\r\n",
    "        cell = List(name)\r\n",
    "        cell.rest() = rear\r\n",
    "        front.rest() = cell"
   ]
  },
  {
   "cell_type": "code",
   "execution_count": null,
   "metadata": {},
   "outputs": [],
   "source": []
  }
 ],
 "metadata": {
  "interpreter": {
   "hash": "7e636f80895dab666a9f8a21cf29dadee553a417d1d42200fa3ed28f0d874122"
  },
  "kernelspec": {
   "display_name": "Python 3.8.8 64-bit ('Python38': conda)",
   "name": "python3"
  },
  "language_info": {
   "name": "python",
   "version": ""
  },
  "orig_nbformat": 4
 },
 "nbformat": 4,
 "nbformat_minor": 2
}