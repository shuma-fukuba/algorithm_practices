{
 "cells": [
  {
   "cell_type": "code",
   "execution_count": 7,
   "metadata": {},
   "outputs": [
    {
     "name": "stdout",
     "output_type": "stream",
     "text": [
      "\n",
      "    Yokohama National University\n",
      "    College of Engineering Science\n",
      "    Department of Mathematics, Physics, Electrical Engineering and Computer Science\n",
      "    \n"
     ]
    }
   ],
   "source": [
    "with open('Coll_of_ES.txt', \"w\") as f:\n",
    "    f.write(\"\"\"\n",
    "    Yokohama National University\n",
    "    College of Engineering Science\n",
    "    Department of Mathematics, Physics, Electrical Engineering and Computer Science\n",
    "    \"\"\")\n",
    "    f.close()\n",
    "    \n",
    "with open('Coll_of_ES.txt', \"r\") as f:\n",
    "    text = f.read()\n",
    "    f.close()\n",
    "    print(text)"
   ]
  },
  {
   "cell_type": "code",
   "execution_count": 8,
   "metadata": {},
   "outputs": [],
   "source": [
    "def file_copy(source_file, copy_file):\n",
    "    with open(copy_file, \"w\") as f1:\n",
    "        f2 = open(source_file, 'r')\n",
    "        text = f2.read()\n",
    "        f2.close()\n",
    "        f1.write(text)\n",
    "        f1.close()"
   ]
  },
  {
   "cell_type": "code",
   "execution_count": 9,
   "metadata": {},
   "outputs": [
    {
     "name": "stdin",
     "output_type": "stream",
     "text": [
      "コピー元のファイル名を入力してください: Coll_of_ES.txt\n",
      "コピー先のファイル名を入力してください: copy1.txt\n"
     ]
    }
   ],
   "source": [
    "def main():\n",
    "    source_file = input('コピー元のファイル名を入力してください:')\n",
    "    copy_file = input('コピー先のファイル名を入力してください:')\n",
    "    file_copy(source_file, copy_file)\n",
    "\n",
    "main()"
   ]
  },
  {
   "cell_type": "code",
   "execution_count": 10,
   "metadata": {},
   "outputs": [
    {
     "name": "stdout",
     "output_type": "stream",
     "text": [
      "\n",
      "    Yokohama National University\n",
      "    College of Engineering Science\n",
      "    Department of Mathematics, Physics, Electrical Engineering and Computer Science\n",
      "    \n"
     ]
    }
   ],
   "source": [
    "with open(\"copy1.txt\", \"r\") as f:\n",
    "    text = f.read()\n",
    "    f.close()\n",
    "    print(text)"
   ]
  },
  {
   "cell_type": "code",
   "execution_count": null,
   "metadata": {},
   "outputs": [],
   "source": []
  }
 ],
 "metadata": {
  "kernelspec": {
   "display_name": "Python 3",
   "language": "python",
   "name": "python3"
  },
  "language_info": {
   "codemirror_mode": {
    "name": "ipython",
    "version": 3
   },
   "file_extension": ".py",
   "mimetype": "text/x-python",
   "name": "python",
   "nbconvert_exporter": "python",
   "pygments_lexer": "ipython3",
   "version": "3.7.6"
  }
 },
 "nbformat": 4,
 "nbformat_minor": 4
}
