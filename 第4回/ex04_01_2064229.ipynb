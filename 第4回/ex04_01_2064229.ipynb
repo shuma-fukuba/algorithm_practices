{
 "cells": [
  {
   "cell_type": "code",
   "execution_count": 1,
   "metadata": {},
   "outputs": [],
   "source": [
    "def key_input():\n",
    "    mylist = []\n",
    "    print('文字列を入力してください（入力終了は[ctrl-D]）:')\n",
    "    while True:\n",
    "        try:\n",
    "            val = input()\n",
    "        except EOFError:\n",
    "            break\n",
    "        if val:\n",
    "                mylist.append(val)\n",
    "\n",
    "    if mylist:\n",
    "        print('入力された文字列は以下の通り:')\n",
    "        for i, item in enumerate(mylist, 1):\n",
    "            print(i, item)"
   ]
  },
  {
   "cell_type": "code",
   "execution_count": 2,
   "metadata": {},
   "outputs": [],
   "source": [
    "def main():\n",
    "    key_input()"
   ]
  },
  {
   "cell_type": "code",
   "execution_count": null,
   "metadata": {},
   "outputs": [
    {
     "name": "stdout",
     "output_type": "stream",
     "text": [
      "文字列を入力してください（入力終了は[ctrl-D]）:\n"
     ]
    },
    {
     "name": "stdin",
     "output_type": "stream",
     "text": [
      " おはよう\n",
      " こんにちは\n",
      " ありがとう\n",
      " さよなら\n",
      " \n",
      " \n"
     ]
    }
   ],
   "source": []
  },
  {
   "cell_type": "code",
   "execution_count": null,
   "metadata": {},
   "outputs": [],
   "source": []
  }
 ],
 "metadata": {
  "kernelspec": {
   "display_name": "Python 3",
   "language": "python",
   "name": "python3"
  },
  "language_info": {
   "codemirror_mode": {
    "name": "ipython",
    "version": 3
   },
   "file_extension": ".py",
   "mimetype": "text/x-python",
   "name": "python",
   "nbconvert_exporter": "python",
   "pygments_lexer": "ipython3",
   "version": "3.7.6"
  }
 },
 "nbformat": 4,
 "nbformat_minor": 4
}
