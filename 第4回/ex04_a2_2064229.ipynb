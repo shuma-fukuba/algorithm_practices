{
 "cells": [
  {
   "cell_type": "code",
   "execution_count": 17,
   "metadata": {},
   "outputs": [],
   "source": [
    "def data_counter(filename):\n",
    "    with open('sample1.txt') as f:\n",
    "        counts = 0\n",
    "        data = f.read()\n",
    "        for line in f:\n",
    "            counts += 1\n",
    "        f.close()\n",
    "        print('行数:', counts)\n",
    "    \n",
    "        #単語数のカウント\n",
    "        for word in data.split():\n",
    "            counts += 1\n",
    "        print('単語数:', counts)\n",
    "\n",
    "        # バイト数のカウント\n",
    "        counts = 0\n",
    "        counts = len(data)\n",
    "        print('バイト数', counts)"
   ]
  },
  {
   "cell_type": "code",
   "execution_count": 18,
   "metadata": {},
   "outputs": [],
   "source": [
    "def main():\n",
    "    filename = input('ファイル名を入力してください:')\n",
    "    data_counter(filename)"
   ]
  },
  {
   "cell_type": "code",
   "execution_count": 19,
   "metadata": {},
   "outputs": [
    {
     "name": "stdin",
     "output_type": "stream",
     "text": [
      "ファイル名を入力してください: sample1.txt\n"
     ]
    },
    {
     "name": "stdout",
     "output_type": "stream",
     "text": [
      "行数: 0\n",
      "単語数: 5\n",
      "バイト数 37\n"
     ]
    }
   ],
   "source": [
    "main()"
   ]
  },
  {
   "cell_type": "markdown",
   "metadata": {},
   "source": []
  },
  {
   "cell_type": "code",
   "execution_count": null,
   "metadata": {},
   "outputs": [],
   "source": []
  },
  {
   "cell_type": "code",
   "execution_count": null,
   "metadata": {},
   "outputs": [],
   "source": []
  }
 ],
 "metadata": {
  "kernelspec": {
   "display_name": "Python 3",
   "language": "python",
   "name": "python3"
  },
  "language_info": {
   "codemirror_mode": {
    "name": "ipython",
    "version": 3
   },
   "file_extension": ".py",
   "mimetype": "text/x-python",
   "name": "python",
   "nbconvert_exporter": "python",
   "pygments_lexer": "ipython3",
   "version": "3.7.6"
  }
 },
 "nbformat": 4,
 "nbformat_minor": 4
}
