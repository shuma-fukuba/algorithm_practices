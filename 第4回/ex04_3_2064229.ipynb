{
 "cells": [
  {
   "cell_type": "code",
   "execution_count": 5,
   "metadata": {},
   "outputs": [],
   "source": [
    "with open('test1.txt', \"w\") as f:\n",
    "    f.write(\"\"\"\n",
    "    A - B - C - D - E - F - G\n",
    "H - I - J - K - L - M - N - O - P\n",
    "Q - R - S\n",
    "T - U - V\n",
    "W - X - Y and Zee\n",
    "Now I know my A - B - C\n",
    "Won't you come and sing with me?\n",
    "    \"\"\")\n",
    "    f.close()"
   ]
  },
  {
   "cell_type": "code",
   "execution_count": 6,
   "metadata": {},
   "outputs": [
    {
     "name": "stdout",
     "output_type": "stream",
     "text": [
      " ドライブ C のボリューム ラベルは Windows です\n",
      " ボリューム シリアル番号は A648-FBCD です\n",
      "\n",
      " C:\\Users\\shuma\\OneDrive - 横浜国立大学\\ドキュメント\\2春\\プログラミング演習\\第4回 のディレクトリ\n",
      "\n",
      "2021/05/12  10:59    <DIR>          .\n",
      "2021/05/12  10:59    <DIR>          ..\n",
      "2021/05/12  10:57    <DIR>          .ipynb_checkpoints\n",
      "2021/05/12  10:53               161 Coll_of_ES.txt\n",
      "2021/05/12  10:53               161 copy1.txt\n",
      "2021/05/12  10:34               470 ex04__01_2064229.py\n",
      "2021/05/12  10:38             1,871 ex04_01_2064229.ipynb\n",
      "2021/05/12  10:55             2,975 ex04_02_2064229.ipynb\n",
      "2021/05/12  10:55               871 ex04_02_2064229.py\n",
      "2021/05/12  10:59             1,668 ex04_3_2064229.ipynb\n",
      "2021/05/12  10:56                 0 ex04_3_2064229.py\n",
      "2021/05/12  10:10                30 sample.py\n",
      "2021/05/12  10:58               172 tes1.txt\n",
      "2021/05/12  10:10                 0 test.txt\n",
      "2021/05/12  10:59               172 test1.txt\n",
      "2021/05/12  10:57                 0 test2.txt\n",
      "2021/05/12  10:56                 0 text1.txt\n",
      "              14 個のファイル               8,551 バイト\n",
      "               3 個のディレクトリ  354,368,675,840 バイトの空き領域\n"
     ]
    }
   ],
   "source": [
    "ls"
   ]
  },
  {
   "cell_type": "code",
   "execution_count": 8,
   "metadata": {},
   "outputs": [],
   "source": [
    "with open('test2.txt', \"w\") as f:\n",
    "    f.write(\"\"\"\n",
    "    A - B - C - D - E - F - G\n",
    "H - I - J - K - L - M - N - O - P\n",
    "Q - R - S\n",
    "T - U - V\n",
    "W - X - Y and Zee\n",
    "Happy, happy, I'm happy\n",
    "I can sing my ABC\n",
    "    \"\"\")\n",
    "    f.close()"
   ]
  },
  {
   "cell_type": "code",
   "execution_count": 9,
   "metadata": {},
   "outputs": [],
   "source": [
    "def show_file(file):\n",
    "    with open(file, \"r\") as f:\n",
    "        text = f.read()\n",
    "        f.close()\n",
    "    return text"
   ]
  },
  {
   "cell_type": "code",
   "execution_count": 10,
   "metadata": {},
   "outputs": [],
   "source": [
    "def main():\n",
    "    file1 = input('比較ファイル1:')\n",
    "    file2 = input('比較ファイル2:')\n",
    "    text1 = show_file(file1)\n",
    "    text2 = show_file(file2)\n",
    "    if text1 == text2:\n",
    "        print(file1 + 'と' + file2 + 'は内容が同じです')\n",
    "    else:\n",
    "        print(file1 + 'と' + file2 + 'は内容が違います')"
   ]
  },
  {
   "cell_type": "code",
   "execution_count": 12,
   "metadata": {},
   "outputs": [
    {
     "name": "stdin",
     "output_type": "stream",
     "text": [
      "比較ファイル1: test1.txt\n",
      "比較ファイル2: test2.txt\n"
     ]
    },
    {
     "name": "stdout",
     "output_type": "stream",
     "text": [
      "test1.txtとtest2.txtは内容が違います\n"
     ]
    }
   ],
   "source": [
    "main()"
   ]
  },
  {
   "cell_type": "code",
   "execution_count": null,
   "metadata": {},
   "outputs": [],
   "source": []
  }
 ],
 "metadata": {
  "kernelspec": {
   "display_name": "Python 3",
   "language": "python",
   "name": "python3"
  },
  "language_info": {
   "codemirror_mode": {
    "name": "ipython",
    "version": 3
   },
   "file_extension": ".py",
   "mimetype": "text/x-python",
   "name": "python",
   "nbconvert_exporter": "python",
   "pygments_lexer": "ipython3",
   "version": "3.7.6"
  }
 },
 "nbformat": 4,
 "nbformat_minor": 4
}
