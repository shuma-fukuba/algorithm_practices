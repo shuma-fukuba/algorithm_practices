{
 "cells": [
  {
   "cell_type": "code",
   "execution_count": 1,
   "metadata": {},
   "outputs": [],
   "source": [
    "def file_create(file):\n",
    "    with open(file, \"w\") as f:\n",
    "        f.write(\"\"\"\n",
    "a = 3\n",
    "b = 2\n",
    "# この行は空行\n",
    "x = a / b\n",
    "print( \"a / b == {:f}\".format( x ) )\n",
    "# {:f}はformatメソッドの引数の値を浮動小数点数として解釈する\n",
    "        \"\"\")\n",
    "        f.close()"
   ]
  },
  {
   "cell_type": "code",
   "execution_count": 2,
   "metadata": {},
   "outputs": [],
   "source": [
    "    file_create('test3.txt')"
   ]
  },
  {
   "cell_type": "code",
   "execution_count": 3,
   "metadata": {},
   "outputs": [
    {
     "name": "stdout",
     "output_type": "stream",
     "text": [
      " ドライブ C のボリューム ラベルは Windows です\n",
      " ボリューム シリアル番号は A648-FBCD です\n",
      "\n",
      " C:\\Users\\shuma\\OneDrive - 横浜国立大学\\ドキュメント\\2春\\プログラミング演習\\第4回 のディレクトリ\n",
      "\n",
      "2021/05/12  11:19    <DIR>          .\n",
      "2021/05/12  11:19    <DIR>          ..\n",
      "2021/05/12  11:07    <DIR>          .ipynb_checkpoints\n",
      "2021/05/12  10:53               161 Coll_of_ES.txt\n",
      "2021/05/12  10:53               161 copy1.txt\n",
      "2021/05/12  10:34               470 ex04__01_2064229.py\n",
      "2021/05/12  10:38             1,871 ex04_01_2064229.ipynb\n",
      "2021/05/12  10:55             2,975 ex04_02_2064229.ipynb\n",
      "2021/05/12  10:55               871 ex04_02_2064229.py\n",
      "2021/05/12  11:07             4,395 ex04_3_2064229.ipynb\n",
      "2021/05/12  11:06               942 ex04_3_2064229.py\n",
      "2021/05/12  11:09               555 ex04_4_2064229.ipynb\n",
      "2021/05/12  11:08                 0 ex04_4_2064229.py\n",
      "2021/05/12  10:10                30 sample.py\n",
      "2021/05/12  10:59               172 test1.txt\n",
      "2021/05/12  11:02               157 test2.txt\n",
      "2021/05/12  11:19               159 test3.txt\n",
      "              14 個のファイル              12,919 バイト\n",
      "               3 個のディレクトリ  354,361,503,744 バイトの空き領域\n"
     ]
    }
   ],
   "source": [
    "ls"
   ]
  },
  {
   "cell_type": "code",
   "execution_count": 6,
   "metadata": {},
   "outputs": [],
   "source": [
    "def file_read(file):\n",
    "    with open(file, \"r\") as f:\n",
    "        text = f.read()\n",
    "        f.close()\n",
    "        print(text)"
   ]
  },
  {
   "cell_type": "code",
   "execution_count": 10,
   "metadata": {},
   "outputs": [],
   "source": [
    "def main():\n",
    "    file = input('ファイル名を入力してください:')\n",
    "    print('コメント削除前のファイル内容:')\n",
    "    file_read(file)\n",
    "    \n",
    "    print('コメント削除後のファイルの内容:')\n",
    "    with open(file, \"r\") as f:\n",
    "        lines = f.readlines()\n",
    "        for line in lines:\n",
    "            if len(line) == 0 or line[0] == \"#\":\n",
    "                continue\n",
    "            else:\n",
    "                print(line)"
   ]
  },
  {
   "cell_type": "code",
   "execution_count": 11,
   "metadata": {},
   "outputs": [
    {
     "name": "stdin",
     "output_type": "stream",
     "text": [
      "ファイル名を入力してください: test3.txt\n"
     ]
    },
    {
     "name": "stdout",
     "output_type": "stream",
     "text": [
      "コメント削除前のファイル内容:\n",
      "\n",
      "        a = 3\n",
      "b = 2\n",
      "# この行は空行\n",
      "x = a / b\n",
      "print( \"a / b == {:f}\".format( x ) )\n",
      "# {:f}はformatメソッドの引数の値を浮動小数点数として解釈する\n",
      "        \n",
      "コメント削除後のファイルの内容:\n",
      "\n",
      "\n",
      "        a = 3\n",
      "\n",
      "b = 2\n",
      "\n",
      "x = a / b\n",
      "\n",
      "print( \"a / b == {:f}\".format( x ) )\n",
      "\n",
      "        \n"
     ]
    }
   ],
   "source": [
    "main()"
   ]
  },
  {
   "cell_type": "markdown",
   "metadata": {},
   "source": []
  }
 ],
 "metadata": {
  "kernelspec": {
   "display_name": "Python 3",
   "language": "python",
   "name": "python3"
  },
  "language_info": {
   "codemirror_mode": {
    "name": "ipython",
    "version": 3
   },
   "file_extension": ".py",
   "mimetype": "text/x-python",
   "name": "python",
   "nbconvert_exporter": "python",
   "pygments_lexer": "ipython3",
   "version": "3.7.6"
  }
 },
 "nbformat": 4,
 "nbformat_minor": 4
}
