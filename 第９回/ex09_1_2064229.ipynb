{
 "metadata": {
  "language_info": {
   "codemirror_mode": {
    "name": "ipython",
    "version": 3
   },
   "file_extension": ".py",
   "mimetype": "text/x-python",
   "name": "python",
   "nbconvert_exporter": "python",
   "pygments_lexer": "ipython3",
   "version": "3.9.2"
  },
  "orig_nbformat": 4,
  "kernelspec": {
   "name": "python3",
   "display_name": "Python 3.9.2 64-bit ('my_django_environment': conda)"
  },
  "interpreter": {
   "hash": "1215578185007176f22ab61f9a6c70bda1b2e3219f7f90b26df9d7e5ba7b5384"
  }
 },
 "nbformat": 4,
 "nbformat_minor": 2,
 "cells": [
  {
   "cell_type": "code",
   "execution_count": 4,
   "metadata": {},
   "outputs": [],
   "source": [
    "datas=[\n",
    "    [8,8,8,8,8,8,8,8,8,8],\n",
    "    [8,1,0,0,8,8,0,0,0,8],\n",
    "    [8,0,8,0,0,0,0,8,0,8],\n",
    "    [8,0,8,8,8,0,8,8,0,8],\n",
    "    [8,0,0,8,8,0,0,8,0,8],\n",
    "    [8,8,0,0,8,0,8,8,0,8],\n",
    "    [8,0,8,0,8,0,0,8,0,8],\n",
    "    [8,0,0,0,8,8,0,0,0,8],\n",
    "    [8,8,8,0,0,0,0,8,0,8],\n",
    "    [8,8,8,8,8,8,8,8,9,8]\n",
    "]"
   ]
  },
  {
   "cell_type": "code",
   "execution_count": 6,
   "metadata": {},
   "outputs": [
    {
     "output_type": "stream",
     "name": "stdout",
     "text": [
      "[8, 8, 8, 8, 8, 8, 8, 8, 8, 8]\n[8, 1, 0, 0, 8, 8, 0, 0, 0, 8]\n[8, 0, 8, 0, 0, 0, 0, 8, 0, 8]\n[8, 0, 8, 8, 8, 0, 8, 8, 0, 8]\n[8, 0, 0, 8, 8, 0, 0, 8, 0, 8]\n[8, 8, 0, 0, 8, 0, 8, 8, 0, 8]\n[8, 0, 8, 0, 8, 0, 0, 8, 0, 8]\n[8, 0, 0, 0, 8, 8, 0, 0, 0, 8]\n[8, 8, 8, 0, 0, 0, 0, 8, 0, 8]\n[8, 8, 8, 8, 8, 8, 8, 8, 9, 8]\n"
     ]
    }
   ],
   "source": [
    "for data in datas:\n",
    "    print(data)"
   ]
  },
  {
   "cell_type": "code",
   "execution_count": 17,
   "metadata": {},
   "outputs": [],
   "source": [
    "def printmaps(datas):\n",
    "    for data in datas:\n",
    "        for i in data:\n",
    "            if i == 0:\n",
    "                print(\" \", end=\" \")\n",
    "            elif i == 1 or i == 9:\n",
    "                print(\"○\", end=\" \")\n",
    "            elif i == 8:\n",
    "                print(\"■\", end=\" \")\n",
    "        print()"
   ]
  },
  {
   "cell_type": "code",
   "execution_count": 18,
   "metadata": {},
   "outputs": [
    {
     "output_type": "stream",
     "name": "stdout",
     "text": [
      "■ ■ ■ ■ ■ ■ ■ ■ ■ ■ \n■ ○     ■ ■       ■ \n■   ■         ■   ■ \n■   ■ ■ ■   ■ ■   ■ \n■     ■ ■     ■   ■ \n■ ■     ■   ■ ■   ■ \n■   ■   ■     ■   ■ \n■       ■ ■       ■ \n■ ■ ■         ■   ■ \n■ ■ ■ ■ ■ ■ ■ ■ ○ ■ \n"
     ]
    }
   ],
   "source": [
    "printmaps(datas)"
   ]
  },
  {
   "cell_type": "code",
   "execution_count": null,
   "metadata": {},
   "outputs": [],
   "source": []
  },
  {
   "cell_type": "code",
   "execution_count": null,
   "metadata": {},
   "outputs": [],
   "source": []
  }
 ]
}