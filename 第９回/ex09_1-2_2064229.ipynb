{
 "metadata": {
  "language_info": {
   "codemirror_mode": {
    "name": "ipython",
    "version": 3
   },
   "file_extension": ".py",
   "mimetype": "text/x-python",
   "name": "python",
   "nbconvert_exporter": "python",
   "pygments_lexer": "ipython3",
   "version": "3.9.2"
  },
  "orig_nbformat": 4,
  "kernelspec": {
   "name": "python3",
   "display_name": "Python 3.9.2 64-bit ('my_django_environment': conda)"
  },
  "interpreter": {
   "hash": "1215578185007176f22ab61f9a6c70bda1b2e3219f7f90b26df9d7e5ba7b5384"
  }
 },
 "nbformat": 4,
 "nbformat_minor": 2,
 "cells": [
  {
   "cell_type": "code",
   "execution_count": 6,
   "metadata": {},
   "outputs": [],
   "source": [
    "class List:\n",
    "    def __init__(self, key:int, next=None):\n",
    "        self.key = key\n",
    "        self.next = next"
   ]
  },
  {
   "cell_type": "code",
   "execution_count": 9,
   "metadata": {},
   "outputs": [],
   "source": [
    "def printmaps(datas):\n",
    "    for data in datas:\n",
    "        for i in data:\n",
    "            if i == 0:\n",
    "                print(\" \", end=\" \")\n",
    "            elif i == 1 or i == 9:\n",
    "                print(\"○\", end=\" \")\n",
    "            elif i == 8:\n",
    "                print(\"■\", end=\" \")\n",
    "        print()"
   ]
  },
  {
   "cell_type": "code",
   "execution_count": 10,
   "metadata": {},
   "outputs": [],
   "source": [
    "datas=[\n",
    "    [8,8,8,8,8,8,8,8,8,8],\n",
    "    [8,1,0,0,8,8,0,0,0,8],\n",
    "    [8,0,8,0,0,0,0,8,0,8],\n",
    "    [8,0,8,8,8,0,8,8,0,8],\n",
    "    [8,0,0,8,8,0,0,8,0,8],\n",
    "    [8,8,0,0,8,0,8,8,0,8],\n",
    "    [8,0,8,0,8,0,0,8,0,8],\n",
    "    [8,0,0,0,8,8,0,0,0,8],\n",
    "    [8,8,8,0,0,0,0,8,0,8],\n",
    "    [8,8,8,8,8,8,8,8,9,8]\n",
    "]"
   ]
  },
  {
   "cell_type": "code",
   "execution_count": 11,
   "metadata": {},
   "outputs": [
    {
     "output_type": "stream",
     "name": "stdout",
     "text": [
      "■ ■ ■ ■ ■ ■ ■ ■ ■ ■ \n■ ○     ■ ■       ■ \n■   ■         ■   ■ \n■   ■ ■ ■   ■ ■   ■ \n■     ■ ■     ■   ■ \n■ ■     ■   ■ ■   ■ \n■   ■   ■     ■   ■ \n■       ■ ■       ■ \n■ ■ ■         ■   ■ \n■ ■ ■ ■ ■ ■ ■ ■ ○ ■ \n"
     ]
    }
   ],
   "source": [
    "printmaps(datas)"
   ]
  },
  {
   "cell_type": "code",
   "execution_count": 18,
   "metadata": {},
   "outputs": [],
   "source": [
    "def find_path(datas, i=0, j=0, path=1):\n",
    "    m = len(datas)\n",
    "    n = len(datas[0])\n",
    "    if i == m-1 and j == n-1:\n",
    "        print(\"Path to destination [m-1][n-1]: {0}\".format(path))\n",
    "    datas[i][j] = 1\n",
    "    if 0 <= i < m and 0 <= j-1 <n and datas[i][j-1] == 0:\n",
    "        find_path(datas, i, j-1, path+1)\n",
    "    if 0 <= i < m and 0 <= j < n and datas[i][j+1] == 0:\n",
    "        find_path(datas, i, j+1, path + 1)\n",
    "    if 0 <= i-1 <m and 0 <= j < n and datas[i-1][j] == 0:\n",
    "        find_path(datas, i-1, j, path+1)\n",
    "    if 0 <= i+1 < m and 0 <= j < n and datas[i+1][j] == 0:\n",
    "        find_path(datas, i+1, j, path+1)\n",
    "    datas[i][j] = 0\n",
    "    return path"
   ]
  },
  {
   "cell_type": "code",
   "execution_count": 19,
   "metadata": {},
   "outputs": [
    {
     "output_type": "execute_result",
     "data": {
      "text/plain": [
       "1"
      ]
     },
     "metadata": {},
     "execution_count": 19
    }
   ],
   "source": [
    "find_path(datas)"
   ]
  },
  {
   "cell_type": "code",
   "execution_count": null,
   "metadata": {},
   "outputs": [],
   "source": []
  }
 ]
}