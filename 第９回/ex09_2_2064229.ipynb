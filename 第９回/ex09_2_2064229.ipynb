{
 "metadata": {
  "language_info": {
   "codemirror_mode": {
    "name": "ipython",
    "version": 3
   },
   "file_extension": ".py",
   "mimetype": "text/x-python",
   "name": "python",
   "nbconvert_exporter": "python",
   "pygments_lexer": "ipython3",
   "version": "3.9.2"
  },
  "orig_nbformat": 4,
  "kernelspec": {
   "name": "python3",
   "display_name": "Python 3.9.2 64-bit ('my_django_environment': conda)"
  },
  "interpreter": {
   "hash": "1215578185007176f22ab61f9a6c70bda1b2e3219f7f90b26df9d7e5ba7b5384"
  }
 },
 "nbformat": 4,
 "nbformat_minor": 2,
 "cells": [
  {
   "cell_type": "code",
   "execution_count": 1,
   "metadata": {},
   "outputs": [],
   "source": [
    "perm = []"
   ]
  },
  {
   "cell_type": "code",
   "execution_count": 2,
   "metadata": {},
   "outputs": [],
   "source": [
    "def solution(n, m=0):\n",
    "    if n == m:\n",
    "        print(perm)\n",
    "    else:\n",
    "        for x in range(1, n+1):\n",
    "            if x in perm:\n",
    "                continue\n",
    "            perm.append(x)\n",
    "            solution(n, m+1)\n",
    "            perm.pop()"
   ]
  },
  {
   "cell_type": "code",
   "execution_count": 3,
   "metadata": {},
   "outputs": [],
   "source": [
    "def main():\n",
    "    n = int(input(\"n = \"))\n",
    "    print(\"n = \", n)\n",
    "    if n < 0:\n",
    "        print(\"nには正数を入力してください\")\n",
    "    else:\n",
    "        solution(n)"
   ]
  },
  {
   "cell_type": "code",
   "execution_count": 4,
   "metadata": {},
   "outputs": [
    {
     "output_type": "stream",
     "name": "stdout",
     "text": [
      "n =  5\n[1, 2, 3, 4, 5]\n[1, 2, 3, 5, 4]\n[1, 2, 4, 3, 5]\n[1, 2, 4, 5, 3]\n[1, 2, 5, 3, 4]\n[1, 2, 5, 4, 3]\n[1, 3, 2, 4, 5]\n[1, 3, 2, 5, 4]\n[1, 3, 4, 2, 5]\n[1, 3, 4, 5, 2]\n[1, 3, 5, 2, 4]\n[1, 3, 5, 4, 2]\n[1, 4, 2, 3, 5]\n[1, 4, 2, 5, 3]\n[1, 4, 3, 2, 5]\n[1, 4, 3, 5, 2]\n[1, 4, 5, 2, 3]\n[1, 4, 5, 3, 2]\n[1, 5, 2, 3, 4]\n[1, 5, 2, 4, 3]\n[1, 5, 3, 2, 4]\n[1, 5, 3, 4, 2]\n[1, 5, 4, 2, 3]\n[1, 5, 4, 3, 2]\n[2, 1, 3, 4, 5]\n[2, 1, 3, 5, 4]\n[2, 1, 4, 3, 5]\n[2, 1, 4, 5, 3]\n[2, 1, 5, 3, 4]\n[2, 1, 5, 4, 3]\n[2, 3, 1, 4, 5]\n[2, 3, 1, 5, 4]\n[2, 3, 4, 1, 5]\n[2, 3, 4, 5, 1]\n[2, 3, 5, 1, 4]\n[2, 3, 5, 4, 1]\n[2, 4, 1, 3, 5]\n[2, 4, 1, 5, 3]\n[2, 4, 3, 1, 5]\n[2, 4, 3, 5, 1]\n[2, 4, 5, 1, 3]\n[2, 4, 5, 3, 1]\n[2, 5, 1, 3, 4]\n[2, 5, 1, 4, 3]\n[2, 5, 3, 1, 4]\n[2, 5, 3, 4, 1]\n[2, 5, 4, 1, 3]\n[2, 5, 4, 3, 1]\n[3, 1, 2, 4, 5]\n[3, 1, 2, 5, 4]\n[3, 1, 4, 2, 5]\n[3, 1, 4, 5, 2]\n[3, 1, 5, 2, 4]\n[3, 1, 5, 4, 2]\n[3, 2, 1, 4, 5]\n[3, 2, 1, 5, 4]\n[3, 2, 4, 1, 5]\n[3, 2, 4, 5, 1]\n[3, 2, 5, 1, 4]\n[3, 2, 5, 4, 1]\n[3, 4, 1, 2, 5]\n[3, 4, 1, 5, 2]\n[3, 4, 2, 1, 5]\n[3, 4, 2, 5, 1]\n[3, 4, 5, 1, 2]\n[3, 4, 5, 2, 1]\n[3, 5, 1, 2, 4]\n[3, 5, 1, 4, 2]\n[3, 5, 2, 1, 4]\n[3, 5, 2, 4, 1]\n[3, 5, 4, 1, 2]\n[3, 5, 4, 2, 1]\n[4, 1, 2, 3, 5]\n[4, 1, 2, 5, 3]\n[4, 1, 3, 2, 5]\n[4, 1, 3, 5, 2]\n[4, 1, 5, 2, 3]\n[4, 1, 5, 3, 2]\n[4, 2, 1, 3, 5]\n[4, 2, 1, 5, 3]\n[4, 2, 3, 1, 5]\n[4, 2, 3, 5, 1]\n[4, 2, 5, 1, 3]\n[4, 2, 5, 3, 1]\n[4, 3, 1, 2, 5]\n[4, 3, 1, 5, 2]\n[4, 3, 2, 1, 5]\n[4, 3, 2, 5, 1]\n[4, 3, 5, 1, 2]\n[4, 3, 5, 2, 1]\n[4, 5, 1, 2, 3]\n[4, 5, 1, 3, 2]\n[4, 5, 2, 1, 3]\n[4, 5, 2, 3, 1]\n[4, 5, 3, 1, 2]\n[4, 5, 3, 2, 1]\n[5, 1, 2, 3, 4]\n[5, 1, 2, 4, 3]\n[5, 1, 3, 2, 4]\n[5, 1, 3, 4, 2]\n[5, 1, 4, 2, 3]\n[5, 1, 4, 3, 2]\n[5, 2, 1, 3, 4]\n[5, 2, 1, 4, 3]\n[5, 2, 3, 1, 4]\n[5, 2, 3, 4, 1]\n[5, 2, 4, 1, 3]\n[5, 2, 4, 3, 1]\n[5, 3, 1, 2, 4]\n[5, 3, 1, 4, 2]\n[5, 3, 2, 1, 4]\n[5, 3, 2, 4, 1]\n[5, 3, 4, 1, 2]\n[5, 3, 4, 2, 1]\n[5, 4, 1, 2, 3]\n[5, 4, 1, 3, 2]\n[5, 4, 2, 1, 3]\n[5, 4, 2, 3, 1]\n[5, 4, 3, 1, 2]\n[5, 4, 3, 2, 1]\n"
     ]
    }
   ],
   "source": [
    "main()"
   ]
  },
  {
   "cell_type": "code",
   "execution_count": 5,
   "metadata": {},
   "outputs": [
    {
     "output_type": "stream",
     "name": "stdout",
     "text": [
      "n =  3\n[1, 2, 3]\n[1, 3, 2]\n[2, 1, 3]\n[2, 3, 1]\n[3, 1, 2]\n[3, 2, 1]\n"
     ]
    }
   ],
   "source": [
    "main()"
   ]
  },
  {
   "cell_type": "code",
   "execution_count": 6,
   "metadata": {},
   "outputs": [
    {
     "output_type": "stream",
     "name": "stdout",
     "text": [
      "n =  -1\nnには正数を入力してください\n"
     ]
    }
   ],
   "source": [
    "main()"
   ]
  },
  {
   "cell_type": "code",
   "execution_count": null,
   "metadata": {},
   "outputs": [],
   "source": []
  }
 ]
}