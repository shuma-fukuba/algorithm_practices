{
 "cells": [
  {
   "cell_type": "code",
   "execution_count": 1,
   "metadata": {},
   "outputs": [],
   "source": [
    "import itertools"
   ]
  },
  {
   "cell_type": "code",
   "execution_count": 2,
   "metadata": {},
   "outputs": [],
   "source": [
    "def thirteen():\r\n",
    "    num = [str(n) for n in range(1, 10)]\r\n",
    "    for x in itertools.permutations(num):\r\n",
    "        left, right = int(\"\".join(x[0:5])), int(\"\".join(x[5:10]))\r\n",
    "        a, b = divmod(left, right)\r\n",
    "        if a == 13 and b == 0:\r\n",
    "            print(f\"{left}/{right} = 13\")"
   ]
  },
  {
   "cell_type": "code",
   "execution_count": 3,
   "metadata": {},
   "outputs": [
    {
     "name": "stdout",
     "output_type": "stream",
     "text": [
      "67392/5184 = 13\n",
      "81549/6273 = 13\n",
      "94653/7281 = 13\n"
     ]
    }
   ],
   "source": [
    "thirteen()"
   ]
  },
  {
   "cell_type": "code",
   "execution_count": null,
   "metadata": {},
   "outputs": [],
   "source": []
  }
 ],
 "metadata": {
  "interpreter": {
   "hash": "1215578185007176f22ab61f9a6c70bda1b2e3219f7f90b26df9d7e5ba7b5384"
  },
  "kernelspec": {
   "display_name": "Python 3.9.2 64-bit ('my_django_environment': conda)",
   "name": "python3"
  },
  "language_info": {
   "codemirror_mode": {
    "name": "ipython",
    "version": 3
   },
   "file_extension": ".py",
   "mimetype": "text/x-python",
   "name": "python",
   "nbconvert_exporter": "python",
   "pygments_lexer": "ipython3",
   "version": "3.7.6"
  },
  "orig_nbformat": 4
 },
 "nbformat": 4,
 "nbformat_minor": 2
}