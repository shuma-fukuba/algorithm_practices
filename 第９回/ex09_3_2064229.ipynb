{
 "metadata": {
  "language_info": {
   "codemirror_mode": {
    "name": "ipython",
    "version": 3
   },
   "file_extension": ".py",
   "mimetype": "text/x-python",
   "name": "python",
   "nbconvert_exporter": "python",
   "pygments_lexer": "ipython3",
   "version": "3.9.2"
  },
  "orig_nbformat": 4,
  "kernelspec": {
   "name": "python3",
   "display_name": "Python 3.9.2 64-bit ('my_django_environment': conda)"
  },
  "interpreter": {
   "hash": "1215578185007176f22ab61f9a6c70bda1b2e3219f7f90b26df9d7e5ba7b5384"
  }
 },
 "nbformat": 4,
 "nbformat_minor": 2,
 "cells": [
  {
   "cell_type": "code",
   "execution_count": 13,
   "metadata": {},
   "outputs": [],
   "source": [
    "op = [0, 0, 0, 0, 0, 0, 0, 0, 0, 0]"
   ]
  },
  {
   "cell_type": "code",
   "execution_count": 12,
   "metadata": {},
   "outputs": [],
   "source": [
    "while op[0] < 3:\n",
    "    s = 0\n",
    "    n = 0\n",
    "    sign = 1\n",
    "    for i in range(1, 9):\n",
    "        if op[i] == 0:\n",
    "            n = 10*n + i\n",
    "        else:\n",
    "            s = s + sign*n\n",
    "            n = i\n",
    "            if op[i] == 1:\n",
    "                sign = 1\n",
    "            else:\n",
    "                sign = 1\n",
    "    s += sign * n\n",
    "    if s == 100:\n",
    "        for i in range(1, 9):\n",
    "            if op[i] == 1:\n",
    "                print(\"-\")\n",
    "            else:\n",
    "                if op[i] == 2:\n",
    "                    print(\"+\")\n",
    "            print(i)\n",
    "        print()\n",
    "    i = 9\n",
    "    op[i] = op[i] + 1\n",
    "    while i > 1 and op[i] == 3:\n",
    "        op[i] = 0\n",
    "        i -= 1\n",
    "        op[i] = op[i]+1"
   ]
  },
  {
   "cell_type": "code",
   "execution_count": null,
   "metadata": {},
   "outputs": [],
   "source": []
  }
 ]
}