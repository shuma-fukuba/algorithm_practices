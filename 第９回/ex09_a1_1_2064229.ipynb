{
 "cells": [
  {
   "cell_type": "code",
   "execution_count": 2,
   "metadata": {},
   "outputs": [],
   "source": [
    "def smallcity():\r\n",
    "    for i in range(0, pow(3, 9)):\r\n",
    "        buf = [0]*9\r\n",
    "        for j in reversed(range(9)):\r\n",
    "            i, buf[j] = divmod(i, 3)\r\n",
    "        operator = []\r\n",
    "        if buf[0] == 1:\r\n",
    "            operator.append(-9)\r\n",
    "        else:\r\n",
    "            operator.append(9)\r\n",
    "        \r\n",
    "        for j in range(1, 9):\r\n",
    "            num = 10- (j + 1)\r\n",
    "            if buf[j] == 0:\r\n",
    "                op = operator.pop()\r\n",
    "                if op > 0:\r\n",
    "                    operator.append(10 * op + num)\r\n",
    "                else:\r\n",
    "                    operator.append(10 * op - num)\r\n",
    "            \r\n",
    "            if buf[j] == 1:\r\n",
    "                operator.append(-num)\r\n",
    "            if buf[j] == 2:\r\n",
    "                operator.append(num)\r\n",
    "        \r\n",
    "        if sum(operator) == 100 and buf[0] != 2:\r\n",
    "            char = {0:\"\", 1:\"-\", 2:\"+\"}\r\n",
    "            for i in range(9):\r\n",
    "                print(char[buf[i]] + str(9-i), end=\"\")\r\n",
    "            print(\"=100\")"
   ]
  },
  {
   "cell_type": "code",
   "execution_count": 3,
   "metadata": {},
   "outputs": [
    {
     "name": "stdout",
     "output_type": "stream",
     "text": [
      "98-76+54+3+21=100\n",
      "98-7-6-5-4+3+21=100\n",
      "98-7-6+5+4+3+2+1=100\n",
      "98-7+6-5+4+3+2-1=100\n",
      "98-7+6+5-4+3-2+1=100\n",
      "98-7+6+5+4-3-2-1=100\n",
      "98+7-6-5+4+3-2+1=100\n",
      "98+7-6+5-4-3+2+1=100\n",
      "98+7-6+5-4+3-2-1=100\n",
      "98+7+6-5-4-3+2-1=100\n",
      "9-8+76-5+4+3+21=100\n",
      "9-8+76+54-32+1=100\n",
      "9-8+7+65-4+32-1=100\n",
      "9+8+76+5-4+3+2+1=100\n",
      "9+8+76+5+4-3+2-1=100\n",
      "-9-8+76-5+43+2+1=100\n",
      "-9+8+76+5-4+3+21=100\n",
      "-9+8+7+65-4+32+1=100\n"
     ]
    }
   ],
   "source": [
    "smallcity()"
   ]
  },
  {
   "cell_type": "code",
   "execution_count": null,
   "metadata": {},
   "outputs": [],
   "source": []
  }
 ],
 "metadata": {
  "interpreter": {
   "hash": "4e9d0c9023791c00d461768debe42cb8d4f7ee10b618a3c4b57dfa37c6faa26d"
  },
  "kernelspec": {
   "display_name": "Python 3.7.6 64-bit ('base': conda)",
   "name": "python3"
  },
  "language_info": {
   "codemirror_mode": {
    "name": "ipython",
    "version": 3
   },
   "file_extension": ".py",
   "mimetype": "text/x-python",
   "name": "python",
   "nbconvert_exporter": "python",
   "pygments_lexer": "ipython3",
   "version": "3.9.2"
  },
  "orig_nbformat": 4
 },
 "nbformat": 4,
 "nbformat_minor": 2
}