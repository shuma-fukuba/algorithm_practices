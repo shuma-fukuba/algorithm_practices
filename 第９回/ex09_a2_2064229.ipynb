{
 "cells": [
  {
   "cell_type": "code",
   "execution_count": 26,
   "metadata": {},
   "outputs": [],
   "source": [
    "def grid_values(grid):\r\n",
    "    values = []\r\n",
    "    digits = \"123456789\"\r\n",
    "    chars = [c for c in grid if c in digits or c in '0.']\r\n",
    "    assert len(chars) == 81\r\n",
    "    grid_int = map(lambda x: int(x) if x != \".\" else 0, chars)\r\n",
    "\r\n",
    "    count = 0\r\n",
    "    row = []\r\n",
    "    for i in grid_int:\r\n",
    "        row.append(i)\r\n",
    "        count += 1\r\n",
    "        if count % 9 == 0:\r\n",
    "            values.append(row)\r\n",
    "            row = []\r\n",
    "    return values"
   ]
  },
  {
   "cell_type": "code",
   "execution_count": 27,
   "metadata": {},
   "outputs": [],
   "source": [
    "def solver(values, x=0, y=0):\r\n",
    "    def check(values, x, y, i):\r\n",
    "        def row(values, y, i):\r\n",
    "            return all(True if i != values[y][_x] else False for _x in range(9))\r\n",
    "        def column(values, x, i):\r\n",
    "            return all(True if i != values[_y][x] else False for _y in range(9))\r\n",
    "        if row(values, y, i) and column(values, x, i) and block(values, x, y, i):\r\n",
    "            return True\r\n",
    "        return False\r\n",
    "    \r\n",
    "    def block(values, x, y, i):\r\n",
    "        xbase = (x // 3) * 3\r\n",
    "        ybase = (y // 3) * 3\r\n",
    "        return all(True if i != values[_y][_x] else False for _y in range(ybase, xbase + 3) for _x in range(xbase, ybase+3))\r\n",
    "\r\n",
    "\r\n",
    "    if y > 8:\r\n",
    "        return True\r\n",
    "    elif values[x][y] != 0:\r\n",
    "        if x == 8:\r\n",
    "            if solver(values, 0, y+1):\r\n",
    "                return True\r\n",
    "        else:\r\n",
    "            if solver(values, x+1, y):\r\n",
    "                return True\r\n",
    "    \r\n",
    "    else:\r\n",
    "        for i in range(1, 10):\r\n",
    "            if check(values, x, y, i):\r\n",
    "                values[y][x] = i\r\n",
    "                if x == 8:\r\n",
    "                    if solver(values, 0,y+1):\r\n",
    "                        return True\r\n",
    "                else:\r\n",
    "                    if solver(values, x+1, y):\r\n",
    "                        return True\r\n",
    "        \r\n",
    "        values[y][x] = 0\r\n",
    "        return False"
   ]
  },
  {
   "cell_type": "code",
   "execution_count": 28,
   "metadata": {},
   "outputs": [],
   "source": [
    "grid = \"\"\"\"\r\n",
    "8 5 . |. . 2 |4 . .\r\n",
    "7 2 . |. . . |. . 9\r\n",
    ". . 4 |. . . |. . .\r\n",
    "------+------+------\r\n",
    ". . . |1 . 7 |. . 2\r\n",
    "3 . 5 |. . . |9 . .\r\n",
    ". 4 . |. . . |. . .\r\n",
    "------+------+------\r\n",
    ". . . |. 8 . |. 7 .\r\n",
    ". 1 7 |. . . |. . .\r\n",
    ". . . |. 3 6 |. 4 . \r\n",
    "\"\"\"\r\n",
    "values = grid_values(grid)"
   ]
  },
  {
   "cell_type": "code",
   "execution_count": 29,
   "metadata": {},
   "outputs": [
    {
     "data": {
      "text/plain": [
       "True"
      ]
     },
     "execution_count": 29,
     "metadata": {},
     "output_type": "execute_result"
    }
   ],
   "source": [
    "solver(values)"
   ]
  },
  {
   "cell_type": "code",
   "execution_count": 30,
   "metadata": {},
   "outputs": [
    {
     "name": "stdout",
     "output_type": "stream",
     "text": [
      "[8, 5, 1, 3, 0, 9, 2, 6, 4]\n",
      "[7, 2, 3, 4, 1, 0, 5, 0, 6]\n",
      "[0, 0, 4, 2, 0, 1, 3, 0, 5]\n",
      "[0, 0, 0, 1, 4, 3, 6, 5, 7]\n",
      "[1, 0, 2, 0, 5, 7, 9, 3, 0]\n",
      "[0, 3, 0, 0, 0, 2, 4, 1, 0]\n",
      "[0, 0, 0, 0, 8, 0, 1, 2, 3]\n",
      "[0, 4, 5, 0, 0, 0, 0, 7, 0]\n",
      "[0, 0, 0, 0, 2, 5, 0, 8, 9]\n"
     ]
    }
   ],
   "source": [
    "for value in values:\r\n",
    "    print(value)"
   ]
  },
  {
   "cell_type": "code",
   "execution_count": null,
   "metadata": {},
   "outputs": [],
   "source": []
  }
 ],
 "metadata": {
  "interpreter": {
   "hash": "1215578185007176f22ab61f9a6c70bda1b2e3219f7f90b26df9d7e5ba7b5384"
  },
  "kernelspec": {
   "display_name": "Python 3.9.2 64-bit ('my_django_environment': conda)",
   "name": "python3"
  },
  "language_info": {
   "name": "python",
   "version": ""
  },
  "orig_nbformat": 4
 },
 "nbformat": 4,
 "nbformat_minor": 2
}