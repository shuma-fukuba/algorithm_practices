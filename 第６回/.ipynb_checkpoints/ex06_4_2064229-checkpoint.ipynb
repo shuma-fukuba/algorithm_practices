{
 "cells": [
  {
   "cell_type": "code",
   "execution_count": 1,
   "metadata": {},
   "outputs": [],
   "source": [
    "import csv\n",
    "import pickle\n",
    "companion_count = 0\n",
    "change_count = 0"
   ]
  },
  {
   "cell_type": "code",
   "execution_count": 2,
   "metadata": {},
   "outputs": [],
   "source": [
    "class Student:\n",
    "    def __init__(self, num:int, name:str, score:int):\n",
    "        self.num = '{:4d}'.format(int(num))\n",
    "        self.name = '{:16s}'.format(name)\n",
    "        self.score = '{:3d}'.format(int(score))"
   ]
  },
  {
   "cell_type": "code",
   "execution_count": 3,
   "metadata": {},
   "outputs": [],
   "source": [
    "def sorting(array):\n",
    "    n = len(array)\n",
    "    global companion_count\n",
    "    global change_count\n",
    "    companion_count = 0\n",
    "    change_count = 0\n",
    "    for i in range(0, n-1):\n",
    "        max = i\n",
    "        for j in range(i+1, n):\n",
    "            companion_count += 1\n",
    "            if array[max] < array[j]:\n",
    "                max = j\n",
    "                change_count += 1\n",
    "            \n",
    "        tmp = array[max]\n",
    "        array[max] = array[i]\n",
    "        array[i] = tmp"
   ]
  },
  {
   "cell_type": "code",
   "execution_count": 4,
   "metadata": {},
   "outputs": [],
   "source": [
    "def sorting2(array):\n",
    "    n = len(array)\n",
    "    for i in range(0, n-1):\n",
    "        min = i\n",
    "        for j in range(i+1, n):\n",
    "            if array[min] > array[j]:\n",
    "                min = j\n",
    "            \n",
    "        tmp = array[min]\n",
    "        array[min] = array[i]\n",
    "        array[i] = tmp"
   ]
  },
  {
   "cell_type": "code",
   "execution_count": 5,
   "metadata": {},
   "outputs": [],
   "source": [
    "def print_csv(data, output_name):\n",
    "    scores = []\n",
    "    students = []\n",
    "    changed_list = []\n",
    "    with open(data) as f:\n",
    "        for row in csv.reader(f):\n",
    "            num = row[0]\n",
    "            name = row[1]\n",
    "            score = row[2]\n",
    "            student = Student(num, name, score)\n",
    "            row[0] = student.num\n",
    "            row[1] = student.name\n",
    "            row[2] = student.score\n",
    "            students.append([row[0], row[1], row[2]])\n",
    "        f.close()\n",
    "\n",
    "        \n",
    "    for i in range(len(students)):\n",
    "        scores.append(int(students[i][2]))\n",
    "    scores = list(set(scores))\n",
    "    sorting(scores)\n",
    "    for score in scores:\n",
    "        score_eqs = []\n",
    "        nums = []\n",
    "        for i in range(len(students)):\n",
    "            if score == int(students[i][2]) and students[i] not in score_eqs:\n",
    "                score_eqs.append(students[i])\n",
    "        for eq in score_eqs:\n",
    "            nums.append(int(eq[0]))\n",
    "        sorting2(nums)\n",
    "        for num in nums:\n",
    "            for eq in score_eqs:\n",
    "                if int(eq[0]) == num and eq not in changed_list:\n",
    "                    changed_list.append(eq)\n",
    "                    \n",
    "\n",
    "    print('入力ファイル名:', data)\n",
    "    print('比較回数:', companion_count, ', 入れ替え回数:', change_count)\n",
    "    with open(output_name, 'w') as f:\n",
    "        for row in changed_list:\n",
    "            insert_str = row[0] + ',' + row[1] + ',' + row[2] + '\\n'\n",
    "            f.write(insert_str)\n",
    "        print(output_name, 'への書き込み完了')\n",
    "        f.close()"
   ]
  },
  {
   "cell_type": "code",
   "execution_count": 6,
   "metadata": {},
   "outputs": [
    {
     "name": "stdout",
     "output_type": "stream",
     "text": [
      "入力ファイル名: data_8.csv\n",
      "比較回数: 21 , 入れ替え回数: 11\n",
      "test4.txt への書き込み完了\n"
     ]
    }
   ],
   "source": [
    "print_csv('data_8.csv', 'test4.txt')"
   ]
  },
  {
   "cell_type": "code",
   "execution_count": 7,
   "metadata": {},
   "outputs": [
    {
     "name": "stdout",
     "output_type": "stream",
     "text": [
      "入力ファイル名: data_288.csv\n",
      "比較回数: 4656 , 入れ替え回数: 2352\n",
      "test5.txt への書き込み完了\n"
     ]
    }
   ],
   "source": [
    "print_csv('data_288.csv', 'test5.txt')"
   ]
  },
  {
   "cell_type": "code",
   "execution_count": 8,
   "metadata": {},
   "outputs": [
    {
     "name": "stdout",
     "output_type": "stream",
     "text": [
      "入力ファイル名: data_2240.csv\n",
      "比較回数: 5050 , 入れ替え回数: 2550\n",
      "test6.txt への書き込み完了\n"
     ]
    }
   ],
   "source": [
    "print_csv('data_2240.csv', 'test6.txt')"
   ]
  },
  {
   "cell_type": "code",
   "execution_count": null,
   "metadata": {},
   "outputs": [],
   "source": []
  }
 ],
 "metadata": {
  "kernelspec": {
   "display_name": "Python 3",
   "language": "python",
   "name": "python3"
  },
  "language_info": {
   "codemirror_mode": {
    "name": "ipython",
    "version": 3
   },
   "file_extension": ".py",
   "mimetype": "text/x-python",
   "name": "python",
   "nbconvert_exporter": "python",
   "pygments_lexer": "ipython3",
   "version": "3.7.6"
  }
 },
 "nbformat": 4,
 "nbformat_minor": 4
}
