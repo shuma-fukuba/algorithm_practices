{
 "cells": [
  {
   "cell_type": "code",
   "execution_count": 1,
   "metadata": {},
   "outputs": [],
   "source": [
    "class List:\r\n",
    "    def __init__(self, num:int, name:str, prf:str, next=None):\r\n",
    "        self.num = num\r\n",
    "        self.name = name\r\n",
    "        self.prf = prf\r\n",
    "        self.next = next\r\n",
    "        \r\n",
    "\r\n",
    "class LinkedList:\r\n",
    "    def __init__(self):\r\n",
    "        self.top = List(None, None, None)\r\n",
    "\r\n",
    "    def insert(self, num, name, prf):\r\n",
    "        front = self.top\r\n",
    "        rear = front.next\r\n",
    "        while rear and num < rear.num:\r\n",
    "            front = rear\r\n",
    "            rear = rear.next\r\n",
    "        cell = List(num, name, prf)\r\n",
    "        cell.next = rear\r\n",
    "        front.next = cell\r\n",
    "\r\n",
    "    def show(self):\r\n",
    "        p = self.top.next\r\n",
    "        while p:\r\n",
    "            print(str(p.num).rjust(2), end=\" \")\r\n",
    "            print(p.name, end=\" \")\r\n",
    "            print(p.prf)\r\n",
    "            p = p.next"
   ]
  },
  {
   "cell_type": "code",
   "execution_count": 5,
   "metadata": {},
   "outputs": [],
   "source": [
    "l = LinkedList()\n",
    "with open('Zac_Japan.txt', mode=\"r\", encoding='UTF-8') as f:\n",
    "    rows = f.readlines()\n",
    "    for row in rows:\n",
    "        ret = row.split(' ')\n",
    "        l.insert(int(ret[0]), ret[1], ret[2])"
   ]
  },
  {
   "cell_type": "code",
   "execution_count": 6,
   "metadata": {},
   "outputs": [
    {
     "name": "stdout",
     "output_type": "stream",
     "text": [
      "22 吉田麻也 DF_1988/08/24_189cm_81kg_サウサンプトン\n",
      "\n",
      "17 長谷部誠 MF_1984/01/18_180cm_72kg_ニュルンベルク\n",
      "\n",
      "15 今野泰幸 DF_1983/01/25_178cm_73kg_ガンバ大阪\n",
      "\n",
      "13 大久保嘉人 FW_1982/06/09_170cm_73kg_川崎Ｆ\n",
      "\n",
      "10 香川真司 FW_1989/03/17_172cm_63kg_マンチェスターＵ\n",
      "\n",
      " 9 岡崎慎司 FW_1986/04/16_174cm_76kg_マインツ\n",
      "\n",
      " 7 遠藤保仁 MF_1980/01/28_178cm_75kg_ガンバ大阪\n",
      "\n",
      " 5 長友佑都 DF_1986/09/12_170cm_68kg_インテル\n",
      "\n",
      " 4 本田圭佑 MF_1986/06/13_182cm_74kg_ＡＣミラン\n",
      "\n",
      " 2 内田篤人 DF_1988/03/27_176cm_67kg_シャルケ\n",
      "\n",
      " 1 川島永嗣 GK_1983/03/20_185cm_82kg_スタンダール\n",
      "\n"
     ]
    }
   ],
   "source": [
    "l.show()"
   ]
  },
  {
   "cell_type": "code",
   "execution_count": null,
   "metadata": {},
   "outputs": [],
   "source": []
  }
 ],
 "metadata": {
  "interpreter": {
   "hash": "1215578185007176f22ab61f9a6c70bda1b2e3219f7f90b26df9d7e5ba7b5384"
  },
  "kernelspec": {
   "display_name": "Python 3.9.2 64-bit ('my_django_environment': conda)",
   "name": "python3"
  },
  "language_info": {
   "name": "python",
   "version": ""
  },
  "orig_nbformat": 4
 },
 "nbformat": 4,
 "nbformat_minor": 2
}