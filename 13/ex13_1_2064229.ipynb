{
 "cells": [
  {
   "cell_type": "code",
   "execution_count": 2,
   "source": [
    "# 基本課題 1. ～ 2. のデータ・ファイル\r\n",
    "#\r\n",
    "d0 = [ 8, 14, 13, 7, 15, 12, 16, 15, 12, 9 ]\r\n",
    "\r\n",
    "d1 = [ 8, 14, 13, 7, 15 ]\r\n",
    "\r\n",
    "d2 = [ 8, 14, 13, 7, 15, 12, 16, 15, 12, 9, 20, 22, 15, 12, 11,\r\n",
    "  25, 13, 7, 10, 6, 11, 11, 5, 8, 16, 7, 11, 18, 12, 9\r\n",
    "]\r\n",
    "\r\n",
    "d3 = [\r\n",
    "   8, 14, 13, 7, 15, 12, 16, 15, 12, 9, 20, 22, 15, 12, 11,\r\n",
    "   8, 14, 13, 7, 15, 12, 16, 15, 12, 9, 20, 22, 15, 12, 11,\r\n",
    "  25, 13, 7, 10, 6, 11, 11, 5, 8, 16, 7, 11, 18, 12, 9,\r\n",
    "  25, 13, 7, 10, 6, 11, 11, 5, 8, 16, 7, 11, 18, 12, 9,\r\n",
    "   8, 14, 13, 7, 15, 12, 16, 15, 12, 9, 20, 22, 15, 12, 11,\r\n",
    "  25, 13, 7, 10, 6, 11, 11, 5, 8, 16, 7, 11, 18, 12, 9,\r\n",
    "   8, 14, 13, 7, 15, 12, 16, 15, 12, 9, 20, 22, 15, 12, 11,\r\n",
    "   8, 14, 13, 7, 15, 12, 16, 15, 12, 9, 20, 22, 15, 12, 11,\r\n",
    "  25, 13, 7, 10, 6, 11, 11, 5, 8, 16, 7, 11, 18, 12, 9,\r\n",
    "  25, 13, 7, 10, 6, 11, 11, 5, 8, 16, 7, 11, 18, 12, 9\r\n",
    "]\r\n",
    "\r\n",
    "d4 = [\r\n",
    "  80000, 140000, 130000, 70000, 150000, 120000, 160000, 150000, 120000, 90000, 200000, 220000, 150000, 120000, 110000,\r\n",
    "  80000, 140000, 130000, 70000, 150000, 120000, 160000, 150000, 120000, 90000, 200000, 220000, 150000, 120000, 110000,\r\n",
    "  250000, 130000, 70000, 100000, 60000, 110000, 110000, 50000, 80000, 160000, 70000, 110000, 180000, 120000, 90000,\r\n",
    "  80000, 140000, 130000, 70000, 150000, 120000, 160000, 150000, 120000, 90000, 200000, 220000, 150000, 120000, 110000,\r\n",
    "  250000, 130000, 70000, 100000, 60000, 110000, 110000, 50000, 80000, 160000, 70000, 110000, 180000, 120000, 90000,\r\n",
    "  250000, 130000, 70000, 100000, 60000, 110000, 110000, 50000, 80000, 160000, 70000, 110000, 180000, 120000, 90000,\r\n",
    "  80000, 140000, 130000, 70000, 150000, 120000, 160000, 150000, 120000, 90000, 200000, 220000, 150000, 120000, 110000,\r\n",
    "  80000, 140000, 130000, 70000, 150000, 120000, 160000, 150000, 120000, 90000, 200000, 220000, 150000, 120000, 110000,\r\n",
    "  250000, 130000, 70000, 100000, 60000, 110000, 110000, 50000, 80000, 160000, 70000, 110000, 180000, 120000, 90000,\r\n",
    "  250000, 130000, 70000, 100000, 60000, 110000, 110000, 50000, 80000, 160000, 70000, 110000, 180000, 120000, 90000\r\n",
    "]\r\n"
   ],
   "outputs": [],
   "metadata": {}
  },
  {
   "cell_type": "code",
   "execution_count": 3,
   "source": [
    "def puttable(interval, data, n):\r\n",
    "    for start in range(len(data)):\r\n",
    "        pos = start\r\n",
    "        over = 0\r\n",
    "        for _ in range(1, n+1):\r\n",
    "            d = 0\r\n",
    "            while d < interval:\r\n",
    "                d += data[pos]\r\n",
    "                pos = (pos + 1) % len(data)\r\n",
    "                if pos == start:\r\n",
    "                    over += 1\r\n",
    "        if over == 0 or (over == 1 and pos == start):\r\n",
    "            return True\r\n",
    "    return False"
   ],
   "outputs": [],
   "metadata": {}
  },
  {
   "cell_type": "code",
   "execution_count": 4,
   "source": [
    "def main(data:list):\r\n",
    "    n = int(input())\r\n",
    "    print(f\"見張りをする人数: {n}人\")\r\n",
    "    if n > len(data):\r\n",
    "        print('nの値が不正です')\r\n",
    "    else:\r\n",
    "        total = sum(data)\r\n",
    "        l = 0\r\n",
    "        h = total\r\n",
    "        while l + 1 < h:\r\n",
    "            # 二分探索\r\n",
    "            m = (l + h) // 2\r\n",
    "            if puttable(m, data, n):\r\n",
    "                l = m\r\n",
    "            else:\r\n",
    "                h = m\r\n",
    "        \r\n",
    "        print(f\"{n}人を配置するときの塔間の最小値は{l}\")"
   ],
   "outputs": [],
   "metadata": {}
  },
  {
   "cell_type": "code",
   "execution_count": 5,
   "source": [
    "main(d1)"
   ],
   "outputs": [
    {
     "output_type": "stream",
     "name": "stdout",
     "text": [
      "見張りをする人数: 5人\n",
      "5人を配置するときの塔間の最小値は6.234375\n"
     ]
    }
   ],
   "metadata": {}
  },
  {
   "cell_type": "code",
   "execution_count": 6,
   "source": [
    "main(d1)"
   ],
   "outputs": [
    {
     "output_type": "stream",
     "name": "stdout",
     "text": [
      "見張りをする人数: 2人\n",
      "2人を配置するときの塔間の最小値は26.71875\n"
     ]
    }
   ],
   "metadata": {}
  },
  {
   "cell_type": "code",
   "execution_count": 7,
   "source": [
    "main(d1)"
   ],
   "outputs": [
    {
     "output_type": "stream",
     "name": "stdout",
     "text": [
      "見張りをする人数: 3人\n",
      "3人を配置するときの塔間の最小値は14.25\n"
     ]
    }
   ],
   "metadata": {}
  },
  {
   "cell_type": "code",
   "execution_count": 14,
   "source": [
    "main(d1)"
   ],
   "outputs": [
    {
     "output_type": "stream",
     "name": "stdout",
     "text": [
      "見張りをする人数: 4人\n",
      "4人を配置するときの塔間の最小値は8\n"
     ]
    }
   ],
   "metadata": {}
  },
  {
   "cell_type": "code",
   "execution_count": 8,
   "source": [
    "main(d0)"
   ],
   "outputs": [
    {
     "output_type": "stream",
     "name": "stdout",
     "text": [
      "見張りをする人数: 2人\n",
      "2人を配置するときの塔間の最小値は59.5546875\n"
     ]
    }
   ],
   "metadata": {}
  },
  {
   "cell_type": "code",
   "execution_count": 9,
   "source": [
    "main(d0)"
   ],
   "outputs": [
    {
     "output_type": "stream",
     "name": "stdout",
     "text": [
      "見張りをする人数: 3人\n",
      "3人を配置するときの塔間の最小値は35.921875\n"
     ]
    }
   ],
   "metadata": {}
  },
  {
   "cell_type": "code",
   "execution_count": 10,
   "source": [
    "main(d0)"
   ],
   "outputs": [
    {
     "output_type": "stream",
     "name": "stdout",
     "text": [
      "見張りをする人数: 4人\n",
      "4人を配置するときの塔間の最小値は26.46875\n"
     ]
    }
   ],
   "metadata": {}
  },
  {
   "cell_type": "code",
   "execution_count": 11,
   "source": [
    "main(d2)"
   ],
   "outputs": [
    {
     "output_type": "stream",
     "name": "stdout",
     "text": [
      "見張りをする人数: 100人\n",
      "nの値が不正です\n"
     ]
    }
   ],
   "metadata": {}
  },
  {
   "cell_type": "code",
   "execution_count": 20,
   "source": [
    "main(d2)"
   ],
   "outputs": [
    {
     "output_type": "stream",
     "name": "stdout",
     "text": [
      "見張りをする人数: 10人\n",
      "10人を配置するときの塔間の最小値は31\n"
     ]
    }
   ],
   "metadata": {}
  },
  {
   "cell_type": "code",
   "execution_count": 21,
   "source": [
    "main(d3)"
   ],
   "outputs": [
    {
     "output_type": "stream",
     "name": "stdout",
     "text": [
      "見張りをする人数: 10人\n",
      "10人を配置するときの塔間の最小値は182\n"
     ]
    }
   ],
   "metadata": {}
  },
  {
   "cell_type": "code",
   "execution_count": 24,
   "source": [
    "main(d3)"
   ],
   "outputs": [
    {
     "output_type": "stream",
     "name": "stdout",
     "text": [
      "見張りをする人数: 100人\n",
      "100人を配置するときの塔間の最小値は12\n"
     ]
    }
   ],
   "metadata": {}
  },
  {
   "cell_type": "code",
   "execution_count": 22,
   "source": [
    "main(d4)"
   ],
   "outputs": [
    {
     "output_type": "stream",
     "name": "stdout",
     "text": [
      "見張りをする人数: 100人\n",
      "100人を配置するときの塔間の最小値は120000\n"
     ]
    }
   ],
   "metadata": {}
  },
  {
   "cell_type": "code",
   "execution_count": 23,
   "source": [
    "main(d4)"
   ],
   "outputs": [
    {
     "output_type": "stream",
     "name": "stdout",
     "text": [
      "見張りをする人数: 10人\n",
      "10人を配置するときの塔間の最小値は1820000\n"
     ]
    }
   ],
   "metadata": {}
  },
  {
   "cell_type": "code",
   "execution_count": 5,
   "source": [
    "main(d2)"
   ],
   "outputs": [
    {
     "output_type": "stream",
     "name": "stdout",
     "text": [
      "見張りをする人数: 8人\n",
      "8人を配置するときの塔間の最小値は41\n"
     ]
    }
   ],
   "metadata": {}
  },
  {
   "cell_type": "code",
   "execution_count": 6,
   "source": [
    "main(d3)"
   ],
   "outputs": [
    {
     "output_type": "stream",
     "name": "stdout",
     "text": [
      "見張りをする人数: 10人\n",
      "10人を配置するときの塔間の最小値は182\n"
     ]
    }
   ],
   "metadata": {}
  },
  {
   "cell_type": "code",
   "execution_count": 7,
   "source": [
    "main(d3)"
   ],
   "outputs": [
    {
     "output_type": "stream",
     "name": "stdout",
     "text": [
      "見張りをする人数: 100人\n",
      "100人を配置するときの塔間の最小値は12\n"
     ]
    }
   ],
   "metadata": {}
  },
  {
   "cell_type": "code",
   "execution_count": 8,
   "source": [
    "main(d4)"
   ],
   "outputs": [
    {
     "output_type": "stream",
     "name": "stdout",
     "text": [
      "見張りをする人数: 10人\n",
      "10人を配置するときの塔間の最小値は1820000\n"
     ]
    }
   ],
   "metadata": {}
  },
  {
   "cell_type": "code",
   "execution_count": 9,
   "source": [
    "main(d4)"
   ],
   "outputs": [
    {
     "output_type": "stream",
     "name": "stdout",
     "text": [
      "見張りをする人数: 100人\n",
      "100人を配置するときの塔間の最小値は120000\n"
     ]
    }
   ],
   "metadata": {}
  },
  {
   "cell_type": "code",
   "execution_count": null,
   "source": [],
   "outputs": [],
   "metadata": {}
  }
 ],
 "metadata": {
  "interpreter": {
   "hash": "1215578185007176f22ab61f9a6c70bda1b2e3219f7f90b26df9d7e5ba7b5384"
  },
  "kernelspec": {
   "display_name": "Python 3.9.2 64-bit ('my_django_environment': conda)",
   "name": "python3"
  },
  "language_info": {
   "codemirror_mode": {
    "name": "ipython",
    "version": 3
   },
   "file_extension": ".py",
   "mimetype": "text/x-python",
   "name": "python",
   "nbconvert_exporter": "python",
   "pygments_lexer": "ipython3",
   "version": "3.7.6"
  },
  "orig_nbformat": 4
 },
 "nbformat": 4,
 "nbformat_minor": 2
}