{
 "cells": [
  {
   "cell_type": "code",
   "execution_count": 15,
   "metadata": {},
   "outputs": [],
   "source": [
    "def main():\n",
    "    a = []\n",
    "    b = []\n",
    "    n = input(\"ベクトルの字数（最大10） = \")\n",
    "    n = int(n)\n",
    "    print('ベクトル1の入力：')\n",
    "    for i in range(n):\n",
    "        ai = input()\n",
    "        ai = int(ai)\n",
    "        a.append(ai)\n",
    "    print('ベクトル2の入力：')\n",
    "    for i in range(n):\n",
    "        bi = input()\n",
    "        bi = int(bi)\n",
    "        b.append(bi)\n",
    "        \n",
    "    inner_product = 0\n",
    "    for i in range(0, n):\n",
    "        inner_product += a[i] * b[i]\n",
    "    print('内積=', inner_product)"
   ]
  },
  {
   "cell_type": "code",
   "execution_count": 16,
   "metadata": {},
   "outputs": [
    {
     "name": "stdin",
     "output_type": "stream",
     "text": [
      "ベクトルの字数（最大10） =  3\n"
     ]
    },
    {
     "name": "stdout",
     "output_type": "stream",
     "text": [
      "ベクトル1の入力：\n"
     ]
    },
    {
     "name": "stdin",
     "output_type": "stream",
     "text": [
      " 1\n",
      " 2\n",
      " 3\n"
     ]
    },
    {
     "name": "stdout",
     "output_type": "stream",
     "text": [
      "ベクトル2の入力：\n"
     ]
    },
    {
     "name": "stdin",
     "output_type": "stream",
     "text": [
      " 4\n",
      " 5\n",
      " 6\n"
     ]
    },
    {
     "name": "stdout",
     "output_type": "stream",
     "text": [
      "内積= 32\n"
     ]
    }
   ],
   "source": [
    "main()"
   ]
  },
  {
   "cell_type": "code",
   "execution_count": null,
   "metadata": {},
   "outputs": [],
   "source": []
  }
 ],
 "metadata": {
  "kernelspec": {
   "display_name": "Python 3",
   "language": "python",
   "name": "python3"
  },
  "language_info": {
   "codemirror_mode": {
    "name": "ipython",
    "version": 3
   },
   "file_extension": ".py",
   "mimetype": "text/x-python",
   "name": "python",
   "nbconvert_exporter": "python",
   "pygments_lexer": "ipython3",
   "version": "3.7.6"
  }
 },
 "nbformat": 4,
 "nbformat_minor": 4
}
