{
 "cells": [
  {
   "cell_type": "code",
   "execution_count": 81,
   "metadata": {},
   "outputs": [],
   "source": [
    "inverce = []\n",
    "def inverce(a):\n",
    "    global inverce\n",
    "    def det(a):\n",
    "        return float(a[0][0] * a[1][1] - a[0][1] * a[1][0])\n",
    "    det = det(a)\n",
    "    if det != 0:\n",
    "        z = 1 / det\n",
    "        inverce =  [[z * a[1][1], z * -a[0][1]], [z * -a[1][0], z * a[0][0]]]\n",
    "    return det"
   ]
  },
  {
   "cell_type": "code",
   "execution_count": 82,
   "metadata": {},
   "outputs": [],
   "source": [
    "def main():\n",
    "    a1 = [0, 0]\n",
    "    a2 = [0, 0]\n",
    "    a1[0] = float(input('a[0][0] = '))\n",
    "    a1[1] = float(input('a[0][1] = '))\n",
    "    a2[0] = float(input('a[1][0] = '))\n",
    "    a2[1] = float(input('a[1][1] = '))\n",
    "    a = [a1, a2]\n",
    "    print('入力された行列:', a)\n",
    "    if inverce(a) == 0:\n",
    "        print('逆行列は存在しません')\n",
    "    else:\n",
    "        print('逆行列:', inverce)"
   ]
  },
  {
   "cell_type": "markdown",
   "metadata": {},
   "source": [
    "main()"
   ]
  },
  {
   "cell_type": "code",
   "execution_count": 79,
   "metadata": {},
   "outputs": [
    {
     "name": "stdin",
     "output_type": "stream",
     "text": [
      "a[0][0] =  1\n",
      "a[0][1] =  2\n",
      "a[1][0] =  3\n",
      "a[1][1] =  4\n"
     ]
    },
    {
     "name": "stdout",
     "output_type": "stream",
     "text": [
      "入力された行列: [[1.0, 2.0], [3.0, 4.0]]\n",
      "逆行列: [[-2.0, 1.0], [1.5, -0.5]]\n"
     ]
    }
   ],
   "source": [
    "main()"
   ]
  },
  {
   "cell_type": "code",
   "execution_count": 83,
   "metadata": {},
   "outputs": [
    {
     "name": "stdin",
     "output_type": "stream",
     "text": [
      "a[0][0] =  2\n",
      "a[0][1] =  3\n",
      "a[1][0] =  4\n",
      "a[1][1] =  6\n"
     ]
    },
    {
     "name": "stdout",
     "output_type": "stream",
     "text": [
      "入力された行列: [[2.0, 3.0], [4.0, 6.0]]\n",
      "逆行列は存在しません\n"
     ]
    }
   ],
   "source": [
    "main()"
   ]
  },
  {
   "cell_type": "code",
   "execution_count": null,
   "metadata": {},
   "outputs": [],
   "source": []
  }
 ],
 "metadata": {
  "kernelspec": {
   "display_name": "Python 3",
   "language": "python",
   "name": "python3"
  },
  "language_info": {
   "codemirror_mode": {
    "name": "ipython",
    "version": 3
   },
   "file_extension": ".py",
   "mimetype": "text/x-python",
   "name": "python",
   "nbconvert_exporter": "python",
   "pygments_lexer": "ipython3",
   "version": "3.7.6"
  }
 },
 "nbformat": 4,
 "nbformat_minor": 4
}
