{
 "cells": [
  {
   "cell_type": "code",
   "execution_count": 1,
   "metadata": {},
   "outputs": [],
   "source": [
    "def main():\n",
    "    lists = []\n",
    "    while True:\n",
    "        try:\n",
    "            val = input(\"リストに入れる整数を入力してください（終了はEOF）：\")\n",
    "        except EOFError:\n",
    "            break\n",
    "        if val:\n",
    "            lists.append(val)\n",
    "        \n",
    "    for i in range(10):\n",
    "        count = 0\n",
    "        for list in list():\n",
    "            if list == i:\n",
    "                count += 1\n",
    "            print(i, 'の個数は', count)"
   ]
  },
  {
   "cell_type": "code",
   "execution_count": null,
   "metadata": {},
   "outputs": [
    {
     "name": "stdin",
     "output_type": "stream",
     "text": [
      "リストに入れる整数を入力してください（終了はEOF）： 1\n",
      "リストに入れる整数を入力してください（終了はEOF）： 2\n",
      "リストに入れる整数を入力してください（終了はEOF）： 3\n",
      "リストに入れる整数を入力してください（終了はEOF）： 4\n",
      "リストに入れる整数を入力してください（終了はEOF）： 76\n",
      "リストに入れる整数を入力してください（終了はEOF）： 5\n",
      "リストに入れる整数を入力してください（終了はEOF）： 34\n",
      "リストに入れる整数を入力してください（終了はEOF）： 3\n",
      "リストに入れる整数を入力してください（終了はEOF）： 4\n",
      "リストに入れる整数を入力してください（終了はEOF）： 1\n",
      "リストに入れる整数を入力してください（終了はEOF）： 1\n",
      "リストに入れる整数を入力してください（終了はEOF）： 1\n",
      "リストに入れる整数を入力してください（終了はEOF）： 1\n",
      "リストに入れる整数を入力してください（終了はEOF）： \n",
      "リストに入れる整数を入力してください（終了はEOF）： \n",
      "リストに入れる整数を入力してください（終了はEOF）： \n",
      "リストに入れる整数を入力してください（終了はEOF）： \n",
      "リストに入れる整数を入力してください（終了はEOF）： \n",
      "リストに入れる整数を入力してください（終了はEOF）： EOF\n"
     ]
    }
   ],
   "source": [
    "main()"
   ]
  },
  {
   "cell_type": "code",
   "execution_count": null,
   "metadata": {},
   "outputs": [],
   "source": []
  }
 ],
 "metadata": {
  "kernelspec": {
   "display_name": "Python 3",
   "language": "python",
   "name": "python3"
  },
  "language_info": {
   "codemirror_mode": {
    "name": "ipython",
    "version": 3
   },
   "file_extension": ".py",
   "mimetype": "text/x-python",
   "name": "python",
   "nbconvert_exporter": "python",
   "pygments_lexer": "ipython3",
   "version": "3.7.6"
  }
 },
 "nbformat": 4,
 "nbformat_minor": 4
}
