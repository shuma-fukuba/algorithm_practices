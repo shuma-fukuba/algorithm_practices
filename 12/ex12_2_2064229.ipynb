{
 "cells": [
  {
   "cell_type": "code",
   "execution_count": 1,
   "metadata": {},
   "outputs": [],
   "source": [
    "d0 = [ 8, 14, 13, 7, 15, 12, 16, 15, 12, 9 ]\r\n",
    "d1 = [ 8, 14, 13, 7, 15 ]\r\n",
    "\r\n",
    "d2 = [ 8, 14, 13, 7, 15, 12, 16, 15, 12, 9, 20, 22, 15, 12, 11,\r\n",
    "  25, 13, 7, 10, 6, 11, 11, 5, 8, 16, 7, 11, 18, 12, 9\r\n",
    "]\r\n",
    "\r\n",
    "d3 = [\r\n",
    "   8, 14, 13, 7, 15, 12, 16, 15, 12, 9, 20, 22, 15, 12, 11,\r\n",
    "   8, 14, 13, 7, 15, 12, 16, 15, 12, 9, 20, 22, 15, 12, 11,\r\n",
    "  25, 13, 7, 10, 6, 11, 11, 5, 8, 16, 7, 11, 18, 12, 9,\r\n",
    "  25, 13, 7, 10, 6, 11, 11, 5, 8, 16, 7, 11, 18, 12, 9,\r\n",
    "   8, 14, 13, 7, 15, 12, 16, 15, 12, 9, 20, 22, 15, 12, 11,\r\n",
    "  25, 13, 7, 10, 6, 11, 11, 5, 8, 16, 7, 11, 18, 12, 9,\r\n",
    "   8, 14, 13, 7, 15, 12, 16, 15, 12, 9, 20, 22, 15, 12, 11,\r\n",
    "   8, 14, 13, 7, 15, 12, 16, 15, 12, 9, 20, 22, 15, 12, 11,\r\n",
    "  25, 13, 7, 10, 6, 11, 11, 5, 8, 16, 7, 11, 18, 12, 9,\r\n",
    "  25, 13, 7, 10, 6, 11, 11, 5, 8, 16, 7, 11, 18, 12, 9\r\n",
    "]\r\n",
    "\r\n",
    "d4 = [\r\n",
    "  80000, 140000, 130000, 70000, 150000, 120000, 160000, 150000, 120000, 90000, 200000, 220000, 150000, 120000, 110000,\r\n",
    "  80000, 140000, 130000, 70000, 150000, 120000, 160000, 150000, 120000, 90000, 200000, 220000, 150000, 120000, 110000,\r\n",
    "  250000, 130000, 70000, 100000, 60000, 110000, 110000, 50000, 80000, 160000, 70000, 110000, 180000, 120000, 90000,\r\n",
    "  80000, 140000, 130000, 70000, 150000, 120000, 160000, 150000, 120000, 90000, 200000, 220000, 150000, 120000, 110000,\r\n",
    "  250000, 130000, 70000, 100000, 60000, 110000, 110000, 50000, 80000, 160000, 70000, 110000, 180000, 120000, 90000,\r\n",
    "  250000, 130000, 70000, 100000, 60000, 110000, 110000, 50000, 80000, 160000, 70000, 110000, 180000, 120000, 90000,\r\n",
    "  80000, 140000, 130000, 70000, 150000, 120000, 160000, 150000, 120000, 90000, 200000, 220000, 150000, 120000, 110000,\r\n",
    "  80000, 140000, 130000, 70000, 150000, 120000, 160000, 150000, 120000, 90000, 200000, 220000, 150000, 120000, 110000,\r\n",
    "  250000, 130000, 70000, 100000, 60000, 110000, 110000, 50000, 80000, 160000, 70000, 110000, 180000, 120000, 90000,\r\n",
    "  250000, 130000, 70000, 100000, 60000, 110000, 110000, 50000, 80000, 160000, 70000, 110000, 180000, 120000, 90000\r\n",
    "]"
   ]
  },
  {
   "cell_type": "code",
   "execution_count": 2,
   "metadata": {},
   "outputs": [],
   "source": [
    "def puttable(interval, data, n):\r\n",
    "    for start in range(len(data)):\r\n",
    "        pos = start\r\n",
    "        over = 0\r\n",
    "        for i in range(1, n+1):\r\n",
    "            d = 0\r\n",
    "            while d < interval:\r\n",
    "                d += data[pos]\r\n",
    "                pos = (pos+1)%len(data)\r\n",
    "                if pos == start:\r\n",
    "                    over += 1\r\n",
    "        if over == 0 or (over == 1 and pos == start):\r\n",
    "            return True\r\n",
    "    return False"
   ]
  },
  {
   "cell_type": "code",
   "execution_count": 3,
   "metadata": {},
   "outputs": [],
   "source": [
    "def main(data:list):\r\n",
    "    n = int(input())\r\n",
    "    if n > len(data):\r\n",
    "        print(\"nの値が不正です\")\r\n",
    "    else:\r\n",
    "        total = sum(data)\r\n",
    "        for i in range(1 ,total+1):\r\n",
    "            if not puttable(i, data, n):\r\n",
    "                print(\"N = {:d}のときの最小値は\".format(n))\r\n",
    "                print(i-1)\r\n",
    "                break"
   ]
  },
  {
   "cell_type": "code",
   "execution_count": 14,
   "metadata": {},
   "outputs": [
    {
     "name": "stdout",
     "output_type": "stream",
     "text": [
      "N = 5のときの最小値は\n",
      "7\n"
     ]
    }
   ],
   "source": [
    "main(d1)\r\n",
    "            "
   ]
  },
  {
   "cell_type": "code",
   "execution_count": 15,
   "metadata": {},
   "outputs": [
    {
     "name": "stdout",
     "output_type": "stream",
     "text": [
      "N = 3のときの最小値は\n",
      "15\n"
     ]
    }
   ],
   "source": [
    "main(d1)"
   ]
  },
  {
   "cell_type": "code",
   "execution_count": 16,
   "metadata": {},
   "outputs": [
    {
     "name": "stdout",
     "output_type": "stream",
     "text": [
      "N = 30のときの最小値は\n",
      "5\n"
     ]
    }
   ],
   "source": [
    "main(d2)"
   ]
  },
  {
   "cell_type": "code",
   "execution_count": 18,
   "metadata": {},
   "outputs": [
    {
     "name": "stdout",
     "output_type": "stream",
     "text": [
      "N = 10のときの最小値は\n",
      "31\n"
     ]
    }
   ],
   "source": [
    "main(d2)"
   ]
  },
  {
   "cell_type": "code",
   "execution_count": 19,
   "metadata": {},
   "outputs": [
    {
     "name": "stdout",
     "output_type": "stream",
     "text": [
      "N = 10のときの最小値は\n",
      "182\n"
     ]
    }
   ],
   "source": [
    "main(d3)"
   ]
  },
  {
   "cell_type": "code",
   "execution_count": 21,
   "metadata": {},
   "outputs": [
    {
     "name": "stdout",
     "output_type": "stream",
     "text": [
      "N = 100のときの最小値は\n",
      "12\n"
     ]
    }
   ],
   "source": [
    "main(d3)"
   ]
  },
  {
   "cell_type": "code",
   "execution_count": 25,
   "metadata": {},
   "outputs": [
    {
     "name": "stdout",
     "output_type": "stream",
     "text": [
      "N = 10のときの最小値は\n",
      "1820000\n"
     ]
    }
   ],
   "source": [
    "main(d4)"
   ]
  },
  {
   "cell_type": "code",
   "execution_count": 24,
   "metadata": {},
   "outputs": [
    {
     "name": "stdout",
     "output_type": "stream",
     "text": [
      "N = 100のときの最小値は\n",
      "120000\n"
     ]
    }
   ],
   "source": [
    "main(d4)"
   ]
  },
  {
   "cell_type": "code",
   "execution_count": 4,
   "metadata": {},
   "outputs": [
    {
     "name": "stdout",
     "output_type": "stream",
     "text": [
      "N = 8のときの最小値は\n",
      "41\n"
     ]
    }
   ],
   "source": [
    "main(d2)"
   ]
  },
  {
   "cell_type": "code",
   "execution_count": 5,
   "metadata": {},
   "outputs": [
    {
     "name": "stdout",
     "output_type": "stream",
     "text": [
      "N = 10のときの最小値は\n",
      "182\n"
     ]
    }
   ],
   "source": [
    "main(d3)"
   ]
  },
  {
   "cell_type": "code",
   "execution_count": 6,
   "metadata": {},
   "outputs": [
    {
     "name": "stdout",
     "output_type": "stream",
     "text": [
      "N = 100のときの最小値は\n",
      "12\n"
     ]
    }
   ],
   "source": [
    "main(d3)"
   ]
  },
  {
   "cell_type": "code",
   "execution_count": 7,
   "metadata": {},
   "outputs": [
    {
     "name": "stdout",
     "output_type": "stream",
     "text": [
      "N = 10のときの最小値は\n",
      "1820000\n"
     ]
    }
   ],
   "source": [
    "main(d4)"
   ]
  },
  {
   "cell_type": "code",
   "execution_count": 8,
   "metadata": {},
   "outputs": [
    {
     "name": "stdout",
     "output_type": "stream",
     "text": [
      "N = 100のときの最小値は\n",
      "120000\n"
     ]
    }
   ],
   "source": [
    "main(d4)"
   ]
  },
  {
   "cell_type": "code",
   "execution_count": null,
   "metadata": {},
   "outputs": [],
   "source": []
  }
 ],
 "metadata": {
  "interpreter": {
   "hash": "1215578185007176f22ab61f9a6c70bda1b2e3219f7f90b26df9d7e5ba7b5384"
  },
  "kernelspec": {
   "display_name": "Python 3.9.2 64-bit ('my_django_environment': conda)",
   "name": "python3"
  },
  "language_info": {
   "name": "python",
   "version": ""
  },
  "orig_nbformat": 4
 },
 "nbformat": 4,
 "nbformat_minor": 2
}