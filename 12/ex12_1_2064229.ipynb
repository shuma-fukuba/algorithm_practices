{
 "cells": [
  {
   "cell_type": "code",
   "execution_count": 2,
   "metadata": {},
   "outputs": [],
   "source": [
    "import itertools\r\n",
    "d0 = [ 8, 14, 13, 7, 15, 12, 16, 15, 12, 9 ]\r\n",
    "d1 = [ 8, 14, 13, 7, 15 ]\r\n",
    "\r\n",
    "d2 = [ 8, 14, 13, 7, 15, 12, 16, 15, 12, 9, 20, 22, 15, 12, 11,\r\n",
    "  25, 13, 7, 10, 6, 11, 11, 5, 8, 16, 7, 11, 18, 12, 9\r\n",
    "]\r\n",
    "\r\n",
    "d3 = [\r\n",
    "   8, 14, 13, 7, 15, 12, 16, 15, 12, 9, 20, 22, 15, 12, 11,\r\n",
    "   8, 14, 13, 7, 15, 12, 16, 15, 12, 9, 20, 22, 15, 12, 11,\r\n",
    "  25, 13, 7, 10, 6, 11, 11, 5, 8, 16, 7, 11, 18, 12, 9,\r\n",
    "  25, 13, 7, 10, 6, 11, 11, 5, 8, 16, 7, 11, 18, 12, 9,\r\n",
    "   8, 14, 13, 7, 15, 12, 16, 15, 12, 9, 20, 22, 15, 12, 11,\r\n",
    "  25, 13, 7, 10, 6, 11, 11, 5, 8, 16, 7, 11, 18, 12, 9,\r\n",
    "   8, 14, 13, 7, 15, 12, 16, 15, 12, 9, 20, 22, 15, 12, 11,\r\n",
    "   8, 14, 13, 7, 15, 12, 16, 15, 12, 9, 20, 22, 15, 12, 11,\r\n",
    "  25, 13, 7, 10, 6, 11, 11, 5, 8, 16, 7, 11, 18, 12, 9,\r\n",
    "  25, 13, 7, 10, 6, 11, 11, 5, 8, 16, 7, 11, 18, 12, 9\r\n",
    "]\r\n",
    "\r\n",
    "d4 = [\r\n",
    "  80000, 140000, 130000, 70000, 150000, 120000, 160000, 150000, 120000, 90000, 200000, 220000, 150000, 120000, 110000,\r\n",
    "  80000, 140000, 130000, 70000, 150000, 120000, 160000, 150000, 120000, 90000, 200000, 220000, 150000, 120000, 110000,\r\n",
    "  250000, 130000, 70000, 100000, 60000, 110000, 110000, 50000, 80000, 160000, 70000, 110000, 180000, 120000, 90000,\r\n",
    "  80000, 140000, 130000, 70000, 150000, 120000, 160000, 150000, 120000, 90000, 200000, 220000, 150000, 120000, 110000,\r\n",
    "  250000, 130000, 70000, 100000, 60000, 110000, 110000, 50000, 80000, 160000, 70000, 110000, 180000, 120000, 90000,\r\n",
    "  250000, 130000, 70000, 100000, 60000, 110000, 110000, 50000, 80000, 160000, 70000, 110000, 180000, 120000, 90000,\r\n",
    "  80000, 140000, 130000, 70000, 150000, 120000, 160000, 150000, 120000, 90000, 200000, 220000, 150000, 120000, 110000,\r\n",
    "  80000, 140000, 130000, 70000, 150000, 120000, 160000, 150000, 120000, 90000, 200000, 220000, 150000, 120000, 110000,\r\n",
    "  250000, 130000, 70000, 100000, 60000, 110000, 110000, 50000, 80000, 160000, 70000, 110000, 180000, 120000, 90000,\r\n",
    "  250000, 130000, 70000, 100000, 60000, 110000, 110000, 50000, 80000, 160000, 70000, 110000, 180000, 120000, 90000\r\n",
    "]"
   ]
  },
  {
   "cell_type": "code",
   "execution_count": 3,
   "metadata": {},
   "outputs": [],
   "source": [
    "class List:\r\n",
    "    def __init__(self, x:list, value, next=None):\r\n",
    "        self.x = x\r\n",
    "        self.value = value\r\n",
    "        self.next = next\r\n",
    "\r\n",
    "class LinkedList:\r\n",
    "    def __init__(self):\r\n",
    "        self.top = List(None, None)\r\n",
    "\r\n",
    "    def index(self,num):\r\n",
    "        cp = self.top\r\n",
    "        while cp:\r\n",
    "            if cp.value == num:\r\n",
    "                for i in range(len(cp.x)):\r\n",
    "                    cp.x[i] += 1\r\n",
    "                print(\"最小の組み合わせは, \", end=\"\")\r\n",
    "                print(cp.x)\r\n",
    "                break\r\n",
    "            cp = cp.next\r\n",
    "\r\n",
    "\r\n",
    "    def insert(self, x, value):\r\n",
    "        front = self.top\r\n",
    "        rear = front.next\r\n",
    "        while rear and value < rear.value:\r\n",
    "            front = rear\r\n",
    "            rear = rear.next\r\n",
    "        cell = List(x, value)\r\n",
    "        cell.next = rear\r\n",
    "        front.next = cell\r\n",
    "\r\n",
    "    def show(self):\r\n",
    "        p = self.top.next\r\n",
    "        while p:\r\n",
    "            print(p.x)\r\n",
    "            print(p.value)\r\n",
    "            p = p.next"
   ]
  },
  {
   "cell_type": "code",
   "execution_count": 4,
   "metadata": {},
   "outputs": [],
   "source": [
    "def mysum(left, right, data):\r\n",
    "    return sum(data[left:right])"
   ]
  },
  {
   "cell_type": "code",
   "execution_count": 5,
   "metadata": {},
   "outputs": [],
   "source": [
    "def main(data):\r\n",
    "    l = LinkedList()\r\n",
    "    n = int(input())\r\n",
    "    print(\"n = {:d}\".format(n))\r\n",
    "    total = sum(data)\r\n",
    "    max_d = 0\r\n",
    "\r\n",
    "    for x in itertools.combinations(list(range(len(data))), n):\r\n",
    "        x = list(x)\r\n",
    "        min_d = total-mysum(x[0], x[-1], data)\r\n",
    "        for i in range(len(x)-1):\r\n",
    "            min_d = min([min_d, mysum(x[i], x[i+1], data)])\r\n",
    "        l.insert(x, min_d)\r\n",
    "        max_d = max(max_d, min_d)\r\n",
    "    l.index(max_d)\r\n",
    "    print(max_d)"
   ]
  },
  {
   "cell_type": "code",
   "execution_count": 104,
   "metadata": {},
   "outputs": [
    {
     "name": "stdout",
     "output_type": "stream",
     "text": [
      "n = 2\n",
      "最小の組み合わせは, [2, 4]\n",
      "27\n"
     ]
    }
   ],
   "source": [
    "main(d1)"
   ]
  },
  {
   "cell_type": "code",
   "execution_count": 105,
   "metadata": {},
   "outputs": [
    {
     "name": "stdout",
     "output_type": "stream",
     "text": [
      "n = 3\n",
      "最小の組み合わせは, [1, 3, 5]\n",
      "15\n"
     ]
    }
   ],
   "source": [
    "main(d1)"
   ]
  },
  {
   "cell_type": "code",
   "execution_count": 106,
   "metadata": {},
   "outputs": [
    {
     "name": "stdout",
     "output_type": "stream",
     "text": [
      "n = 4\n",
      "最小の組み合わせは, [1, 2, 3, 5]\n",
      "8\n"
     ]
    }
   ],
   "source": [
    "main(d1)"
   ]
  },
  {
   "cell_type": "code",
   "execution_count": 107,
   "metadata": {},
   "outputs": [
    {
     "name": "stdout",
     "output_type": "stream",
     "text": [
      "n = 2\n",
      "最小の組み合わせは, [2, 7]\n",
      "60\n"
     ]
    }
   ],
   "source": [
    "main(d0)"
   ]
  },
  {
   "cell_type": "code",
   "execution_count": 108,
   "metadata": {},
   "outputs": [
    {
     "name": "stdout",
     "output_type": "stream",
     "text": [
      "n = 3\n",
      "最小の組み合わせは, [1, 5, 8]\n",
      "36\n"
     ]
    }
   ],
   "source": [
    "main(d0)"
   ]
  },
  {
   "cell_type": "code",
   "execution_count": 109,
   "metadata": {},
   "outputs": [
    {
     "name": "stdout",
     "output_type": "stream",
     "text": [
      "n = 4\n",
      "最小の組み合わせは, [3, 6, 8, 10]\n",
      "27\n"
     ]
    }
   ],
   "source": [
    "main(d0)"
   ]
  },
  {
   "cell_type": "code",
   "execution_count": null,
   "metadata": {},
   "outputs": [],
   "source": []
  }
 ],
 "metadata": {
  "interpreter": {
   "hash": "4e9d0c9023791c00d461768debe42cb8d4f7ee10b618a3c4b57dfa37c6faa26d"
  },
  "kernelspec": {
   "display_name": "Python 3.7.6 64-bit ('base': conda)",
   "name": "python3"
  },
  "language_info": {
   "codemirror_mode": {
    "name": "ipython",
    "version": 3
   },
   "file_extension": ".py",
   "mimetype": "text/x-python",
   "name": "python",
   "nbconvert_exporter": "python",
   "pygments_lexer": "ipython3",
   "version": "3.7.6"
  },
  "orig_nbformat": 4
 },
 "nbformat": 4,
 "nbformat_minor": 2
}